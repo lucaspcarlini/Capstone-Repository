{
 "cells": [
  {
   "cell_type": "markdown",
   "metadata": {},
   "source": [
    "# Applied Data Science Capstone\n",
    "\n",
    "## 'This is so New York!!!' "
   ]
  },
  {
   "cell_type": "markdown",
   "metadata": {},
   "source": [
    "### 1. Introduction\n",
    "\n",
    "#### Everyone has heard the following phrase: 'This is so New York!!'. Or maybe saying it about another famous city in the world. Maybe you heard it when someone just saw something that remembers this person of New York.  Of course, this can happen to almost everything! However, there is some quite unique places in New York City, isn´t? But, actually, are there characteristics of New York that distinguish it from other cities? Like Toronto, perhaps?\n",
    "\n",
    "#### We are going to try to answer that question by using some foursquare data, such as restaurants, coffee places, etc! We are going to use some machine learning algorithms trying to extract the characteristics that defines it city in order to classify each Neighbourhood as belonging to Toronto or New York. If our models succeed to do it so, there are characteristics that defines each city, and, actually, it is correct to say 'This is so New York!!'. In the other hand, if our models fails to classify each Neighbourhood, we can say that both cities are very similar!\n",
    "\n",
    "\n",
    "### 2. Data\n",
    "\n",
    "#### We are going to use data from the past labs of the Applied Data Science Capstone Course. These data contain the coordinates of each Neighbourhood and the corresponding Borough. Then, we will use maps provided by the Folium package to illustrate these Neighbourhoods.\n",
    "\n",
    "#### Moreover, we are going to use the Foursquare API to fetch data about venues, such as restaurants, museums and shops. These data will be the features of each sample to our model!\n",
    "\n",
    "#### So, our final dataset will contain one hot enconded venues categories with the corresponding neighborhood!\n"
   ]
  },
  {
   "cell_type": "markdown",
   "metadata": {},
   "source": [
    "Let's import some useful packages:"
   ]
  },
  {
   "cell_type": "code",
   "execution_count": null,
   "metadata": {},
   "outputs": [],
   "source": [
    "import requests # library to handle requests\n",
    "import pandas as pd # library for data analsysis\n",
    "import numpy as np # library to handle data in a vectorized manner\n",
    "import random # library for random number generation\n",
    "\n",
    "# libraries for displaying images\n",
    "from IPython.display import Image \n",
    "from IPython.core.display import HTML \n",
    "    \n",
    "# tranforming json file into a pandas dataframe library\n",
    "from pandas.io.json import json_normalize\n",
    "\n",
    "#!conda install -c conda-forge folium=0.5.0 --yes\n",
    "import folium # plotting library\n",
    "\n",
    "from geopy.geocoders import Nominatim # module to convert an address into latitude and longitude values\n",
    "\n",
    "import folium # plotting library\n",
    "\n",
    "print('Imported!')"
   ]
  },
  {
   "cell_type": "markdown",
   "metadata": {},
   "source": [
    "### Data prepocessing and overview"
   ]
  },
  {
   "cell_type": "markdown",
   "metadata": {},
   "source": [
    "Firstly, we need to import previously used data of both cities, New York and Toronto! These data contains the neighborhood name and its corresponding Borough, Latitude and Longitude."
   ]
  },
  {
   "cell_type": "code",
   "execution_count": null,
   "metadata": {},
   "outputs": [],
   "source": [
    "toronto = pd.read_csv('toronto_data.csv', index_col=0)\n",
    "new_york = pd.read_csv('manhattan_data.csv', index_col=0)"
   ]
  },
  {
   "cell_type": "markdown",
   "metadata": {},
   "source": [
    "Below we can see our data and how it is structured:"
   ]
  },
  {
   "cell_type": "code",
   "execution_count": 49,
   "metadata": {},
   "outputs": [
    {
     "name": "stdout",
     "output_type": "stream",
     "text": [
      "We have 39 neighborhoods!\n"
     ]
    },
    {
     "data": {
      "text/html": [
       "<div>\n",
       "<style scoped>\n",
       "    .dataframe tbody tr th:only-of-type {\n",
       "        vertical-align: middle;\n",
       "    }\n",
       "\n",
       "    .dataframe tbody tr th {\n",
       "        vertical-align: top;\n",
       "    }\n",
       "\n",
       "    .dataframe thead th {\n",
       "        text-align: right;\n",
       "    }\n",
       "</style>\n",
       "<table border=\"1\" class=\"dataframe\">\n",
       "  <thead>\n",
       "    <tr style=\"text-align: right;\">\n",
       "      <th></th>\n",
       "      <th>Borough</th>\n",
       "      <th>Neighborhood</th>\n",
       "      <th>Latitude</th>\n",
       "      <th>Longitude</th>\n",
       "    </tr>\n",
       "  </thead>\n",
       "  <tbody>\n",
       "    <tr>\n",
       "      <th>0</th>\n",
       "      <td>East Toronto</td>\n",
       "      <td>The Beaches</td>\n",
       "      <td>43.676357</td>\n",
       "      <td>-79.293031</td>\n",
       "    </tr>\n",
       "    <tr>\n",
       "      <th>1</th>\n",
       "      <td>East Toronto</td>\n",
       "      <td>Riverdale, The Danforth West</td>\n",
       "      <td>43.679557</td>\n",
       "      <td>-79.352188</td>\n",
       "    </tr>\n",
       "    <tr>\n",
       "      <th>2</th>\n",
       "      <td>East Toronto</td>\n",
       "      <td>The Beaches West, India Bazaar</td>\n",
       "      <td>43.668999</td>\n",
       "      <td>-79.315572</td>\n",
       "    </tr>\n",
       "    <tr>\n",
       "      <th>3</th>\n",
       "      <td>East Toronto</td>\n",
       "      <td>Studio District</td>\n",
       "      <td>43.659526</td>\n",
       "      <td>-79.340923</td>\n",
       "    </tr>\n",
       "    <tr>\n",
       "      <th>4</th>\n",
       "      <td>Central Toronto</td>\n",
       "      <td>Lawrence Park</td>\n",
       "      <td>43.728020</td>\n",
       "      <td>-79.388790</td>\n",
       "    </tr>\n",
       "  </tbody>\n",
       "</table>\n",
       "</div>"
      ],
      "text/plain": [
       "           Borough                    Neighborhood   Latitude  Longitude\n",
       "0     East Toronto                     The Beaches  43.676357 -79.293031\n",
       "1     East Toronto    Riverdale, The Danforth West  43.679557 -79.352188\n",
       "2     East Toronto  The Beaches West, India Bazaar  43.668999 -79.315572\n",
       "3     East Toronto                 Studio District  43.659526 -79.340923\n",
       "4  Central Toronto                   Lawrence Park  43.728020 -79.388790"
      ]
     },
     "execution_count": 49,
     "metadata": {},
     "output_type": "execute_result"
    }
   ],
   "source": [
    "print('We have',toronto.shape[0],'neighborhoods!')\n",
    "toronto.head()"
   ]
  },
  {
   "cell_type": "code",
   "execution_count": 50,
   "metadata": {},
   "outputs": [
    {
     "name": "stdout",
     "output_type": "stream",
     "text": [
      "We have 40 neighborhoods!\n"
     ]
    },
    {
     "data": {
      "text/html": [
       "<div>\n",
       "<style scoped>\n",
       "    .dataframe tbody tr th:only-of-type {\n",
       "        vertical-align: middle;\n",
       "    }\n",
       "\n",
       "    .dataframe tbody tr th {\n",
       "        vertical-align: top;\n",
       "    }\n",
       "\n",
       "    .dataframe thead th {\n",
       "        text-align: right;\n",
       "    }\n",
       "</style>\n",
       "<table border=\"1\" class=\"dataframe\">\n",
       "  <thead>\n",
       "    <tr style=\"text-align: right;\">\n",
       "      <th></th>\n",
       "      <th>Borough</th>\n",
       "      <th>Neighborhood</th>\n",
       "      <th>Latitude</th>\n",
       "      <th>Longitude</th>\n",
       "    </tr>\n",
       "  </thead>\n",
       "  <tbody>\n",
       "    <tr>\n",
       "      <th>0</th>\n",
       "      <td>Manhattan</td>\n",
       "      <td>Marble Hill</td>\n",
       "      <td>40.876551</td>\n",
       "      <td>-73.910660</td>\n",
       "    </tr>\n",
       "    <tr>\n",
       "      <th>1</th>\n",
       "      <td>Manhattan</td>\n",
       "      <td>Chinatown</td>\n",
       "      <td>40.715618</td>\n",
       "      <td>-73.994279</td>\n",
       "    </tr>\n",
       "    <tr>\n",
       "      <th>2</th>\n",
       "      <td>Manhattan</td>\n",
       "      <td>Washington Heights</td>\n",
       "      <td>40.851903</td>\n",
       "      <td>-73.936900</td>\n",
       "    </tr>\n",
       "    <tr>\n",
       "      <th>3</th>\n",
       "      <td>Manhattan</td>\n",
       "      <td>Inwood</td>\n",
       "      <td>40.867684</td>\n",
       "      <td>-73.921210</td>\n",
       "    </tr>\n",
       "    <tr>\n",
       "      <th>4</th>\n",
       "      <td>Manhattan</td>\n",
       "      <td>Hamilton Heights</td>\n",
       "      <td>40.823604</td>\n",
       "      <td>-73.949688</td>\n",
       "    </tr>\n",
       "  </tbody>\n",
       "</table>\n",
       "</div>"
      ],
      "text/plain": [
       "     Borough        Neighborhood   Latitude  Longitude\n",
       "0  Manhattan         Marble Hill  40.876551 -73.910660\n",
       "1  Manhattan           Chinatown  40.715618 -73.994279\n",
       "2  Manhattan  Washington Heights  40.851903 -73.936900\n",
       "3  Manhattan              Inwood  40.867684 -73.921210\n",
       "4  Manhattan    Hamilton Heights  40.823604 -73.949688"
      ]
     },
     "execution_count": 50,
     "metadata": {},
     "output_type": "execute_result"
    }
   ],
   "source": [
    "print('We have',new_york.shape[0],'neighborhoods!')\n",
    "new_york.head()"
   ]
  },
  {
   "cell_type": "markdown",
   "metadata": {},
   "source": [
    "We have a quite balanced data set!\n",
    "\n",
    "And, finally, using Folium's map, we can the actual location of each neighborhood of both cities:"
   ]
  },
  {
   "cell_type": "code",
   "execution_count": 395,
   "metadata": {},
   "outputs": [
    {
     "data": {
      "text/html": [
       "<div style=\"width:100%;\"><div style=\"position:relative;width:100%;height:0;padding-bottom:60%;\"><iframe src=\"data:text/html;charset=utf-8;base64,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\" style=\"position:absolute;width:100%;height:100%;left:0;top:0;border:none !important;\" allowfullscreen webkitallowfullscreen mozallowfullscreen></iframe></div></div>"
      ],
      "text/plain": [
       "<folium.folium.Map at 0x221d29e7e48>"
      ]
     },
     "execution_count": 395,
     "metadata": {},
     "output_type": "execute_result"
    }
   ],
   "source": [
    "address = 'Toronto, ON'\n",
    "\n",
    "geolocator = Nominatim(user_agent=\"ny_explorer\")\n",
    "location = geolocator.geocode(address)\n",
    "\n",
    "latitude = location.latitude\n",
    "longitude = location.longitude\n",
    "\n",
    "# create map of Toronto using latitude and longitude values\n",
    "map_toronto = folium.Map(location=[latitude, longitude], zoom_start=11)\n",
    "\n",
    "# add markers to map\n",
    "for lat, lng, borough, neighborhood in zip(toronto['Latitude'], toronto['Longitude'], toronto['Borough'], toronto['Neighborhood']):\n",
    "    label = '{}, {}'.format(neighborhood, borough)\n",
    "    label = folium.Popup(label, parse_html=True)\n",
    "    folium.CircleMarker(\n",
    "        [lat, lng],\n",
    "        radius=5,\n",
    "        popup=label,\n",
    "        color='blue',\n",
    "        fill=True,\n",
    "        fill_color='#3186cc',\n",
    "        fill_opacity=0.7,\n",
    "        parse_html=False).add_to(map_toronto)  \n",
    "    \n",
    "map_toronto"
   ]
  },
  {
   "cell_type": "code",
   "execution_count": 401,
   "metadata": {},
   "outputs": [
    {
     "data": {
      "text/html": [
       "<div style=\"width:100%;\"><div style=\"position:relative;width:100%;height:0;padding-bottom:60%;\"><iframe src=\"data:text/html;charset=utf-8;base64,PCFET0NUWVBFIGh0bWw+CjxoZWFkPiAgICAKICAgIDxtZXRhIGh0dHAtZXF1aXY9ImNvbnRlbnQtdHlwZSIgY29udGVudD0idGV4dC9odG1sOyBjaGFyc2V0PVVURi04IiAvPgogICAgPHNjcmlwdD5MX1BSRUZFUl9DQU5WQVMgPSBmYWxzZTsgTF9OT19UT1VDSCA9IGZhbHNlOyBMX0RJU0FCTEVfM0QgPSBmYWxzZTs8L3NjcmlwdD4KICAgIDxzY3JpcHQgc3JjPSJodHRwczovL2Nkbi5qc2RlbGl2ci5uZXQvbnBtL2xlYWZsZXRAMS4yLjAvZGlzdC9sZWFmbGV0LmpzIj48L3NjcmlwdD4KICAgIDxzY3JpcHQgc3JjPSJodHRwczovL2FqYXguZ29vZ2xlYXBpcy5jb20vYWpheC9saWJzL2pxdWVyeS8xLjExLjEvanF1ZXJ5Lm1pbi5qcyI+PC9zY3JpcHQ+CiAgICA8c2NyaXB0IHNyYz0iaHR0cHM6Ly9tYXhjZG4uYm9vdHN0cmFwY2RuLmNvbS9ib290c3RyYXAvMy4yLjAvanMvYm9vdHN0cmFwLm1pbi5qcyI+PC9zY3JpcHQ+CiAgICA8c2NyaXB0IHNyYz0iaHR0cHM6Ly9jZG5qcy5jbG91ZGZsYXJlLmNvbS9hamF4L2xpYnMvTGVhZmxldC5hd2Vzb21lLW1hcmtlcnMvMi4wLjIvbGVhZmxldC5hd2Vzb21lLW1hcmtlcnMuanMiPjwvc2NyaXB0PgogICAgPGxpbmsgcmVsPSJzdHlsZXNoZWV0IiBocmVmPSJodHRwczovL2Nkbi5qc2RlbGl2ci5uZXQvbnBtL2xlYWZsZXRAMS4yLjAvZGlzdC9sZWFmbGV0LmNzcyIvPgogICAgPGxpbmsgcmVsPSJzdHlsZXNoZWV0IiBocmVmPSJodHRwczovL21heGNkbi5ib290c3RyYXBjZG4uY29tL2Jvb3RzdHJhcC8zLjIuMC9jc3MvYm9vdHN0cmFwLm1pbi5jc3MiLz4KICAgIDxsaW5rIHJlbD0ic3R5bGVzaGVldCIgaHJlZj0iaHR0cHM6Ly9tYXhjZG4uYm9vdHN0cmFwY2RuLmNvbS9ib290c3RyYXAvMy4yLjAvY3NzL2Jvb3RzdHJhcC10aGVtZS5taW4uY3NzIi8+CiAgICA8bGluayByZWw9InN0eWxlc2hlZXQiIGhyZWY9Imh0dHBzOi8vbWF4Y2RuLmJvb3RzdHJhcGNkbi5jb20vZm9udC1hd2Vzb21lLzQuNi4zL2Nzcy9mb250LWF3ZXNvbWUubWluLmNzcyIvPgogICAgPGxpbmsgcmVsPSJzdHlsZXNoZWV0IiBocmVmPSJodHRwczovL2NkbmpzLmNsb3VkZmxhcmUuY29tL2FqYXgvbGlicy9MZWFmbGV0LmF3ZXNvbWUtbWFya2Vycy8yLjAuMi9sZWFmbGV0LmF3ZXNvbWUtbWFya2Vycy5jc3MiLz4KICAgIDxsaW5rIHJlbD0ic3R5bGVzaGVldCIgaHJlZj0iaHR0cHM6Ly9yYXdnaXQuY29tL3B5dGhvbi12aXN1YWxpemF0aW9uL2ZvbGl1bS9tYXN0ZXIvZm9saXVtL3RlbXBsYXRlcy9sZWFmbGV0LmF3ZXNvbWUucm90YXRlLmNzcyIvPgogICAgPHN0eWxlPmh0bWwsIGJvZHkge3dpZHRoOiAxMDAlO2hlaWdodDogMTAwJTttYXJnaW46IDA7cGFkZGluZzogMDt9PC9zdHlsZT4KICAgIDxzdHlsZT4jbWFwIHtwb3NpdGlvbjphYnNvbHV0ZTt0b3A6MDtib3R0b206MDtyaWdodDowO2xlZnQ6MDt9PC9zdHlsZT4KICAgIAogICAgICAgICAgICA8c3R5bGU+ICNtYXBfMGQ3ZmJiN2QyZDYxNDk1ZDg4M2IwMTllZTZjYjhiZjMgewogICAgICAgICAgICAgICAgcG9zaXRpb24gOiByZWxhdGl2ZTsKICAgICAgICAgICAgICAgIHdpZHRoIDogMTAwLjAlOwogICAgICAgICAgICAgICAgaGVpZ2h0OiAxMDAuMCU7CiAgICAgICAgICAgICAgICBsZWZ0OiAwLjAlOwogICAgICAgICAgICAgICAgdG9wOiAwLjAlOwogICAgICAgICAgICAgICAgfQogICAgICAgICAgICA8L3N0eWxlPgogICAgICAgIAo8L2hlYWQ+Cjxib2R5PiAgICAKICAgIAogICAgICAgICAgICA8ZGl2IGNsYXNzPSJmb2xpdW0tbWFwIiBpZD0ibWFwXzBkN2ZiYjdkMmQ2MTQ5NWQ4ODNiMDE5ZWU2Y2I4YmYzIiA+PC9kaXY+CiAgICAgICAgCjwvYm9keT4KPHNjcmlwdD4gICAgCiAgICAKCiAgICAgICAgICAgIAogICAgICAgICAgICAgICAgdmFyIGJvdW5kcyA9IG51bGw7CiAgICAgICAgICAgIAoKICAgICAgICAgICAgdmFyIG1hcF8wZDdmYmI3ZDJkNjE0OTVkODgzYjAxOWVlNmNiOGJmMyA9IEwubWFwKAogICAgICAgICAgICAgICAgICAgICAgICAgICAgICAgICAgJ21hcF8wZDdmYmI3ZDJkNjE0OTVkODgzYjAxOWVlNmNiOGJmMycsCiAgICAgICAgICAgICAgICAgICAgICAgICAgICAgICAgICB7Y2VudGVyOiBbNDAuNzg5NjIzOSwtNzMuOTU5ODkzOV0sCiAgICAgICAgICAgICAgICAgICAgICAgICAgICAgICAgICB6b29tOiAxMSwKICAgICAgICAgICAgICAgICAgICAgICAgICAgICAgICAgIG1heEJvdW5kczogYm91bmRzLAogICAgICAgICAgICAgICAgICAgICAgICAgICAgICAgICAgbGF5ZXJzOiBbXSwKICAgICAgICAgICAgICAgICAgICAgICAgICAgICAgICAgIHdvcmxkQ29weUp1bXA6IGZhbHNlLAogICAgICAgICAgICAgICAgICAgICAgICAgICAgICAgICAgY3JzOiBMLkNSUy5FUFNHMzg1NwogICAgICAgICAgICAgICAgICAgICAgICAgICAgICAgICB9KTsKICAgICAgICAgICAgCiAgICAgICAgCiAgICAKICAgICAgICAgICAgdmFyIHRpbGVfbGF5ZXJfNmJjOWIyYjlkOTlhNDdmNDk0ZWY5MDI4ODgwNGY0YzQgPSBMLnRpbGVMYXllcigKICAgICAgICAgICAgICAgICdodHRwczovL3tzfS50aWxlLm9wZW5zdHJlZXRtYXAub3JnL3t6fS97eH0ve3l9LnBuZycsCiAgICAgICAgICAgICAgICB7CiAgImF0dHJpYnV0aW9uIjogbnVsbCwKICAiZGV0ZWN0UmV0aW5hIjogZmFsc2UsCiAgIm1heFpvb20iOiAxOCwKICAibWluWm9vbSI6IDEsCiAgIm5vV3JhcCI6IGZhbHNlLAogICJzdWJkb21haW5zIjogImFiYyIKfQogICAgICAgICAgICAgICAgKS5hZGRUbyhtYXBfMGQ3ZmJiN2QyZDYxNDk1ZDg4M2IwMTllZTZjYjhiZjMpOwogICAgICAgIAogICAgCiAgICAgICAgICAgIHZhciBjaXJjbGVfbWFya2VyXzEwZWRhZDFiZTlkZTQ0YmFhMjEyOGFlMTA0YWU2OWRlID0gTC5jaXJjbGVNYXJrZXIoCiAgICAgICAgICAgICAgICBbNDAuODc2NTUwNzc4Nzk5NjQsLTczLjkxMDY1OTY1ODYyOTgxXSwKICAgICAgICAgICAgICAgIHsKICAiYnViYmxpbmdNb3VzZUV2ZW50cyI6IHRydWUsCiAgImNvbG9yIjogImJsdWUiLAogICJkYXNoQXJyYXkiOiBudWxsLAogICJkYXNoT2Zmc2V0IjogbnVsbCwKICAiZmlsbCI6IHRydWUsCiAgImZpbGxDb2xvciI6ICIjMzE4NmNjIiwKICAiZmlsbE9wYWNpdHkiOiAwLjcsCiAgImZpbGxSdWxlIjogImV2ZW5vZGQiLAogICJsaW5lQ2FwIjogInJvdW5kIiwKICAibGluZUpvaW4iOiAicm91bmQiLAogICJvcGFjaXR5IjogMS4wLAogICJyYWRpdXMiOiA1LAogICJzdHJva2UiOiB0cnVlLAogICJ3ZWlnaHQiOiAzCn0KICAgICAgICAgICAgICAgICkuYWRkVG8obWFwXzBkN2ZiYjdkMmQ2MTQ5NWQ4ODNiMDE5ZWU2Y2I4YmYzKTsKICAgICAgICAgICAgCiAgICAKICAgICAgICAgICAgdmFyIHBvcHVwXzM3Njk5YmQ1YzdlMjQ2ZGE5MzQ5MjA1YWM2OWQwNmE4ID0gTC5wb3B1cCh7bWF4V2lkdGg6ICczMDAnfSk7CgogICAgICAgICAgICAKICAgICAgICAgICAgICAgIHZhciBodG1sX2Q5ZGY0ZDVhZWY1MjQ0MzRiMzlmOWZhYzViOWJiYWJhID0gJCgnPGRpdiBpZD0iaHRtbF9kOWRmNGQ1YWVmNTI0NDM0YjM5ZjlmYWM1YjliYmFiYSIgc3R5bGU9IndpZHRoOiAxMDAuMCU7IGhlaWdodDogMTAwLjAlOyI+TWFyYmxlIEhpbGwsIE1hbmhhdHRhbjwvZGl2PicpWzBdOwogICAgICAgICAgICAgICAgcG9wdXBfMzc2OTliZDVjN2UyNDZkYTkzNDkyMDVhYzY5ZDA2YTguc2V0Q29udGVudChodG1sX2Q5ZGY0ZDVhZWY1MjQ0MzRiMzlmOWZhYzViOWJiYWJhKTsKICAgICAgICAgICAgCgogICAgICAgICAgICBjaXJjbGVfbWFya2VyXzEwZWRhZDFiZTlkZTQ0YmFhMjEyOGFlMTA0YWU2OWRlLmJpbmRQb3B1cChwb3B1cF8zNzY5OWJkNWM3ZTI0NmRhOTM0OTIwNWFjNjlkMDZhOCk7CgogICAgICAgICAgICAKICAgICAgICAKICAgIAogICAgICAgICAgICB2YXIgY2lyY2xlX21hcmtlcl85MzliYzcxMWNlMWU0M2Y2YjUxZWUwMTI5NWU5NTY5YiA9IEwuY2lyY2xlTWFya2VyKAogICAgICAgICAgICAgICAgWzQwLjcxNTYxODQyMjMxNDMyLC03My45OTQyNzkzNjI1NTk3OF0sCiAgICAgICAgICAgICAgICB7CiAgImJ1YmJsaW5nTW91c2VFdmVudHMiOiB0cnVlLAogICJjb2xvciI6ICJibHVlIiwKICAiZGFzaEFycmF5IjogbnVsbCwKICAiZGFzaE9mZnNldCI6IG51bGwsCiAgImZpbGwiOiB0cnVlLAogICJmaWxsQ29sb3IiOiAiIzMxODZjYyIsCiAgImZpbGxPcGFjaXR5IjogMC43LAogICJmaWxsUnVsZSI6ICJldmVub2RkIiwKICAibGluZUNhcCI6ICJyb3VuZCIsCiAgImxpbmVKb2luIjogInJvdW5kIiwKICAib3BhY2l0eSI6IDEuMCwKICAicmFkaXVzIjogNSwKICAic3Ryb2tlIjogdHJ1ZSwKICAid2VpZ2h0IjogMwp9CiAgICAgICAgICAgICAgICApLmFkZFRvKG1hcF8wZDdmYmI3ZDJkNjE0OTVkODgzYjAxOWVlNmNiOGJmMyk7CiAgICAgICAgICAgIAogICAgCiAgICAgICAgICAgIHZhciBwb3B1cF85MzU0MTFiNTJkYjM0ZGJhYjEzMjUzZDRiMDUzMzcyZSA9IEwucG9wdXAoe21heFdpZHRoOiAnMzAwJ30pOwoKICAgICAgICAgICAgCiAgICAgICAgICAgICAgICB2YXIgaHRtbF85M2Y2ZGJhZGQwMjM0NDU3YWNiN2NkNTExNmM1NjcxYSA9ICQoJzxkaXYgaWQ9Imh0bWxfOTNmNmRiYWRkMDIzNDQ1N2FjYjdjZDUxMTZjNTY3MWEiIHN0eWxlPSJ3aWR0aDogMTAwLjAlOyBoZWlnaHQ6IDEwMC4wJTsiPkNoaW5hdG93biwgTWFuaGF0dGFuPC9kaXY+JylbMF07CiAgICAgICAgICAgICAgICBwb3B1cF85MzU0MTFiNTJkYjM0ZGJhYjEzMjUzZDRiMDUzMzcyZS5zZXRDb250ZW50KGh0bWxfOTNmNmRiYWRkMDIzNDQ1N2FjYjdjZDUxMTZjNTY3MWEpOwogICAgICAgICAgICAKCiAgICAgICAgICAgIGNpcmNsZV9tYXJrZXJfOTM5YmM3MTFjZTFlNDNmNmI1MWVlMDEyOTVlOTU2OWIuYmluZFBvcHVwKHBvcHVwXzkzNTQxMWI1MmRiMzRkYmFiMTMyNTNkNGIwNTMzNzJlKTsKCiAgICAgICAgICAgIAogICAgICAgIAogICAgCiAgICAgICAgICAgIHZhciBjaXJjbGVfbWFya2VyXzE2NTc3NjcwN2ViNDQ5MmQ4MTRmYjNmMTk4OWUyZTdmID0gTC5jaXJjbGVNYXJrZXIoCiAgICAgICAgICAgICAgICBbNDAuODUxOTAyNTI1NTUzMDQ0LC03My45MzY5MDAyNzk4NTIzNF0sCiAgICAgICAgICAgICAgICB7CiAgImJ1YmJsaW5nTW91c2VFdmVudHMiOiB0cnVlLAogICJjb2xvciI6ICJibHVlIiwKICAiZGFzaEFycmF5IjogbnVsbCwKICAiZGFzaE9mZnNldCI6IG51bGwsCiAgImZpbGwiOiB0cnVlLAogICJmaWxsQ29sb3IiOiAiIzMxODZjYyIsCiAgImZpbGxPcGFjaXR5IjogMC43LAogICJmaWxsUnVsZSI6ICJldmVub2RkIiwKICAibGluZUNhcCI6ICJyb3VuZCIsCiAgImxpbmVKb2luIjogInJvdW5kIiwKICAib3BhY2l0eSI6IDEuMCwKICAicmFkaXVzIjogNSwKICAic3Ryb2tlIjogdHJ1ZSwKICAid2VpZ2h0IjogMwp9CiAgICAgICAgICAgICAgICApLmFkZFRvKG1hcF8wZDdmYmI3ZDJkNjE0OTVkODgzYjAxOWVlNmNiOGJmMyk7CiAgICAgICAgICAgIAogICAgCiAgICAgICAgICAgIHZhciBwb3B1cF9iYzQ1YzJmZmU2YzI0ZWQ1OTVmMzVkZGE0MWM4ZWFjNiA9IEwucG9wdXAoe21heFdpZHRoOiAnMzAwJ30pOwoKICAgICAgICAgICAgCiAgICAgICAgICAgICAgICB2YXIgaHRtbF9hYjljNDMwMDUzNWY0OTQ0OTQ0ZGJjYzNlNzQzOGIzOSA9ICQoJzxkaXYgaWQ9Imh0bWxfYWI5YzQzMDA1MzVmNDk0NDk0NGRiY2MzZTc0MzhiMzkiIHN0eWxlPSJ3aWR0aDogMTAwLjAlOyBoZWlnaHQ6IDEwMC4wJTsiPldhc2hpbmd0b24gSGVpZ2h0cywgTWFuaGF0dGFuPC9kaXY+JylbMF07CiAgICAgICAgICAgICAgICBwb3B1cF9iYzQ1YzJmZmU2YzI0ZWQ1OTVmMzVkZGE0MWM4ZWFjNi5zZXRDb250ZW50KGh0bWxfYWI5YzQzMDA1MzVmNDk0NDk0NGRiY2MzZTc0MzhiMzkpOwogICAgICAgICAgICAKCiAgICAgICAgICAgIGNpcmNsZV9tYXJrZXJfMTY1Nzc2NzA3ZWI0NDkyZDgxNGZiM2YxOTg5ZTJlN2YuYmluZFBvcHVwKHBvcHVwX2JjNDVjMmZmZTZjMjRlZDU5NWYzNWRkYTQxYzhlYWM2KTsKCiAgICAgICAgICAgIAogICAgICAgIAogICAgCiAgICAgICAgICAgIHZhciBjaXJjbGVfbWFya2VyXzliM2ZmZGE0ZTZkMzQyMzFhMmQzNGY4MWZjZmJhNzk1ID0gTC5jaXJjbGVNYXJrZXIoCiAgICAgICAgICAgICAgICBbNDAuODY3NjgzOTY0NDk5MTUsLTczLjkyMTIxMDQyMjAzODk3XSwKICAgICAgICAgICAgICAgIHsKICAiYnViYmxpbmdNb3VzZUV2ZW50cyI6IHRydWUsCiAgImNvbG9yIjogImJsdWUiLAogICJkYXNoQXJyYXkiOiBudWxsLAogICJkYXNoT2Zmc2V0IjogbnVsbCwKICAiZmlsbCI6IHRydWUsCiAgImZpbGxDb2xvciI6ICIjMzE4NmNjIiwKICAiZmlsbE9wYWNpdHkiOiAwLjcsCiAgImZpbGxSdWxlIjogImV2ZW5vZGQiLAogICJsaW5lQ2FwIjogInJvdW5kIiwKICAibGluZUpvaW4iOiAicm91bmQiLAogICJvcGFjaXR5IjogMS4wLAogICJyYWRpdXMiOiA1LAogICJzdHJva2UiOiB0cnVlLAogICJ3ZWlnaHQiOiAzCn0KICAgICAgICAgICAgICAgICkuYWRkVG8obWFwXzBkN2ZiYjdkMmQ2MTQ5NWQ4ODNiMDE5ZWU2Y2I4YmYzKTsKICAgICAgICAgICAgCiAgICAKICAgICAgICAgICAgdmFyIHBvcHVwXzJkOTUxM2Y2MmNkNTRmNmI4MmQ4ZGJlY2EwMWNmN2RjID0gTC5wb3B1cCh7bWF4V2lkdGg6ICczMDAnfSk7CgogICAgICAgICAgICAKICAgICAgICAgICAgICAgIHZhciBodG1sXzkxMmQ2MGViNzU4MjQ5NmNiYmMwOWRlNGYxOGUxMDE2ID0gJCgnPGRpdiBpZD0iaHRtbF85MTJkNjBlYjc1ODI0OTZjYmJjMDlkZTRmMThlMTAxNiIgc3R5bGU9IndpZHRoOiAxMDAuMCU7IGhlaWdodDogMTAwLjAlOyI+SW53b29kLCBNYW5oYXR0YW48L2Rpdj4nKVswXTsKICAgICAgICAgICAgICAgIHBvcHVwXzJkOTUxM2Y2MmNkNTRmNmI4MmQ4ZGJlY2EwMWNmN2RjLnNldENvbnRlbnQoaHRtbF85MTJkNjBlYjc1ODI0OTZjYmJjMDlkZTRmMThlMTAxNik7CiAgICAgICAgICAgIAoKICAgICAgICAgICAgY2lyY2xlX21hcmtlcl85YjNmZmRhNGU2ZDM0MjMxYTJkMzRmODFmY2ZiYTc5NS5iaW5kUG9wdXAocG9wdXBfMmQ5NTEzZjYyY2Q1NGY2YjgyZDhkYmVjYTAxY2Y3ZGMpOwoKICAgICAgICAgICAgCiAgICAgICAgCiAgICAKICAgICAgICAgICAgdmFyIGNpcmNsZV9tYXJrZXJfNjM0M2ZiMjY5MzQ2NDFiYzljNjc0NTRkZjIwMDgyMWYgPSBMLmNpcmNsZU1hcmtlcigKICAgICAgICAgICAgICAgIFs0MC44MjM2MDQyODQ4MTE5MzUsLTczLjk0OTY4NzkxODgzMzY2XSwKICAgICAgICAgICAgICAgIHsKICAiYnViYmxpbmdNb3VzZUV2ZW50cyI6IHRydWUsCiAgImNvbG9yIjogImJsdWUiLAogICJkYXNoQXJyYXkiOiBudWxsLAogICJkYXNoT2Zmc2V0IjogbnVsbCwKICAiZmlsbCI6IHRydWUsCiAgImZpbGxDb2xvciI6ICIjMzE4NmNjIiwKICAiZmlsbE9wYWNpdHkiOiAwLjcsCiAgImZpbGxSdWxlIjogImV2ZW5vZGQiLAogICJsaW5lQ2FwIjogInJvdW5kIiwKICAibGluZUpvaW4iOiAicm91bmQiLAogICJvcGFjaXR5IjogMS4wLAogICJyYWRpdXMiOiA1LAogICJzdHJva2UiOiB0cnVlLAogICJ3ZWlnaHQiOiAzCn0KICAgICAgICAgICAgICAgICkuYWRkVG8obWFwXzBkN2ZiYjdkMmQ2MTQ5NWQ4ODNiMDE5ZWU2Y2I4YmYzKTsKICAgICAgICAgICAgCiAgICAKICAgICAgICAgICAgdmFyIHBvcHVwX2QxYjM5MjlmN2JhNzQxOWM4NTY2ODBjMzI2ODg3NDE5ID0gTC5wb3B1cCh7bWF4V2lkdGg6ICczMDAnfSk7CgogICAgICAgICAgICAKICAgICAgICAgICAgICAgIHZhciBodG1sXzE4ODEzMTIxZDkzYjQ0NDE4ZmZlMGEyYWQ1ZTlhNzg2ID0gJCgnPGRpdiBpZD0iaHRtbF8xODgxMzEyMWQ5M2I0NDQxOGZmZTBhMmFkNWU5YTc4NiIgc3R5bGU9IndpZHRoOiAxMDAuMCU7IGhlaWdodDogMTAwLjAlOyI+SGFtaWx0b24gSGVpZ2h0cywgTWFuaGF0dGFuPC9kaXY+JylbMF07CiAgICAgICAgICAgICAgICBwb3B1cF9kMWIzOTI5ZjdiYTc0MTljODU2NjgwYzMyNjg4NzQxOS5zZXRDb250ZW50KGh0bWxfMTg4MTMxMjFkOTNiNDQ0MThmZmUwYTJhZDVlOWE3ODYpOwogICAgICAgICAgICAKCiAgICAgICAgICAgIGNpcmNsZV9tYXJrZXJfNjM0M2ZiMjY5MzQ2NDFiYzljNjc0NTRkZjIwMDgyMWYuYmluZFBvcHVwKHBvcHVwX2QxYjM5MjlmN2JhNzQxOWM4NTY2ODBjMzI2ODg3NDE5KTsKCiAgICAgICAgICAgIAogICAgICAgIAogICAgCiAgICAgICAgICAgIHZhciBjaXJjbGVfbWFya2VyX2NkM2M4NmI5YmQzMjQ2NzJiNDI0NDQ2NzY4OWRlMTczID0gTC5jaXJjbGVNYXJrZXIoCiAgICAgICAgICAgICAgICBbNDAuODE2OTM0NDI5NDk3NzksLTczLjk1NzM4NTM5MzUxODhdLAogICAgICAgICAgICAgICAgewogICJidWJibGluZ01vdXNlRXZlbnRzIjogdHJ1ZSwKICAiY29sb3IiOiAiYmx1ZSIsCiAgImRhc2hBcnJheSI6IG51bGwsCiAgImRhc2hPZmZzZXQiOiBudWxsLAogICJmaWxsIjogdHJ1ZSwKICAiZmlsbENvbG9yIjogIiMzMTg2Y2MiLAogICJmaWxsT3BhY2l0eSI6IDAuNywKICAiZmlsbFJ1bGUiOiAiZXZlbm9kZCIsCiAgImxpbmVDYXAiOiAicm91bmQiLAogICJsaW5lSm9pbiI6ICJyb3VuZCIsCiAgIm9wYWNpdHkiOiAxLjAsCiAgInJhZGl1cyI6IDUsCiAgInN0cm9rZSI6IHRydWUsCiAgIndlaWdodCI6IDMKfQogICAgICAgICAgICAgICAgKS5hZGRUbyhtYXBfMGQ3ZmJiN2QyZDYxNDk1ZDg4M2IwMTllZTZjYjhiZjMpOwogICAgICAgICAgICAKICAgIAogICAgICAgICAgICB2YXIgcG9wdXBfOThmZWUxNTQzODcyNDViMGIxMjgwZDJkODYyZGY0MzEgPSBMLnBvcHVwKHttYXhXaWR0aDogJzMwMCd9KTsKCiAgICAgICAgICAgIAogICAgICAgICAgICAgICAgdmFyIGh0bWxfZTA3ZTU3NGIwNzBmNGQwMmJmZjdmZjVlM2UwYWY5ODkgPSAkKCc8ZGl2IGlkPSJodG1sX2UwN2U1NzRiMDcwZjRkMDJiZmY3ZmY1ZTNlMGFmOTg5IiBzdHlsZT0id2lkdGg6IDEwMC4wJTsgaGVpZ2h0OiAxMDAuMCU7Ij5NYW5oYXR0YW52aWxsZSwgTWFuaGF0dGFuPC9kaXY+JylbMF07CiAgICAgICAgICAgICAgICBwb3B1cF85OGZlZTE1NDM4NzI0NWIwYjEyODBkMmQ4NjJkZjQzMS5zZXRDb250ZW50KGh0bWxfZTA3ZTU3NGIwNzBmNGQwMmJmZjdmZjVlM2UwYWY5ODkpOwogICAgICAgICAgICAKCiAgICAgICAgICAgIGNpcmNsZV9tYXJrZXJfY2QzYzg2YjliZDMyNDY3MmI0MjQ0NDY3Njg5ZGUxNzMuYmluZFBvcHVwKHBvcHVwXzk4ZmVlMTU0Mzg3MjQ1YjBiMTI4MGQyZDg2MmRmNDMxKTsKCiAgICAgICAgICAgIAogICAgICAgIAogICAgCiAgICAgICAgICAgIHZhciBjaXJjbGVfbWFya2VyXzM2YWRlYTU3NjU1ZTRmMmY5YWY1MzRlMDJhNWViZDUzID0gTC5jaXJjbGVNYXJrZXIoCiAgICAgICAgICAgICAgICBbNDAuODE1OTc2MDY3NDI0MTQsLTczLjk0MzIxMTEyNjAzOTA1XSwKICAgICAgICAgICAgICAgIHsKICAiYnViYmxpbmdNb3VzZUV2ZW50cyI6IHRydWUsCiAgImNvbG9yIjogImJsdWUiLAogICJkYXNoQXJyYXkiOiBudWxsLAogICJkYXNoT2Zmc2V0IjogbnVsbCwKICAiZmlsbCI6IHRydWUsCiAgImZpbGxDb2xvciI6ICIjMzE4NmNjIiwKICAiZmlsbE9wYWNpdHkiOiAwLjcsCiAgImZpbGxSdWxlIjogImV2ZW5vZGQiLAogICJsaW5lQ2FwIjogInJvdW5kIiwKICAibGluZUpvaW4iOiAicm91bmQiLAogICJvcGFjaXR5IjogMS4wLAogICJyYWRpdXMiOiA1LAogICJzdHJva2UiOiB0cnVlLAogICJ3ZWlnaHQiOiAzCn0KICAgICAgICAgICAgICAgICkuYWRkVG8obWFwXzBkN2ZiYjdkMmQ2MTQ5NWQ4ODNiMDE5ZWU2Y2I4YmYzKTsKICAgICAgICAgICAgCiAgICAKICAgICAgICAgICAgdmFyIHBvcHVwXzVhNGJkZTUyMDdjNTQ4ZDc5YmQ3NzAzN2RlYTI2MDNjID0gTC5wb3B1cCh7bWF4V2lkdGg6ICczMDAnfSk7CgogICAgICAgICAgICAKICAgICAgICAgICAgICAgIHZhciBodG1sXzI1Y2U1MjEwN2FiMDQ2Zjg4NTY2OTg5NWVjYTZjNWNmID0gJCgnPGRpdiBpZD0iaHRtbF8yNWNlNTIxMDdhYjA0NmY4ODU2Njk4OTVlY2E2YzVjZiIgc3R5bGU9IndpZHRoOiAxMDAuMCU7IGhlaWdodDogMTAwLjAlOyI+Q2VudHJhbCBIYXJsZW0sIE1hbmhhdHRhbjwvZGl2PicpWzBdOwogICAgICAgICAgICAgICAgcG9wdXBfNWE0YmRlNTIwN2M1NDhkNzliZDc3MDM3ZGVhMjYwM2Muc2V0Q29udGVudChodG1sXzI1Y2U1MjEwN2FiMDQ2Zjg4NTY2OTg5NWVjYTZjNWNmKTsKICAgICAgICAgICAgCgogICAgICAgICAgICBjaXJjbGVfbWFya2VyXzM2YWRlYTU3NjU1ZTRmMmY5YWY1MzRlMDJhNWViZDUzLmJpbmRQb3B1cChwb3B1cF81YTRiZGU1MjA3YzU0OGQ3OWJkNzcwMzdkZWEyNjAzYyk7CgogICAgICAgICAgICAKICAgICAgICAKICAgIAogICAgICAgICAgICB2YXIgY2lyY2xlX21hcmtlcl82NzEwZWI4ZmQ4NzM0YTQ4OWZkODI5ZGQ1ODkyYjY3NSA9IEwuY2lyY2xlTWFya2VyKAogICAgICAgICAgICAgICAgWzQwLjc5MjI0OTQ2NjYzMDMzLC03My45NDQxODIyMzE0ODUyM10sCiAgICAgICAgICAgICAgICB7CiAgImJ1YmJsaW5nTW91c2VFdmVudHMiOiB0cnVlLAogICJjb2xvciI6ICJibHVlIiwKICAiZGFzaEFycmF5IjogbnVsbCwKICAiZGFzaE9mZnNldCI6IG51bGwsCiAgImZpbGwiOiB0cnVlLAogICJmaWxsQ29sb3IiOiAiIzMxODZjYyIsCiAgImZpbGxPcGFjaXR5IjogMC43LAogICJmaWxsUnVsZSI6ICJldmVub2RkIiwKICAibGluZUNhcCI6ICJyb3VuZCIsCiAgImxpbmVKb2luIjogInJvdW5kIiwKICAib3BhY2l0eSI6IDEuMCwKICAicmFkaXVzIjogNSwKICAic3Ryb2tlIjogdHJ1ZSwKICAid2VpZ2h0IjogMwp9CiAgICAgICAgICAgICAgICApLmFkZFRvKG1hcF8wZDdmYmI3ZDJkNjE0OTVkODgzYjAxOWVlNmNiOGJmMyk7CiAgICAgICAgICAgIAogICAgCiAgICAgICAgICAgIHZhciBwb3B1cF8yNTU0MDMyYWYzOTY0OTMzYmY3NmQ0NzkzODU0ODUyYSA9IEwucG9wdXAoe21heFdpZHRoOiAnMzAwJ30pOwoKICAgICAgICAgICAgCiAgICAgICAgICAgICAgICB2YXIgaHRtbF83NDMwZTdhYzQ1NDk0NmVlYmFjNDhiOTRhODdiYTdhNiA9ICQoJzxkaXYgaWQ9Imh0bWxfNzQzMGU3YWM0NTQ5NDZlZWJhYzQ4Yjk0YTg3YmE3YTYiIHN0eWxlPSJ3aWR0aDogMTAwLjAlOyBoZWlnaHQ6IDEwMC4wJTsiPkVhc3QgSGFybGVtLCBNYW5oYXR0YW48L2Rpdj4nKVswXTsKICAgICAgICAgICAgICAgIHBvcHVwXzI1NTQwMzJhZjM5NjQ5MzNiZjc2ZDQ3OTM4NTQ4NTJhLnNldENvbnRlbnQoaHRtbF83NDMwZTdhYzQ1NDk0NmVlYmFjNDhiOTRhODdiYTdhNik7CiAgICAgICAgICAgIAoKICAgICAgICAgICAgY2lyY2xlX21hcmtlcl82NzEwZWI4ZmQ4NzM0YTQ4OWZkODI5ZGQ1ODkyYjY3NS5iaW5kUG9wdXAocG9wdXBfMjU1NDAzMmFmMzk2NDkzM2JmNzZkNDc5Mzg1NDg1MmEpOwoKICAgICAgICAgICAgCiAgICAgICAgCiAgICAKICAgICAgICAgICAgdmFyIGNpcmNsZV9tYXJrZXJfNzg2MDczNTQ5YzEwNDMyN2E3M2U2YTlkMzJmN2IxZDMgPSBMLmNpcmNsZU1hcmtlcigKICAgICAgICAgICAgICAgIFs0MC43NzU2Mzg1NzMzMDE4MSwtNzMuOTYwNTA3NjMxMzVdLAogICAgICAgICAgICAgICAgewogICJidWJibGluZ01vdXNlRXZlbnRzIjogdHJ1ZSwKICAiY29sb3IiOiAiYmx1ZSIsCiAgImRhc2hBcnJheSI6IG51bGwsCiAgImRhc2hPZmZzZXQiOiBudWxsLAogICJmaWxsIjogdHJ1ZSwKICAiZmlsbENvbG9yIjogIiMzMTg2Y2MiLAogICJmaWxsT3BhY2l0eSI6IDAuNywKICAiZmlsbFJ1bGUiOiAiZXZlbm9kZCIsCiAgImxpbmVDYXAiOiAicm91bmQiLAogICJsaW5lSm9pbiI6ICJyb3VuZCIsCiAgIm9wYWNpdHkiOiAxLjAsCiAgInJhZGl1cyI6IDUsCiAgInN0cm9rZSI6IHRydWUsCiAgIndlaWdodCI6IDMKfQogICAgICAgICAgICAgICAgKS5hZGRUbyhtYXBfMGQ3ZmJiN2QyZDYxNDk1ZDg4M2IwMTllZTZjYjhiZjMpOwogICAgICAgICAgICAKICAgIAogICAgICAgICAgICB2YXIgcG9wdXBfNmUyNjFmODkyMDY2NGRkZWIzZWZkNTAxYjQ2MDE4YTUgPSBMLnBvcHVwKHttYXhXaWR0aDogJzMwMCd9KTsKCiAgICAgICAgICAgIAogICAgICAgICAgICAgICAgdmFyIGh0bWxfZmUwOTM2YzYwNjcxNDVlN2JkOTUzNGUzNzYxODJlNDggPSAkKCc8ZGl2IGlkPSJodG1sX2ZlMDkzNmM2MDY3MTQ1ZTdiZDk1MzRlMzc2MTgyZTQ4IiBzdHlsZT0id2lkdGg6IDEwMC4wJTsgaGVpZ2h0OiAxMDAuMCU7Ij5VcHBlciBFYXN0IFNpZGUsIE1hbmhhdHRhbjwvZGl2PicpWzBdOwogICAgICAgICAgICAgICAgcG9wdXBfNmUyNjFmODkyMDY2NGRkZWIzZWZkNTAxYjQ2MDE4YTUuc2V0Q29udGVudChodG1sX2ZlMDkzNmM2MDY3MTQ1ZTdiZDk1MzRlMzc2MTgyZTQ4KTsKICAgICAgICAgICAgCgogICAgICAgICAgICBjaXJjbGVfbWFya2VyXzc4NjA3MzU0OWMxMDQzMjdhNzNlNmE5ZDMyZjdiMWQzLmJpbmRQb3B1cChwb3B1cF82ZTI2MWY4OTIwNjY0ZGRlYjNlZmQ1MDFiNDYwMThhNSk7CgogICAgICAgICAgICAKICAgICAgICAKICAgIAogICAgICAgICAgICB2YXIgY2lyY2xlX21hcmtlcl9kNWU5Yzc0NmNlYmY0MWQ2ODJjMmRlMzdmMjJjNDIyMSA9IEwuY2lyY2xlTWFya2VyKAogICAgICAgICAgICAgICAgWzQwLjc3NTkyOTg0OTg4NDg4LC03My45NDcxMTc4NDQ3MTgyNl0sCiAgICAgICAgICAgICAgICB7CiAgImJ1YmJsaW5nTW91c2VFdmVudHMiOiB0cnVlLAogICJjb2xvciI6ICJibHVlIiwKICAiZGFzaEFycmF5IjogbnVsbCwKICAiZGFzaE9mZnNldCI6IG51bGwsCiAgImZpbGwiOiB0cnVlLAogICJmaWxsQ29sb3IiOiAiIzMxODZjYyIsCiAgImZpbGxPcGFjaXR5IjogMC43LAogICJmaWxsUnVsZSI6ICJldmVub2RkIiwKICAibGluZUNhcCI6ICJyb3VuZCIsCiAgImxpbmVKb2luIjogInJvdW5kIiwKICAib3BhY2l0eSI6IDEuMCwKICAicmFkaXVzIjogNSwKICAic3Ryb2tlIjogdHJ1ZSwKICAid2VpZ2h0IjogMwp9CiAgICAgICAgICAgICAgICApLmFkZFRvKG1hcF8wZDdmYmI3ZDJkNjE0OTVkODgzYjAxOWVlNmNiOGJmMyk7CiAgICAgICAgICAgIAogICAgCiAgICAgICAgICAgIHZhciBwb3B1cF84ZjBlMDBhYTNlYjE0MzExODIwNWQ4NzY1Y2I4MjRkZCA9IEwucG9wdXAoe21heFdpZHRoOiAnMzAwJ30pOwoKICAgICAgICAgICAgCiAgICAgICAgICAgICAgICB2YXIgaHRtbF80Mzk3ZWEyMWJiNmQ0ZTg2YjM3YTU0MDgxOGM4OThiMiA9ICQoJzxkaXYgaWQ9Imh0bWxfNDM5N2VhMjFiYjZkNGU4NmIzN2E1NDA4MThjODk4YjIiIHN0eWxlPSJ3aWR0aDogMTAwLjAlOyBoZWlnaHQ6IDEwMC4wJTsiPllvcmt2aWxsZSwgTWFuaGF0dGFuPC9kaXY+JylbMF07CiAgICAgICAgICAgICAgICBwb3B1cF84ZjBlMDBhYTNlYjE0MzExODIwNWQ4NzY1Y2I4MjRkZC5zZXRDb250ZW50KGh0bWxfNDM5N2VhMjFiYjZkNGU4NmIzN2E1NDA4MThjODk4YjIpOwogICAgICAgICAgICAKCiAgICAgICAgICAgIGNpcmNsZV9tYXJrZXJfZDVlOWM3NDZjZWJmNDFkNjgyYzJkZTM3ZjIyYzQyMjEuYmluZFBvcHVwKHBvcHVwXzhmMGUwMGFhM2ViMTQzMTE4MjA1ZDg3NjVjYjgyNGRkKTsKCiAgICAgICAgICAgIAogICAgICAgIAogICAgCiAgICAgICAgICAgIHZhciBjaXJjbGVfbWFya2VyX2I0ZmNkMmNkMDUyMTRjMWNiMzZiOGFhNDkyYzI4MzEwID0gTC5jaXJjbGVNYXJrZXIoCiAgICAgICAgICAgICAgICBbNDAuNzY4MTEyNjU4Mjg3MzMsLTczLjk1ODg1OTY4ODEzNzZdLAogICAgICAgICAgICAgICAgewogICJidWJibGluZ01vdXNlRXZlbnRzIjogdHJ1ZSwKICAiY29sb3IiOiAiYmx1ZSIsCiAgImRhc2hBcnJheSI6IG51bGwsCiAgImRhc2hPZmZzZXQiOiBudWxsLAogICJmaWxsIjogdHJ1ZSwKICAiZmlsbENvbG9yIjogIiMzMTg2Y2MiLAogICJmaWxsT3BhY2l0eSI6IDAuNywKICAiZmlsbFJ1bGUiOiAiZXZlbm9kZCIsCiAgImxpbmVDYXAiOiAicm91bmQiLAogICJsaW5lSm9pbiI6ICJyb3VuZCIsCiAgIm9wYWNpdHkiOiAxLjAsCiAgInJhZGl1cyI6IDUsCiAgInN0cm9rZSI6IHRydWUsCiAgIndlaWdodCI6IDMKfQogICAgICAgICAgICAgICAgKS5hZGRUbyhtYXBfMGQ3ZmJiN2QyZDYxNDk1ZDg4M2IwMTllZTZjYjhiZjMpOwogICAgICAgICAgICAKICAgIAogICAgICAgICAgICB2YXIgcG9wdXBfZTMwZTIyNjk1YzYyNDE4ODk3ZjY0NGE2MmE5OGI3YmIgPSBMLnBvcHVwKHttYXhXaWR0aDogJzMwMCd9KTsKCiAgICAgICAgICAgIAogICAgICAgICAgICAgICAgdmFyIGh0bWxfY2UyNGM5MmQ1NzkzNDIwOGIzMjYxMDgyOWZmODVkODIgPSAkKCc8ZGl2IGlkPSJodG1sX2NlMjRjOTJkNTc5MzQyMDhiMzI2MTA4MjlmZjg1ZDgyIiBzdHlsZT0id2lkdGg6IDEwMC4wJTsgaGVpZ2h0OiAxMDAuMCU7Ij5MZW5veCBIaWxsLCBNYW5oYXR0YW48L2Rpdj4nKVswXTsKICAgICAgICAgICAgICAgIHBvcHVwX2UzMGUyMjY5NWM2MjQxODg5N2Y2NDRhNjJhOThiN2JiLnNldENvbnRlbnQoaHRtbF9jZTI0YzkyZDU3OTM0MjA4YjMyNjEwODI5ZmY4NWQ4Mik7CiAgICAgICAgICAgIAoKICAgICAgICAgICAgY2lyY2xlX21hcmtlcl9iNGZjZDJjZDA1MjE0YzFjYjM2YjhhYTQ5MmMyODMxMC5iaW5kUG9wdXAocG9wdXBfZTMwZTIyNjk1YzYyNDE4ODk3ZjY0NGE2MmE5OGI3YmIpOwoKICAgICAgICAgICAgCiAgICAgICAgCiAgICAKICAgICAgICAgICAgdmFyIGNpcmNsZV9tYXJrZXJfNWM2MGQ4MDdhYjlmNDk0YTkwM2Q2ZTU1NDQwZjJlZmEgPSBMLmNpcmNsZU1hcmtlcigKICAgICAgICAgICAgICAgIFs0MC43NjIxNTk2MDU3NjI4MywtNzMuOTQ5MTY3NjkyMjc5NTNdLAogICAgICAgICAgICAgICAgewogICJidWJibGluZ01vdXNlRXZlbnRzIjogdHJ1ZSwKICAiY29sb3IiOiAiYmx1ZSIsCiAgImRhc2hBcnJheSI6IG51bGwsCiAgImRhc2hPZmZzZXQiOiBudWxsLAogICJmaWxsIjogdHJ1ZSwKICAiZmlsbENvbG9yIjogIiMzMTg2Y2MiLAogICJmaWxsT3BhY2l0eSI6IDAuNywKICAiZmlsbFJ1bGUiOiAiZXZlbm9kZCIsCiAgImxpbmVDYXAiOiAicm91bmQiLAogICJsaW5lSm9pbiI6ICJyb3VuZCIsCiAgIm9wYWNpdHkiOiAxLjAsCiAgInJhZGl1cyI6IDUsCiAgInN0cm9rZSI6IHRydWUsCiAgIndlaWdodCI6IDMKfQogICAgICAgICAgICAgICAgKS5hZGRUbyhtYXBfMGQ3ZmJiN2QyZDYxNDk1ZDg4M2IwMTllZTZjYjhiZjMpOwogICAgICAgICAgICAKICAgIAogICAgICAgICAgICB2YXIgcG9wdXBfOWU2OGU4YzYyNDc4NGNhYmI0YjU2OGI4MGUzNmRjMmQgPSBMLnBvcHVwKHttYXhXaWR0aDogJzMwMCd9KTsKCiAgICAgICAgICAgIAogICAgICAgICAgICAgICAgdmFyIGh0bWxfZGNlOGY2Mjk4NmM1NGE4NDlhYTRiNWRmYjc4N2NkMTcgPSAkKCc8ZGl2IGlkPSJodG1sX2RjZThmNjI5ODZjNTRhODQ5YWE0YjVkZmI3ODdjZDE3IiBzdHlsZT0id2lkdGg6IDEwMC4wJTsgaGVpZ2h0OiAxMDAuMCU7Ij5Sb29zZXZlbHQgSXNsYW5kLCBNYW5oYXR0YW48L2Rpdj4nKVswXTsKICAgICAgICAgICAgICAgIHBvcHVwXzllNjhlOGM2MjQ3ODRjYWJiNGI1NjhiODBlMzZkYzJkLnNldENvbnRlbnQoaHRtbF9kY2U4ZjYyOTg2YzU0YTg0OWFhNGI1ZGZiNzg3Y2QxNyk7CiAgICAgICAgICAgIAoKICAgICAgICAgICAgY2lyY2xlX21hcmtlcl81YzYwZDgwN2FiOWY0OTRhOTAzZDZlNTU0NDBmMmVmYS5iaW5kUG9wdXAocG9wdXBfOWU2OGU4YzYyNDc4NGNhYmI0YjU2OGI4MGUzNmRjMmQpOwoKICAgICAgICAgICAgCiAgICAgICAgCiAgICAKICAgICAgICAgICAgdmFyIGNpcmNsZV9tYXJrZXJfYzI4YjlmZGY0OWJjNGYwMDg0ZWU4MzMxY2U3MThiZDAgPSBMLmNpcmNsZU1hcmtlcigKICAgICAgICAgICAgICAgIFs0MC43ODc2NTc5OTg1MzQ4NTQsLTczLjk3NzA1OTIzNjMwNjAzXSwKICAgICAgICAgICAgICAgIHsKICAiYnViYmxpbmdNb3VzZUV2ZW50cyI6IHRydWUsCiAgImNvbG9yIjogImJsdWUiLAogICJkYXNoQXJyYXkiOiBudWxsLAogICJkYXNoT2Zmc2V0IjogbnVsbCwKICAiZmlsbCI6IHRydWUsCiAgImZpbGxDb2xvciI6ICIjMzE4NmNjIiwKICAiZmlsbE9wYWNpdHkiOiAwLjcsCiAgImZpbGxSdWxlIjogImV2ZW5vZGQiLAogICJsaW5lQ2FwIjogInJvdW5kIiwKICAibGluZUpvaW4iOiAicm91bmQiLAogICJvcGFjaXR5IjogMS4wLAogICJyYWRpdXMiOiA1LAogICJzdHJva2UiOiB0cnVlLAogICJ3ZWlnaHQiOiAzCn0KICAgICAgICAgICAgICAgICkuYWRkVG8obWFwXzBkN2ZiYjdkMmQ2MTQ5NWQ4ODNiMDE5ZWU2Y2I4YmYzKTsKICAgICAgICAgICAgCiAgICAKICAgICAgICAgICAgdmFyIHBvcHVwXzc5ZWM2MDkzNjdiYTQxNjNhODdhYzY0ZTVkNTM2N2FjID0gTC5wb3B1cCh7bWF4V2lkdGg6ICczMDAnfSk7CgogICAgICAgICAgICAKICAgICAgICAgICAgICAgIHZhciBodG1sXzM0ZGMyN2I0ZmM5MTRiMzBiYTI3MGJmNjUzNjY3YmVhID0gJCgnPGRpdiBpZD0iaHRtbF8zNGRjMjdiNGZjOTE0YjMwYmEyNzBiZjY1MzY2N2JlYSIgc3R5bGU9IndpZHRoOiAxMDAuMCU7IGhlaWdodDogMTAwLjAlOyI+VXBwZXIgV2VzdCBTaWRlLCBNYW5oYXR0YW48L2Rpdj4nKVswXTsKICAgICAgICAgICAgICAgIHBvcHVwXzc5ZWM2MDkzNjdiYTQxNjNhODdhYzY0ZTVkNTM2N2FjLnNldENvbnRlbnQoaHRtbF8zNGRjMjdiNGZjOTE0YjMwYmEyNzBiZjY1MzY2N2JlYSk7CiAgICAgICAgICAgIAoKICAgICAgICAgICAgY2lyY2xlX21hcmtlcl9jMjhiOWZkZjQ5YmM0ZjAwODRlZTgzMzFjZTcxOGJkMC5iaW5kUG9wdXAocG9wdXBfNzllYzYwOTM2N2JhNDE2M2E4N2FjNjRlNWQ1MzY3YWMpOwoKICAgICAgICAgICAgCiAgICAgICAgCiAgICAKICAgICAgICAgICAgdmFyIGNpcmNsZV9tYXJrZXJfNTVmZDY5ODcwMjdhNGEwMGJjMWJkZDY3Yzk1NzZiMDcgPSBMLmNpcmNsZU1hcmtlcigKICAgICAgICAgICAgICAgIFs0MC43NzM1Mjg4ODk0MjE2NTUsLTczLjk4NTMzNzc3MDAxMjYyXSwKICAgICAgICAgICAgICAgIHsKICAiYnViYmxpbmdNb3VzZUV2ZW50cyI6IHRydWUsCiAgImNvbG9yIjogImJsdWUiLAogICJkYXNoQXJyYXkiOiBudWxsLAogICJkYXNoT2Zmc2V0IjogbnVsbCwKICAiZmlsbCI6IHRydWUsCiAgImZpbGxDb2xvciI6ICIjMzE4NmNjIiwKICAiZmlsbE9wYWNpdHkiOiAwLjcsCiAgImZpbGxSdWxlIjogImV2ZW5vZGQiLAogICJsaW5lQ2FwIjogInJvdW5kIiwKICAibGluZUpvaW4iOiAicm91bmQiLAogICJvcGFjaXR5IjogMS4wLAogICJyYWRpdXMiOiA1LAogICJzdHJva2UiOiB0cnVlLAogICJ3ZWlnaHQiOiAzCn0KICAgICAgICAgICAgICAgICkuYWRkVG8obWFwXzBkN2ZiYjdkMmQ2MTQ5NWQ4ODNiMDE5ZWU2Y2I4YmYzKTsKICAgICAgICAgICAgCiAgICAKICAgICAgICAgICAgdmFyIHBvcHVwXzk4ZjRjODc5MDA0NjQ4ZjRhZWFjMGNjZTlkNDEyMjNiID0gTC5wb3B1cCh7bWF4V2lkdGg6ICczMDAnfSk7CgogICAgICAgICAgICAKICAgICAgICAgICAgICAgIHZhciBodG1sX2IxYmI1ODM4OTQ1NzQ4YzU4OTkwMTA4NjVlNmRjNGJkID0gJCgnPGRpdiBpZD0iaHRtbF9iMWJiNTgzODk0NTc0OGM1ODk5MDEwODY1ZTZkYzRiZCIgc3R5bGU9IndpZHRoOiAxMDAuMCU7IGhlaWdodDogMTAwLjAlOyI+TGluY29sbiBTcXVhcmUsIE1hbmhhdHRhbjwvZGl2PicpWzBdOwogICAgICAgICAgICAgICAgcG9wdXBfOThmNGM4NzkwMDQ2NDhmNGFlYWMwY2NlOWQ0MTIyM2Iuc2V0Q29udGVudChodG1sX2IxYmI1ODM4OTQ1NzQ4YzU4OTkwMTA4NjVlNmRjNGJkKTsKICAgICAgICAgICAgCgogICAgICAgICAgICBjaXJjbGVfbWFya2VyXzU1ZmQ2OTg3MDI3YTRhMDBiYzFiZGQ2N2M5NTc2YjA3LmJpbmRQb3B1cChwb3B1cF85OGY0Yzg3OTAwNDY0OGY0YWVhYzBjY2U5ZDQxMjIzYik7CgogICAgICAgICAgICAKICAgICAgICAKICAgIAogICAgICAgICAgICB2YXIgY2lyY2xlX21hcmtlcl8yZjFhMDJjOTkyYWM0OGVlYjg1NGE4ZTNjOTZjMmExZSA9IEwuY2lyY2xlTWFya2VyKAogICAgICAgICAgICAgICAgWzQwLjc1OTEwMDg5MTQ2MjEyLC03My45OTYxMTkzNjMwOTQ3OV0sCiAgICAgICAgICAgICAgICB7CiAgImJ1YmJsaW5nTW91c2VFdmVudHMiOiB0cnVlLAogICJjb2xvciI6ICJibHVlIiwKICAiZGFzaEFycmF5IjogbnVsbCwKICAiZGFzaE9mZnNldCI6IG51bGwsCiAgImZpbGwiOiB0cnVlLAogICJmaWxsQ29sb3IiOiAiIzMxODZjYyIsCiAgImZpbGxPcGFjaXR5IjogMC43LAogICJmaWxsUnVsZSI6ICJldmVub2RkIiwKICAibGluZUNhcCI6ICJyb3VuZCIsCiAgImxpbmVKb2luIjogInJvdW5kIiwKICAib3BhY2l0eSI6IDEuMCwKICAicmFkaXVzIjogNSwKICAic3Ryb2tlIjogdHJ1ZSwKICAid2VpZ2h0IjogMwp9CiAgICAgICAgICAgICAgICApLmFkZFRvKG1hcF8wZDdmYmI3ZDJkNjE0OTVkODgzYjAxOWVlNmNiOGJmMyk7CiAgICAgICAgICAgIAogICAgCiAgICAgICAgICAgIHZhciBwb3B1cF83Yjk0ZDQ2NDgwODA0MDkzYjdiZmVlNDU0ODdiNzVjOCA9IEwucG9wdXAoe21heFdpZHRoOiAnMzAwJ30pOwoKICAgICAgICAgICAgCiAgICAgICAgICAgICAgICB2YXIgaHRtbF9lMWE3ZGFhZWUyMjY0ZTAxYWNmZmNhOTdhMzVmYTIwNCA9ICQoJzxkaXYgaWQ9Imh0bWxfZTFhN2RhYWVlMjI2NGUwMWFjZmZjYTk3YTM1ZmEyMDQiIHN0eWxlPSJ3aWR0aDogMTAwLjAlOyBoZWlnaHQ6IDEwMC4wJTsiPkNsaW50b24sIE1hbmhhdHRhbjwvZGl2PicpWzBdOwogICAgICAgICAgICAgICAgcG9wdXBfN2I5NGQ0NjQ4MDgwNDA5M2I3YmZlZTQ1NDg3Yjc1Yzguc2V0Q29udGVudChodG1sX2UxYTdkYWFlZTIyNjRlMDFhY2ZmY2E5N2EzNWZhMjA0KTsKICAgICAgICAgICAgCgogICAgICAgICAgICBjaXJjbGVfbWFya2VyXzJmMWEwMmM5OTJhYzQ4ZWViODU0YThlM2M5NmMyYTFlLmJpbmRQb3B1cChwb3B1cF83Yjk0ZDQ2NDgwODA0MDkzYjdiZmVlNDU0ODdiNzVjOCk7CgogICAgICAgICAgICAKICAgICAgICAKICAgIAogICAgICAgICAgICB2YXIgY2lyY2xlX21hcmtlcl9kMDQ2MGE5YmMzOTY0ZTczODQ4MzkzNWRkY2MzZTg0ZCA9IEwuY2lyY2xlTWFya2VyKAogICAgICAgICAgICAgICAgWzQwLjc1NDY5MTEwMjcwNjIyNSwtNzMuOTgxNjY4ODI3MzAzMDVdLAogICAgICAgICAgICAgICAgewogICJidWJibGluZ01vdXNlRXZlbnRzIjogdHJ1ZSwKICAiY29sb3IiOiAiYmx1ZSIsCiAgImRhc2hBcnJheSI6IG51bGwsCiAgImRhc2hPZmZzZXQiOiBudWxsLAogICJmaWxsIjogdHJ1ZSwKICAiZmlsbENvbG9yIjogIiMzMTg2Y2MiLAogICJmaWxsT3BhY2l0eSI6IDAuNywKICAiZmlsbFJ1bGUiOiAiZXZlbm9kZCIsCiAgImxpbmVDYXAiOiAicm91bmQiLAogICJsaW5lSm9pbiI6ICJyb3VuZCIsCiAgIm9wYWNpdHkiOiAxLjAsCiAgInJhZGl1cyI6IDUsCiAgInN0cm9rZSI6IHRydWUsCiAgIndlaWdodCI6IDMKfQogICAgICAgICAgICAgICAgKS5hZGRUbyhtYXBfMGQ3ZmJiN2QyZDYxNDk1ZDg4M2IwMTllZTZjYjhiZjMpOwogICAgICAgICAgICAKICAgIAogICAgICAgICAgICB2YXIgcG9wdXBfYmRlMGFiNTJlZmFkNDAwMDk1ODg5ODI4MTEwMjIwODEgPSBMLnBvcHVwKHttYXhXaWR0aDogJzMwMCd9KTsKCiAgICAgICAgICAgIAogICAgICAgICAgICAgICAgdmFyIGh0bWxfNTlkZTkwOTE0ODdhNGFmNGJjOWVhMTFhODI4ZmVlY2QgPSAkKCc8ZGl2IGlkPSJodG1sXzU5ZGU5MDkxNDg3YTRhZjRiYzllYTExYTgyOGZlZWNkIiBzdHlsZT0id2lkdGg6IDEwMC4wJTsgaGVpZ2h0OiAxMDAuMCU7Ij5NaWR0b3duLCBNYW5oYXR0YW48L2Rpdj4nKVswXTsKICAgICAgICAgICAgICAgIHBvcHVwX2JkZTBhYjUyZWZhZDQwMDA5NTg4OTgyODExMDIyMDgxLnNldENvbnRlbnQoaHRtbF81OWRlOTA5MTQ4N2E0YWY0YmM5ZWExMWE4MjhmZWVjZCk7CiAgICAgICAgICAgIAoKICAgICAgICAgICAgY2lyY2xlX21hcmtlcl9kMDQ2MGE5YmMzOTY0ZTczODQ4MzkzNWRkY2MzZTg0ZC5iaW5kUG9wdXAocG9wdXBfYmRlMGFiNTJlZmFkNDAwMDk1ODg5ODI4MTEwMjIwODEpOwoKICAgICAgICAgICAgCiAgICAgICAgCiAgICAKICAgICAgICAgICAgdmFyIGNpcmNsZV9tYXJrZXJfODlmN2Q0ODNkYTRhNGUwYjg3MTJmNzllNTg0ODA3MGMgPSBMLmNpcmNsZU1hcmtlcigKICAgICAgICAgICAgICAgIFs0MC43NDgzMDMwNzcyNTIxNzQsLTczLjk3ODMzMjA3OTI0MTI3XSwKICAgICAgICAgICAgICAgIHsKICAiYnViYmxpbmdNb3VzZUV2ZW50cyI6IHRydWUsCiAgImNvbG9yIjogImJsdWUiLAogICJkYXNoQXJyYXkiOiBudWxsLAogICJkYXNoT2Zmc2V0IjogbnVsbCwKICAiZmlsbCI6IHRydWUsCiAgImZpbGxDb2xvciI6ICIjMzE4NmNjIiwKICAiZmlsbE9wYWNpdHkiOiAwLjcsCiAgImZpbGxSdWxlIjogImV2ZW5vZGQiLAogICJsaW5lQ2FwIjogInJvdW5kIiwKICAibGluZUpvaW4iOiAicm91bmQiLAogICJvcGFjaXR5IjogMS4wLAogICJyYWRpdXMiOiA1LAogICJzdHJva2UiOiB0cnVlLAogICJ3ZWlnaHQiOiAzCn0KICAgICAgICAgICAgICAgICkuYWRkVG8obWFwXzBkN2ZiYjdkMmQ2MTQ5NWQ4ODNiMDE5ZWU2Y2I4YmYzKTsKICAgICAgICAgICAgCiAgICAKICAgICAgICAgICAgdmFyIHBvcHVwXzAwN2RkOTNlZjg0YTQ5MzE4NzM4ZWNjZDExMGUzNjQ3ID0gTC5wb3B1cCh7bWF4V2lkdGg6ICczMDAnfSk7CgogICAgICAgICAgICAKICAgICAgICAgICAgICAgIHZhciBodG1sX2NiMTcyNGFjZjkwYTQ3ZWM4NTJiYWQ3YWU4OWIzNWQyID0gJCgnPGRpdiBpZD0iaHRtbF9jYjE3MjRhY2Y5MGE0N2VjODUyYmFkN2FlODliMzVkMiIgc3R5bGU9IndpZHRoOiAxMDAuMCU7IGhlaWdodDogMTAwLjAlOyI+TXVycmF5IEhpbGwsIE1hbmhhdHRhbjwvZGl2PicpWzBdOwogICAgICAgICAgICAgICAgcG9wdXBfMDA3ZGQ5M2VmODRhNDkzMTg3MzhlY2NkMTEwZTM2NDcuc2V0Q29udGVudChodG1sX2NiMTcyNGFjZjkwYTQ3ZWM4NTJiYWQ3YWU4OWIzNWQyKTsKICAgICAgICAgICAgCgogICAgICAgICAgICBjaXJjbGVfbWFya2VyXzg5ZjdkNDgzZGE0YTRlMGI4NzEyZjc5ZTU4NDgwNzBjLmJpbmRQb3B1cChwb3B1cF8wMDdkZDkzZWY4NGE0OTMxODczOGVjY2QxMTBlMzY0Nyk7CgogICAgICAgICAgICAKICAgICAgICAKICAgIAogICAgICAgICAgICB2YXIgY2lyY2xlX21hcmtlcl80YWMyYjM3Y2I1YTM0MWYwYTY5OGIwNjAxOTBmYjVlMiA9IEwuY2lyY2xlTWFya2VyKAogICAgICAgICAgICAgICAgWzQwLjc0NDAzNDcwNjc0Nzk3NSwtNzQuMDAzMTE2MzM0NzI4MTNdLAogICAgICAgICAgICAgICAgewogICJidWJibGluZ01vdXNlRXZlbnRzIjogdHJ1ZSwKICAiY29sb3IiOiAiYmx1ZSIsCiAgImRhc2hBcnJheSI6IG51bGwsCiAgImRhc2hPZmZzZXQiOiBudWxsLAogICJmaWxsIjogdHJ1ZSwKICAiZmlsbENvbG9yIjogIiMzMTg2Y2MiLAogICJmaWxsT3BhY2l0eSI6IDAuNywKICAiZmlsbFJ1bGUiOiAiZXZlbm9kZCIsCiAgImxpbmVDYXAiOiAicm91bmQiLAogICJsaW5lSm9pbiI6ICJyb3VuZCIsCiAgIm9wYWNpdHkiOiAxLjAsCiAgInJhZGl1cyI6IDUsCiAgInN0cm9rZSI6IHRydWUsCiAgIndlaWdodCI6IDMKfQogICAgICAgICAgICAgICAgKS5hZGRUbyhtYXBfMGQ3ZmJiN2QyZDYxNDk1ZDg4M2IwMTllZTZjYjhiZjMpOwogICAgICAgICAgICAKICAgIAogICAgICAgICAgICB2YXIgcG9wdXBfYzVlMjE0OTU1MTFkNGMzNmJiNWEzOTdlNzUyYmIyNzMgPSBMLnBvcHVwKHttYXhXaWR0aDogJzMwMCd9KTsKCiAgICAgICAgICAgIAogICAgICAgICAgICAgICAgdmFyIGh0bWxfM2NkY2MxYzFkZDAzNDNmMGE0Yjc4ZDllYzQ2YTQ5ODQgPSAkKCc8ZGl2IGlkPSJodG1sXzNjZGNjMWMxZGQwMzQzZjBhNGI3OGQ5ZWM0NmE0OTg0IiBzdHlsZT0id2lkdGg6IDEwMC4wJTsgaGVpZ2h0OiAxMDAuMCU7Ij5DaGVsc2VhLCBNYW5oYXR0YW48L2Rpdj4nKVswXTsKICAgICAgICAgICAgICAgIHBvcHVwX2M1ZTIxNDk1NTExZDRjMzZiYjVhMzk3ZTc1MmJiMjczLnNldENvbnRlbnQoaHRtbF8zY2RjYzFjMWRkMDM0M2YwYTRiNzhkOWVjNDZhNDk4NCk7CiAgICAgICAgICAgIAoKICAgICAgICAgICAgY2lyY2xlX21hcmtlcl80YWMyYjM3Y2I1YTM0MWYwYTY5OGIwNjAxOTBmYjVlMi5iaW5kUG9wdXAocG9wdXBfYzVlMjE0OTU1MTFkNGMzNmJiNWEzOTdlNzUyYmIyNzMpOwoKICAgICAgICAgICAgCiAgICAgICAgCiAgICAKICAgICAgICAgICAgdmFyIGNpcmNsZV9tYXJrZXJfZmQyOWMyNDViOWFlNGU0Y2JkOWE0MzE5N2Y0YzlkZjkgPSBMLmNpcmNsZU1hcmtlcigKICAgICAgICAgICAgICAgIFs0MC43MjY5MzI4ODUzNjEyOCwtNzMuOTk5OTE0MDI5NDU5MDJdLAogICAgICAgICAgICAgICAgewogICJidWJibGluZ01vdXNlRXZlbnRzIjogdHJ1ZSwKICAiY29sb3IiOiAiYmx1ZSIsCiAgImRhc2hBcnJheSI6IG51bGwsCiAgImRhc2hPZmZzZXQiOiBudWxsLAogICJmaWxsIjogdHJ1ZSwKICAiZmlsbENvbG9yIjogIiMzMTg2Y2MiLAogICJmaWxsT3BhY2l0eSI6IDAuNywKICAiZmlsbFJ1bGUiOiAiZXZlbm9kZCIsCiAgImxpbmVDYXAiOiAicm91bmQiLAogICJsaW5lSm9pbiI6ICJyb3VuZCIsCiAgIm9wYWNpdHkiOiAxLjAsCiAgInJhZGl1cyI6IDUsCiAgInN0cm9rZSI6IHRydWUsCiAgIndlaWdodCI6IDMKfQogICAgICAgICAgICAgICAgKS5hZGRUbyhtYXBfMGQ3ZmJiN2QyZDYxNDk1ZDg4M2IwMTllZTZjYjhiZjMpOwogICAgICAgICAgICAKICAgIAogICAgICAgICAgICB2YXIgcG9wdXBfOTkwZWEzOTkzNTVlNDM0NmJjMTEwN2U4YzJiZDgxNjQgPSBMLnBvcHVwKHttYXhXaWR0aDogJzMwMCd9KTsKCiAgICAgICAgICAgIAogICAgICAgICAgICAgICAgdmFyIGh0bWxfMzI0YTY5ZjlhODY2NDVhYmFjODc1ZWJkMWIzM2JkMDQgPSAkKCc8ZGl2IGlkPSJodG1sXzMyNGE2OWY5YTg2NjQ1YWJhYzg3NWViZDFiMzNiZDA0IiBzdHlsZT0id2lkdGg6IDEwMC4wJTsgaGVpZ2h0OiAxMDAuMCU7Ij5HcmVlbndpY2ggVmlsbGFnZSwgTWFuaGF0dGFuPC9kaXY+JylbMF07CiAgICAgICAgICAgICAgICBwb3B1cF85OTBlYTM5OTM1NWU0MzQ2YmMxMTA3ZThjMmJkODE2NC5zZXRDb250ZW50KGh0bWxfMzI0YTY5ZjlhODY2NDVhYmFjODc1ZWJkMWIzM2JkMDQpOwogICAgICAgICAgICAKCiAgICAgICAgICAgIGNpcmNsZV9tYXJrZXJfZmQyOWMyNDViOWFlNGU0Y2JkOWE0MzE5N2Y0YzlkZjkuYmluZFBvcHVwKHBvcHVwXzk5MGVhMzk5MzU1ZTQzNDZiYzExMDdlOGMyYmQ4MTY0KTsKCiAgICAgICAgICAgIAogICAgICAgIAogICAgCiAgICAgICAgICAgIHZhciBjaXJjbGVfbWFya2VyXzUwMjA1NDZiODFlZDRkY2FiOTRjNTc1MWRjNDkxMmJlID0gTC5jaXJjbGVNYXJrZXIoCiAgICAgICAgICAgICAgICBbNDAuNzI3ODQ2Nzc3MjcwMjQ0LC03My45ODIyMjYxNjUwNjQxNV0sCiAgICAgICAgICAgICAgICB7CiAgImJ1YmJsaW5nTW91c2VFdmVudHMiOiB0cnVlLAogICJjb2xvciI6ICJibHVlIiwKICAiZGFzaEFycmF5IjogbnVsbCwKICAiZGFzaE9mZnNldCI6IG51bGwsCiAgImZpbGwiOiB0cnVlLAogICJmaWxsQ29sb3IiOiAiIzMxODZjYyIsCiAgImZpbGxPcGFjaXR5IjogMC43LAogICJmaWxsUnVsZSI6ICJldmVub2RkIiwKICAibGluZUNhcCI6ICJyb3VuZCIsCiAgImxpbmVKb2luIjogInJvdW5kIiwKICAib3BhY2l0eSI6IDEuMCwKICAicmFkaXVzIjogNSwKICAic3Ryb2tlIjogdHJ1ZSwKICAid2VpZ2h0IjogMwp9CiAgICAgICAgICAgICAgICApLmFkZFRvKG1hcF8wZDdmYmI3ZDJkNjE0OTVkODgzYjAxOWVlNmNiOGJmMyk7CiAgICAgICAgICAgIAogICAgCiAgICAgICAgICAgIHZhciBwb3B1cF8zMGM0MDg4YWVkMjE0YWIzODZmZmM3OGM0OGMyMzg5OCA9IEwucG9wdXAoe21heFdpZHRoOiAnMzAwJ30pOwoKICAgICAgICAgICAgCiAgICAgICAgICAgICAgICB2YXIgaHRtbF9hYTQyZWM2NWE1NDY0OGIyODVjNTdjOWFhODI4MWJjYyA9ICQoJzxkaXYgaWQ9Imh0bWxfYWE0MmVjNjVhNTQ2NDhiMjg1YzU3YzlhYTgyODFiY2MiIHN0eWxlPSJ3aWR0aDogMTAwLjAlOyBoZWlnaHQ6IDEwMC4wJTsiPkVhc3QgVmlsbGFnZSwgTWFuaGF0dGFuPC9kaXY+JylbMF07CiAgICAgICAgICAgICAgICBwb3B1cF8zMGM0MDg4YWVkMjE0YWIzODZmZmM3OGM0OGMyMzg5OC5zZXRDb250ZW50KGh0bWxfYWE0MmVjNjVhNTQ2NDhiMjg1YzU3YzlhYTgyODFiY2MpOwogICAgICAgICAgICAKCiAgICAgICAgICAgIGNpcmNsZV9tYXJrZXJfNTAyMDU0NmI4MWVkNGRjYWI5NGM1NzUxZGM0OTEyYmUuYmluZFBvcHVwKHBvcHVwXzMwYzQwODhhZWQyMTRhYjM4NmZmYzc4YzQ4YzIzODk4KTsKCiAgICAgICAgICAgIAogICAgICAgIAogICAgCiAgICAgICAgICAgIHZhciBjaXJjbGVfbWFya2VyXzY2MTNkNmIwNGExNzQxNTM5ZTA4MGVlMWMzZDRmMzM1ID0gTC5jaXJjbGVNYXJrZXIoCiAgICAgICAgICAgICAgICBbNDAuNzE3ODA2NzQ4OTI3NjUsLTczLjk4MDg5MDMxOTk5MjkxXSwKICAgICAgICAgICAgICAgIHsKICAiYnViYmxpbmdNb3VzZUV2ZW50cyI6IHRydWUsCiAgImNvbG9yIjogImJsdWUiLAogICJkYXNoQXJyYXkiOiBudWxsLAogICJkYXNoT2Zmc2V0IjogbnVsbCwKICAiZmlsbCI6IHRydWUsCiAgImZpbGxDb2xvciI6ICIjMzE4NmNjIiwKICAiZmlsbE9wYWNpdHkiOiAwLjcsCiAgImZpbGxSdWxlIjogImV2ZW5vZGQiLAogICJsaW5lQ2FwIjogInJvdW5kIiwKICAibGluZUpvaW4iOiAicm91bmQiLAogICJvcGFjaXR5IjogMS4wLAogICJyYWRpdXMiOiA1LAogICJzdHJva2UiOiB0cnVlLAogICJ3ZWlnaHQiOiAzCn0KICAgICAgICAgICAgICAgICkuYWRkVG8obWFwXzBkN2ZiYjdkMmQ2MTQ5NWQ4ODNiMDE5ZWU2Y2I4YmYzKTsKICAgICAgICAgICAgCiAgICAKICAgICAgICAgICAgdmFyIHBvcHVwXzIzZTQ4ODk5NDE2ZjQ0OGJhMzM5YTNlMjg1MGE4ZjlkID0gTC5wb3B1cCh7bWF4V2lkdGg6ICczMDAnfSk7CgogICAgICAgICAgICAKICAgICAgICAgICAgICAgIHZhciBodG1sXzU3MDIxNmRmMDg1NDRkOTBhNjhiM2YwZjlkYzFlZjlkID0gJCgnPGRpdiBpZD0iaHRtbF81NzAyMTZkZjA4NTQ0ZDkwYTY4YjNmMGY5ZGMxZWY5ZCIgc3R5bGU9IndpZHRoOiAxMDAuMCU7IGhlaWdodDogMTAwLjAlOyI+TG93ZXIgRWFzdCBTaWRlLCBNYW5oYXR0YW48L2Rpdj4nKVswXTsKICAgICAgICAgICAgICAgIHBvcHVwXzIzZTQ4ODk5NDE2ZjQ0OGJhMzM5YTNlMjg1MGE4ZjlkLnNldENvbnRlbnQoaHRtbF81NzAyMTZkZjA4NTQ0ZDkwYTY4YjNmMGY5ZGMxZWY5ZCk7CiAgICAgICAgICAgIAoKICAgICAgICAgICAgY2lyY2xlX21hcmtlcl82NjEzZDZiMDRhMTc0MTUzOWUwODBlZTFjM2Q0ZjMzNS5iaW5kUG9wdXAocG9wdXBfMjNlNDg4OTk0MTZmNDQ4YmEzMzlhM2UyODUwYThmOWQpOwoKICAgICAgICAgICAgCiAgICAgICAgCiAgICAKICAgICAgICAgICAgdmFyIGNpcmNsZV9tYXJrZXJfYTkxYjU0MzA2OWMyNDQwOWE4MmQwN2Q4MDRhMTlhNDIgPSBMLmNpcmNsZU1hcmtlcigKICAgICAgICAgICAgICAgIFs0MC43MjE1MjE5Njc0NDMyMTYsLTc0LjAxMDY4MzI4NTU5MDg3XSwKICAgICAgICAgICAgICAgIHsKICAiYnViYmxpbmdNb3VzZUV2ZW50cyI6IHRydWUsCiAgImNvbG9yIjogImJsdWUiLAogICJkYXNoQXJyYXkiOiBudWxsLAogICJkYXNoT2Zmc2V0IjogbnVsbCwKICAiZmlsbCI6IHRydWUsCiAgImZpbGxDb2xvciI6ICIjMzE4NmNjIiwKICAiZmlsbE9wYWNpdHkiOiAwLjcsCiAgImZpbGxSdWxlIjogImV2ZW5vZGQiLAogICJsaW5lQ2FwIjogInJvdW5kIiwKICAibGluZUpvaW4iOiAicm91bmQiLAogICJvcGFjaXR5IjogMS4wLAogICJyYWRpdXMiOiA1LAogICJzdHJva2UiOiB0cnVlLAogICJ3ZWlnaHQiOiAzCn0KICAgICAgICAgICAgICAgICkuYWRkVG8obWFwXzBkN2ZiYjdkMmQ2MTQ5NWQ4ODNiMDE5ZWU2Y2I4YmYzKTsKICAgICAgICAgICAgCiAgICAKICAgICAgICAgICAgdmFyIHBvcHVwXzRkMWQxNzg5ZDM0NDRkYjJhNjExNGQyMjhkYjMxMWMyID0gTC5wb3B1cCh7bWF4V2lkdGg6ICczMDAnfSk7CgogICAgICAgICAgICAKICAgICAgICAgICAgICAgIHZhciBodG1sXzc3NGFiZGI5NjNiNzRkMjA4YjhiNjhiYmRiZWY0MjdlID0gJCgnPGRpdiBpZD0iaHRtbF83NzRhYmRiOTYzYjc0ZDIwOGI4YjY4YmJkYmVmNDI3ZSIgc3R5bGU9IndpZHRoOiAxMDAuMCU7IGhlaWdodDogMTAwLjAlOyI+VHJpYmVjYSwgTWFuaGF0dGFuPC9kaXY+JylbMF07CiAgICAgICAgICAgICAgICBwb3B1cF80ZDFkMTc4OWQzNDQ0ZGIyYTYxMTRkMjI4ZGIzMTFjMi5zZXRDb250ZW50KGh0bWxfNzc0YWJkYjk2M2I3NGQyMDhiOGI2OGJiZGJlZjQyN2UpOwogICAgICAgICAgICAKCiAgICAgICAgICAgIGNpcmNsZV9tYXJrZXJfYTkxYjU0MzA2OWMyNDQwOWE4MmQwN2Q4MDRhMTlhNDIuYmluZFBvcHVwKHBvcHVwXzRkMWQxNzg5ZDM0NDRkYjJhNjExNGQyMjhkYjMxMWMyKTsKCiAgICAgICAgICAgIAogICAgICAgIAogICAgCiAgICAgICAgICAgIHZhciBjaXJjbGVfbWFya2VyX2QwOTc3OTNkZTg0MzRlNzBiMTBhMmJhMGEwZDU1MzU5ID0gTC5jaXJjbGVNYXJrZXIoCiAgICAgICAgICAgICAgICBbNDAuNzE5MzIzNzkzOTU5MDcsLTczLjk5NzMwNDY3MjA4MDczXSwKICAgICAgICAgICAgICAgIHsKICAiYnViYmxpbmdNb3VzZUV2ZW50cyI6IHRydWUsCiAgImNvbG9yIjogImJsdWUiLAogICJkYXNoQXJyYXkiOiBudWxsLAogICJkYXNoT2Zmc2V0IjogbnVsbCwKICAiZmlsbCI6IHRydWUsCiAgImZpbGxDb2xvciI6ICIjMzE4NmNjIiwKICAiZmlsbE9wYWNpdHkiOiAwLjcsCiAgImZpbGxSdWxlIjogImV2ZW5vZGQiLAogICJsaW5lQ2FwIjogInJvdW5kIiwKICAibGluZUpvaW4iOiAicm91bmQiLAogICJvcGFjaXR5IjogMS4wLAogICJyYWRpdXMiOiA1LAogICJzdHJva2UiOiB0cnVlLAogICJ3ZWlnaHQiOiAzCn0KICAgICAgICAgICAgICAgICkuYWRkVG8obWFwXzBkN2ZiYjdkMmQ2MTQ5NWQ4ODNiMDE5ZWU2Y2I4YmYzKTsKICAgICAgICAgICAgCiAgICAKICAgICAgICAgICAgdmFyIHBvcHVwX2IyNjlmZDgxYjdmMDRlZDA5YWM3MDFlYTVjZWM2ZWIyID0gTC5wb3B1cCh7bWF4V2lkdGg6ICczMDAnfSk7CgogICAgICAgICAgICAKICAgICAgICAgICAgICAgIHZhciBodG1sXzIyNmFjODc4MDg2MzQyOTU4ZjcxODk0MzY5NjE0ZDNhID0gJCgnPGRpdiBpZD0iaHRtbF8yMjZhYzg3ODA4NjM0Mjk1OGY3MTg5NDM2OTYxNGQzYSIgc3R5bGU9IndpZHRoOiAxMDAuMCU7IGhlaWdodDogMTAwLjAlOyI+TGl0dGxlIEl0YWx5LCBNYW5oYXR0YW48L2Rpdj4nKVswXTsKICAgICAgICAgICAgICAgIHBvcHVwX2IyNjlmZDgxYjdmMDRlZDA5YWM3MDFlYTVjZWM2ZWIyLnNldENvbnRlbnQoaHRtbF8yMjZhYzg3ODA4NjM0Mjk1OGY3MTg5NDM2OTYxNGQzYSk7CiAgICAgICAgICAgIAoKICAgICAgICAgICAgY2lyY2xlX21hcmtlcl9kMDk3NzkzZGU4NDM0ZTcwYjEwYTJiYTBhMGQ1NTM1OS5iaW5kUG9wdXAocG9wdXBfYjI2OWZkODFiN2YwNGVkMDlhYzcwMWVhNWNlYzZlYjIpOwoKICAgICAgICAgICAgCiAgICAgICAgCiAgICAKICAgICAgICAgICAgdmFyIGNpcmNsZV9tYXJrZXJfYzk1ZDc5MzA1NjBjNDIzYzgyMjQ1MzMzY2JmZmMxYmMgPSBMLmNpcmNsZU1hcmtlcigKICAgICAgICAgICAgICAgIFs0MC43MjIxODM4NDEzMTc5NCwtNzQuMDAwNjU2NjY5NTk3Nl0sCiAgICAgICAgICAgICAgICB7CiAgImJ1YmJsaW5nTW91c2VFdmVudHMiOiB0cnVlLAogICJjb2xvciI6ICJibHVlIiwKICAiZGFzaEFycmF5IjogbnVsbCwKICAiZGFzaE9mZnNldCI6IG51bGwsCiAgImZpbGwiOiB0cnVlLAogICJmaWxsQ29sb3IiOiAiIzMxODZjYyIsCiAgImZpbGxPcGFjaXR5IjogMC43LAogICJmaWxsUnVsZSI6ICJldmVub2RkIiwKICAibGluZUNhcCI6ICJyb3VuZCIsCiAgImxpbmVKb2luIjogInJvdW5kIiwKICAib3BhY2l0eSI6IDEuMCwKICAicmFkaXVzIjogNSwKICAic3Ryb2tlIjogdHJ1ZSwKICAid2VpZ2h0IjogMwp9CiAgICAgICAgICAgICAgICApLmFkZFRvKG1hcF8wZDdmYmI3ZDJkNjE0OTVkODgzYjAxOWVlNmNiOGJmMyk7CiAgICAgICAgICAgIAogICAgCiAgICAgICAgICAgIHZhciBwb3B1cF9iMmU5MzNmNmJiYzk0ZDQ5YjNmYjk1YmU0YmQ2YTZhMCA9IEwucG9wdXAoe21heFdpZHRoOiAnMzAwJ30pOwoKICAgICAgICAgICAgCiAgICAgICAgICAgICAgICB2YXIgaHRtbF85ZDVjMGE5MGMzYTM0YjhmOGI2MDBhZGRmNmUyNTZhNyA9ICQoJzxkaXYgaWQ9Imh0bWxfOWQ1YzBhOTBjM2EzNGI4ZjhiNjAwYWRkZjZlMjU2YTciIHN0eWxlPSJ3aWR0aDogMTAwLjAlOyBoZWlnaHQ6IDEwMC4wJTsiPlNvaG8sIE1hbmhhdHRhbjwvZGl2PicpWzBdOwogICAgICAgICAgICAgICAgcG9wdXBfYjJlOTMzZjZiYmM5NGQ0OWIzZmI5NWJlNGJkNmE2YTAuc2V0Q29udGVudChodG1sXzlkNWMwYTkwYzNhMzRiOGY4YjYwMGFkZGY2ZTI1NmE3KTsKICAgICAgICAgICAgCgogICAgICAgICAgICBjaXJjbGVfbWFya2VyX2M5NWQ3OTMwNTYwYzQyM2M4MjI0NTMzM2NiZmZjMWJjLmJpbmRQb3B1cChwb3B1cF9iMmU5MzNmNmJiYzk0ZDQ5YjNmYjk1YmU0YmQ2YTZhMCk7CgogICAgICAgICAgICAKICAgICAgICAKICAgIAogICAgICAgICAgICB2YXIgY2lyY2xlX21hcmtlcl8yNTQ1Y2VmZDE4OWY0ZDlmOTQ0MjhmOTZlOTY0MjUzMiA9IEwuY2lyY2xlTWFya2VyKAogICAgICAgICAgICAgICAgWzQwLjczNDQzMzkzNTcyNDM1LC03NC4wMDYxNzk5ODEyNjgxM10sCiAgICAgICAgICAgICAgICB7CiAgImJ1YmJsaW5nTW91c2VFdmVudHMiOiB0cnVlLAogICJjb2xvciI6ICJibHVlIiwKICAiZGFzaEFycmF5IjogbnVsbCwKICAiZGFzaE9mZnNldCI6IG51bGwsCiAgImZpbGwiOiB0cnVlLAogICJmaWxsQ29sb3IiOiAiIzMxODZjYyIsCiAgImZpbGxPcGFjaXR5IjogMC43LAogICJmaWxsUnVsZSI6ICJldmVub2RkIiwKICAibGluZUNhcCI6ICJyb3VuZCIsCiAgImxpbmVKb2luIjogInJvdW5kIiwKICAib3BhY2l0eSI6IDEuMCwKICAicmFkaXVzIjogNSwKICAic3Ryb2tlIjogdHJ1ZSwKICAid2VpZ2h0IjogMwp9CiAgICAgICAgICAgICAgICApLmFkZFRvKG1hcF8wZDdmYmI3ZDJkNjE0OTVkODgzYjAxOWVlNmNiOGJmMyk7CiAgICAgICAgICAgIAogICAgCiAgICAgICAgICAgIHZhciBwb3B1cF8wZGNhYTljMDkwM2Q0ZDY5OWZkN2I5OWE1YTM4ZWQxNCA9IEwucG9wdXAoe21heFdpZHRoOiAnMzAwJ30pOwoKICAgICAgICAgICAgCiAgICAgICAgICAgICAgICB2YXIgaHRtbF9jOGUzNTVhMGYyY2U0YTk3ODZiYmFjYzE2ZjU5NTNiMiA9ICQoJzxkaXYgaWQ9Imh0bWxfYzhlMzU1YTBmMmNlNGE5Nzg2YmJhY2MxNmY1OTUzYjIiIHN0eWxlPSJ3aWR0aDogMTAwLjAlOyBoZWlnaHQ6IDEwMC4wJTsiPldlc3QgVmlsbGFnZSwgTWFuaGF0dGFuPC9kaXY+JylbMF07CiAgICAgICAgICAgICAgICBwb3B1cF8wZGNhYTljMDkwM2Q0ZDY5OWZkN2I5OWE1YTM4ZWQxNC5zZXRDb250ZW50KGh0bWxfYzhlMzU1YTBmMmNlNGE5Nzg2YmJhY2MxNmY1OTUzYjIpOwogICAgICAgICAgICAKCiAgICAgICAgICAgIGNpcmNsZV9tYXJrZXJfMjU0NWNlZmQxODlmNGQ5Zjk0NDI4Zjk2ZTk2NDI1MzIuYmluZFBvcHVwKHBvcHVwXzBkY2FhOWMwOTAzZDRkNjk5ZmQ3Yjk5YTVhMzhlZDE0KTsKCiAgICAgICAgICAgIAogICAgICAgIAogICAgCiAgICAgICAgICAgIHZhciBjaXJjbGVfbWFya2VyXzE1NjYyZWNjY2U3NjQxNzlhNWFjOWJiZDg3ZmJjZGIzID0gTC5jaXJjbGVNYXJrZXIoCiAgICAgICAgICAgICAgICBbNDAuNzk3MzA3MDQxNzAyODY1LC03My45NjQyODYxNzc0MDY1NV0sCiAgICAgICAgICAgICAgICB7CiAgImJ1YmJsaW5nTW91c2VFdmVudHMiOiB0cnVlLAogICJjb2xvciI6ICJibHVlIiwKICAiZGFzaEFycmF5IjogbnVsbCwKICAiZGFzaE9mZnNldCI6IG51bGwsCiAgImZpbGwiOiB0cnVlLAogICJmaWxsQ29sb3IiOiAiIzMxODZjYyIsCiAgImZpbGxPcGFjaXR5IjogMC43LAogICJmaWxsUnVsZSI6ICJldmVub2RkIiwKICAibGluZUNhcCI6ICJyb3VuZCIsCiAgImxpbmVKb2luIjogInJvdW5kIiwKICAib3BhY2l0eSI6IDEuMCwKICAicmFkaXVzIjogNSwKICAic3Ryb2tlIjogdHJ1ZSwKICAid2VpZ2h0IjogMwp9CiAgICAgICAgICAgICAgICApLmFkZFRvKG1hcF8wZDdmYmI3ZDJkNjE0OTVkODgzYjAxOWVlNmNiOGJmMyk7CiAgICAgICAgICAgIAogICAgCiAgICAgICAgICAgIHZhciBwb3B1cF83NzUxNmU2YzkyYmU0ZDY4YWNkY2MwOTYwNTdkNTc1NCA9IEwucG9wdXAoe21heFdpZHRoOiAnMzAwJ30pOwoKICAgICAgICAgICAgCiAgICAgICAgICAgICAgICB2YXIgaHRtbF9kNmJlMjdkZmNiZmY0MDg2YjFlNTJkMDVhZmM5MzYwYyA9ICQoJzxkaXYgaWQ9Imh0bWxfZDZiZTI3ZGZjYmZmNDA4NmIxZTUyZDA1YWZjOTM2MGMiIHN0eWxlPSJ3aWR0aDogMTAwLjAlOyBoZWlnaHQ6IDEwMC4wJTsiPk1hbmhhdHRhbiBWYWxsZXksIE1hbmhhdHRhbjwvZGl2PicpWzBdOwogICAgICAgICAgICAgICAgcG9wdXBfNzc1MTZlNmM5MmJlNGQ2OGFjZGNjMDk2MDU3ZDU3NTQuc2V0Q29udGVudChodG1sX2Q2YmUyN2RmY2JmZjQwODZiMWU1MmQwNWFmYzkzNjBjKTsKICAgICAgICAgICAgCgogICAgICAgICAgICBjaXJjbGVfbWFya2VyXzE1NjYyZWNjY2U3NjQxNzlhNWFjOWJiZDg3ZmJjZGIzLmJpbmRQb3B1cChwb3B1cF83NzUxNmU2YzkyYmU0ZDY4YWNkY2MwOTYwNTdkNTc1NCk7CgogICAgICAgICAgICAKICAgICAgICAKICAgIAogICAgICAgICAgICB2YXIgY2lyY2xlX21hcmtlcl83NzQ1NWRkOTYxM2U0MjIxYTM1Nzc4M2RhYjM4YTEzYiA9IEwuY2lyY2xlTWFya2VyKAogICAgICAgICAgICAgICAgWzQwLjgwNzk5OTczODE2NTgyNiwtNzMuOTYzODk2Mjc5MDUzMzJdLAogICAgICAgICAgICAgICAgewogICJidWJibGluZ01vdXNlRXZlbnRzIjogdHJ1ZSwKICAiY29sb3IiOiAiYmx1ZSIsCiAgImRhc2hBcnJheSI6IG51bGwsCiAgImRhc2hPZmZzZXQiOiBudWxsLAogICJmaWxsIjogdHJ1ZSwKICAiZmlsbENvbG9yIjogIiMzMTg2Y2MiLAogICJmaWxsT3BhY2l0eSI6IDAuNywKICAiZmlsbFJ1bGUiOiAiZXZlbm9kZCIsCiAgImxpbmVDYXAiOiAicm91bmQiLAogICJsaW5lSm9pbiI6ICJyb3VuZCIsCiAgIm9wYWNpdHkiOiAxLjAsCiAgInJhZGl1cyI6IDUsCiAgInN0cm9rZSI6IHRydWUsCiAgIndlaWdodCI6IDMKfQogICAgICAgICAgICAgICAgKS5hZGRUbyhtYXBfMGQ3ZmJiN2QyZDYxNDk1ZDg4M2IwMTllZTZjYjhiZjMpOwogICAgICAgICAgICAKICAgIAogICAgICAgICAgICB2YXIgcG9wdXBfYzA2YThhNTRlM2VkNGQyY2EzZDdlNTRlYmM2ZjAwZGMgPSBMLnBvcHVwKHttYXhXaWR0aDogJzMwMCd9KTsKCiAgICAgICAgICAgIAogICAgICAgICAgICAgICAgdmFyIGh0bWxfZDFjNDhkOTViNGUxNGJiYzhlZmEzYTNkOGRhMzI2ZjcgPSAkKCc8ZGl2IGlkPSJodG1sX2QxYzQ4ZDk1YjRlMTRiYmM4ZWZhM2EzZDhkYTMyNmY3IiBzdHlsZT0id2lkdGg6IDEwMC4wJTsgaGVpZ2h0OiAxMDAuMCU7Ij5Nb3JuaW5nc2lkZSBIZWlnaHRzLCBNYW5oYXR0YW48L2Rpdj4nKVswXTsKICAgICAgICAgICAgICAgIHBvcHVwX2MwNmE4YTU0ZTNlZDRkMmNhM2Q3ZTU0ZWJjNmYwMGRjLnNldENvbnRlbnQoaHRtbF9kMWM0OGQ5NWI0ZTE0YmJjOGVmYTNhM2Q4ZGEzMjZmNyk7CiAgICAgICAgICAgIAoKICAgICAgICAgICAgY2lyY2xlX21hcmtlcl83NzQ1NWRkOTYxM2U0MjIxYTM1Nzc4M2RhYjM4YTEzYi5iaW5kUG9wdXAocG9wdXBfYzA2YThhNTRlM2VkNGQyY2EzZDdlNTRlYmM2ZjAwZGMpOwoKICAgICAgICAgICAgCiAgICAgICAgCiAgICAKICAgICAgICAgICAgdmFyIGNpcmNsZV9tYXJrZXJfODliOWM3ZGNmZTczNDc2MWJlZGNhMTg1M2EwNDZkNWYgPSBMLmNpcmNsZU1hcmtlcigKICAgICAgICAgICAgICAgIFs0MC43MzcyMDk4MzI3MTUsLTczLjk4MTM3NTk0ODMzNTQxXSwKICAgICAgICAgICAgICAgIHsKICAiYnViYmxpbmdNb3VzZUV2ZW50cyI6IHRydWUsCiAgImNvbG9yIjogImJsdWUiLAogICJkYXNoQXJyYXkiOiBudWxsLAogICJkYXNoT2Zmc2V0IjogbnVsbCwKICAiZmlsbCI6IHRydWUsCiAgImZpbGxDb2xvciI6ICIjMzE4NmNjIiwKICAiZmlsbE9wYWNpdHkiOiAwLjcsCiAgImZpbGxSdWxlIjogImV2ZW5vZGQiLAogICJsaW5lQ2FwIjogInJvdW5kIiwKICAibGluZUpvaW4iOiAicm91bmQiLAogICJvcGFjaXR5IjogMS4wLAogICJyYWRpdXMiOiA1LAogICJzdHJva2UiOiB0cnVlLAogICJ3ZWlnaHQiOiAzCn0KICAgICAgICAgICAgICAgICkuYWRkVG8obWFwXzBkN2ZiYjdkMmQ2MTQ5NWQ4ODNiMDE5ZWU2Y2I4YmYzKTsKICAgICAgICAgICAgCiAgICAKICAgICAgICAgICAgdmFyIHBvcHVwX2ZjNWY1NGVkYjQ1NjQ2N2U5OWZhNDMxZjljN2I5NGYwID0gTC5wb3B1cCh7bWF4V2lkdGg6ICczMDAnfSk7CgogICAgICAgICAgICAKICAgICAgICAgICAgICAgIHZhciBodG1sXzFjOThjOWRmN2Y3MTQ3Y2ZhNTVjNTUzYjdjZTUyNTZiID0gJCgnPGRpdiBpZD0iaHRtbF8xYzk4YzlkZjdmNzE0N2NmYTU1YzU1M2I3Y2U1MjU2YiIgc3R5bGU9IndpZHRoOiAxMDAuMCU7IGhlaWdodDogMTAwLjAlOyI+R3JhbWVyY3ksIE1hbmhhdHRhbjwvZGl2PicpWzBdOwogICAgICAgICAgICAgICAgcG9wdXBfZmM1ZjU0ZWRiNDU2NDY3ZTk5ZmE0MzFmOWM3Yjk0ZjAuc2V0Q29udGVudChodG1sXzFjOThjOWRmN2Y3MTQ3Y2ZhNTVjNTUzYjdjZTUyNTZiKTsKICAgICAgICAgICAgCgogICAgICAgICAgICBjaXJjbGVfbWFya2VyXzg5YjljN2RjZmU3MzQ3NjFiZWRjYTE4NTNhMDQ2ZDVmLmJpbmRQb3B1cChwb3B1cF9mYzVmNTRlZGI0NTY0NjdlOTlmYTQzMWY5YzdiOTRmMCk7CgogICAgICAgICAgICAKICAgICAgICAKICAgIAogICAgICAgICAgICB2YXIgY2lyY2xlX21hcmtlcl84NGQ5NmVmNWM2YmY0YzRhOTM1NTQyYTJlNzBjYTVjNCA9IEwuY2lyY2xlTWFya2VyKAogICAgICAgICAgICAgICAgWzQwLjcxMTkzMTk4Mzk0NTY1LC03NC4wMTY4NjkzMDUwODYxN10sCiAgICAgICAgICAgICAgICB7CiAgImJ1YmJsaW5nTW91c2VFdmVudHMiOiB0cnVlLAogICJjb2xvciI6ICJibHVlIiwKICAiZGFzaEFycmF5IjogbnVsbCwKICAiZGFzaE9mZnNldCI6IG51bGwsCiAgImZpbGwiOiB0cnVlLAogICJmaWxsQ29sb3IiOiAiIzMxODZjYyIsCiAgImZpbGxPcGFjaXR5IjogMC43LAogICJmaWxsUnVsZSI6ICJldmVub2RkIiwKICAibGluZUNhcCI6ICJyb3VuZCIsCiAgImxpbmVKb2luIjogInJvdW5kIiwKICAib3BhY2l0eSI6IDEuMCwKICAicmFkaXVzIjogNSwKICAic3Ryb2tlIjogdHJ1ZSwKICAid2VpZ2h0IjogMwp9CiAgICAgICAgICAgICAgICApLmFkZFRvKG1hcF8wZDdmYmI3ZDJkNjE0OTVkODgzYjAxOWVlNmNiOGJmMyk7CiAgICAgICAgICAgIAogICAgCiAgICAgICAgICAgIHZhciBwb3B1cF8zOTMxMDNmNTcwMWU0OTQ5OTdiNzM1OGIxMTNlNGFkNCA9IEwucG9wdXAoe21heFdpZHRoOiAnMzAwJ30pOwoKICAgICAgICAgICAgCiAgICAgICAgICAgICAgICB2YXIgaHRtbF9kNDhiMzQzNWFmYjE0ZjIzODRjYTBhMjZmYTZiZDI3ZiA9ICQoJzxkaXYgaWQ9Imh0bWxfZDQ4YjM0MzVhZmIxNGYyMzg0Y2EwYTI2ZmE2YmQyN2YiIHN0eWxlPSJ3aWR0aDogMTAwLjAlOyBoZWlnaHQ6IDEwMC4wJTsiPkJhdHRlcnkgUGFyayBDaXR5LCBNYW5oYXR0YW48L2Rpdj4nKVswXTsKICAgICAgICAgICAgICAgIHBvcHVwXzM5MzEwM2Y1NzAxZTQ5NDk5N2I3MzU4YjExM2U0YWQ0LnNldENvbnRlbnQoaHRtbF9kNDhiMzQzNWFmYjE0ZjIzODRjYTBhMjZmYTZiZDI3Zik7CiAgICAgICAgICAgIAoKICAgICAgICAgICAgY2lyY2xlX21hcmtlcl84NGQ5NmVmNWM2YmY0YzRhOTM1NTQyYTJlNzBjYTVjNC5iaW5kUG9wdXAocG9wdXBfMzkzMTAzZjU3MDFlNDk0OTk3YjczNThiMTEzZTRhZDQpOwoKICAgICAgICAgICAgCiAgICAgICAgCiAgICAKICAgICAgICAgICAgdmFyIGNpcmNsZV9tYXJrZXJfZjIyOGRmNjFhNzgzNDdiNmI5NWNmYTZmNjhmNGExZjcgPSBMLmNpcmNsZU1hcmtlcigKICAgICAgICAgICAgICAgIFs0MC43MDcxMDcxMDcyNzA0NzQsLTc0LjAxMDY2NTQ0NTIxMjcxXSwKICAgICAgICAgICAgICAgIHsKICAiYnViYmxpbmdNb3VzZUV2ZW50cyI6IHRydWUsCiAgImNvbG9yIjogImJsdWUiLAogICJkYXNoQXJyYXkiOiBudWxsLAogICJkYXNoT2Zmc2V0IjogbnVsbCwKICAiZmlsbCI6IHRydWUsCiAgImZpbGxDb2xvciI6ICIjMzE4NmNjIiwKICAiZmlsbE9wYWNpdHkiOiAwLjcsCiAgImZpbGxSdWxlIjogImV2ZW5vZGQiLAogICJsaW5lQ2FwIjogInJvdW5kIiwKICAibGluZUpvaW4iOiAicm91bmQiLAogICJvcGFjaXR5IjogMS4wLAogICJyYWRpdXMiOiA1LAogICJzdHJva2UiOiB0cnVlLAogICJ3ZWlnaHQiOiAzCn0KICAgICAgICAgICAgICAgICkuYWRkVG8obWFwXzBkN2ZiYjdkMmQ2MTQ5NWQ4ODNiMDE5ZWU2Y2I4YmYzKTsKICAgICAgICAgICAgCiAgICAKICAgICAgICAgICAgdmFyIHBvcHVwXzdkMjkxNDFkNzc5NTQ2Y2VhZjA3ZjYyOGY5YWU4ZWMzID0gTC5wb3B1cCh7bWF4V2lkdGg6ICczMDAnfSk7CgogICAgICAgICAgICAKICAgICAgICAgICAgICAgIHZhciBodG1sXzcxYzFjZDU0NmI4NDQ2NjViOGU4MTRlMTU0ZTIxMWJhID0gJCgnPGRpdiBpZD0iaHRtbF83MWMxY2Q1NDZiODQ0NjY1YjhlODE0ZTE1NGUyMTFiYSIgc3R5bGU9IndpZHRoOiAxMDAuMCU7IGhlaWdodDogMTAwLjAlOyI+RmluYW5jaWFsIERpc3RyaWN0LCBNYW5oYXR0YW48L2Rpdj4nKVswXTsKICAgICAgICAgICAgICAgIHBvcHVwXzdkMjkxNDFkNzc5NTQ2Y2VhZjA3ZjYyOGY5YWU4ZWMzLnNldENvbnRlbnQoaHRtbF83MWMxY2Q1NDZiODQ0NjY1YjhlODE0ZTE1NGUyMTFiYSk7CiAgICAgICAgICAgIAoKICAgICAgICAgICAgY2lyY2xlX21hcmtlcl9mMjI4ZGY2MWE3ODM0N2I2Yjk1Y2ZhNmY2OGY0YTFmNy5iaW5kUG9wdXAocG9wdXBfN2QyOTE0MWQ3Nzk1NDZjZWFmMDdmNjI4ZjlhZThlYzMpOwoKICAgICAgICAgICAgCiAgICAgICAgCiAgICAKICAgICAgICAgICAgdmFyIGNpcmNsZV9tYXJrZXJfNzZlMmZmZGZjZDg4NDJhNWI3Y2VmYmY0ZGY3M2E1ZGUgPSBMLmNpcmNsZU1hcmtlcigKICAgICAgICAgICAgICAgIFs0MC43ODI2ODI1NjcxMjU3MDQsLTczLjk1MzI1NjQ2ODM3MTEyXSwKICAgICAgICAgICAgICAgIHsKICAiYnViYmxpbmdNb3VzZUV2ZW50cyI6IHRydWUsCiAgImNvbG9yIjogImJsdWUiLAogICJkYXNoQXJyYXkiOiBudWxsLAogICJkYXNoT2Zmc2V0IjogbnVsbCwKICAiZmlsbCI6IHRydWUsCiAgImZpbGxDb2xvciI6ICIjMzE4NmNjIiwKICAiZmlsbE9wYWNpdHkiOiAwLjcsCiAgImZpbGxSdWxlIjogImV2ZW5vZGQiLAogICJsaW5lQ2FwIjogInJvdW5kIiwKICAibGluZUpvaW4iOiAicm91bmQiLAogICJvcGFjaXR5IjogMS4wLAogICJyYWRpdXMiOiA1LAogICJzdHJva2UiOiB0cnVlLAogICJ3ZWlnaHQiOiAzCn0KICAgICAgICAgICAgICAgICkuYWRkVG8obWFwXzBkN2ZiYjdkMmQ2MTQ5NWQ4ODNiMDE5ZWU2Y2I4YmYzKTsKICAgICAgICAgICAgCiAgICAKICAgICAgICAgICAgdmFyIHBvcHVwXzVmN2RiYjJiNDY5MDQzMDVhNmI0NTA2ZjkzM2FkNzE0ID0gTC5wb3B1cCh7bWF4V2lkdGg6ICczMDAnfSk7CgogICAgICAgICAgICAKICAgICAgICAgICAgICAgIHZhciBodG1sXzYyNjZkZWNiNGQzODRlZmViYTI3YWUyODAyNzFmYmNmID0gJCgnPGRpdiBpZD0iaHRtbF82MjY2ZGVjYjRkMzg0ZWZlYmEyN2FlMjgwMjcxZmJjZiIgc3R5bGU9IndpZHRoOiAxMDAuMCU7IGhlaWdodDogMTAwLjAlOyI+Q2FybmVnaWUgSGlsbCwgTWFuaGF0dGFuPC9kaXY+JylbMF07CiAgICAgICAgICAgICAgICBwb3B1cF81ZjdkYmIyYjQ2OTA0MzA1YTZiNDUwNmY5MzNhZDcxNC5zZXRDb250ZW50KGh0bWxfNjI2NmRlY2I0ZDM4NGVmZWJhMjdhZTI4MDI3MWZiY2YpOwogICAgICAgICAgICAKCiAgICAgICAgICAgIGNpcmNsZV9tYXJrZXJfNzZlMmZmZGZjZDg4NDJhNWI3Y2VmYmY0ZGY3M2E1ZGUuYmluZFBvcHVwKHBvcHVwXzVmN2RiYjJiNDY5MDQzMDVhNmI0NTA2ZjkzM2FkNzE0KTsKCiAgICAgICAgICAgIAogICAgICAgIAogICAgCiAgICAgICAgICAgIHZhciBjaXJjbGVfbWFya2VyX2JhZTk5YmY1ZTViMTQ4NzA4NjI0YjllMWJmOWEzNDZjID0gTC5jaXJjbGVNYXJrZXIoCiAgICAgICAgICAgICAgICBbNDAuNzIzMjU5MDE4ODU3NjgsLTczLjk4ODQzMzY4MDIzNTk3XSwKICAgICAgICAgICAgICAgIHsKICAiYnViYmxpbmdNb3VzZUV2ZW50cyI6IHRydWUsCiAgImNvbG9yIjogImJsdWUiLAogICJkYXNoQXJyYXkiOiBudWxsLAogICJkYXNoT2Zmc2V0IjogbnVsbCwKICAiZmlsbCI6IHRydWUsCiAgImZpbGxDb2xvciI6ICIjMzE4NmNjIiwKICAiZmlsbE9wYWNpdHkiOiAwLjcsCiAgImZpbGxSdWxlIjogImV2ZW5vZGQiLAogICJsaW5lQ2FwIjogInJvdW5kIiwKICAibGluZUpvaW4iOiAicm91bmQiLAogICJvcGFjaXR5IjogMS4wLAogICJyYWRpdXMiOiA1LAogICJzdHJva2UiOiB0cnVlLAogICJ3ZWlnaHQiOiAzCn0KICAgICAgICAgICAgICAgICkuYWRkVG8obWFwXzBkN2ZiYjdkMmQ2MTQ5NWQ4ODNiMDE5ZWU2Y2I4YmYzKTsKICAgICAgICAgICAgCiAgICAKICAgICAgICAgICAgdmFyIHBvcHVwXzNmZDYyMzdlZmU4MTRhOGU4ZDNhZjg4YmJmM2JiMTIyID0gTC5wb3B1cCh7bWF4V2lkdGg6ICczMDAnfSk7CgogICAgICAgICAgICAKICAgICAgICAgICAgICAgIHZhciBodG1sXzVkYWQwMTgwZmE3YzQwNmVhN2UyYTNiZjlhNDdiODU3ID0gJCgnPGRpdiBpZD0iaHRtbF81ZGFkMDE4MGZhN2M0MDZlYTdlMmEzYmY5YTQ3Yjg1NyIgc3R5bGU9IndpZHRoOiAxMDAuMCU7IGhlaWdodDogMTAwLjAlOyI+Tm9obywgTWFuaGF0dGFuPC9kaXY+JylbMF07CiAgICAgICAgICAgICAgICBwb3B1cF8zZmQ2MjM3ZWZlODE0YThlOGQzYWY4OGJiZjNiYjEyMi5zZXRDb250ZW50KGh0bWxfNWRhZDAxODBmYTdjNDA2ZWE3ZTJhM2JmOWE0N2I4NTcpOwogICAgICAgICAgICAKCiAgICAgICAgICAgIGNpcmNsZV9tYXJrZXJfYmFlOTliZjVlNWIxNDg3MDg2MjRiOWUxYmY5YTM0NmMuYmluZFBvcHVwKHBvcHVwXzNmZDYyMzdlZmU4MTRhOGU4ZDNhZjg4YmJmM2JiMTIyKTsKCiAgICAgICAgICAgIAogICAgICAgIAogICAgCiAgICAgICAgICAgIHZhciBjaXJjbGVfbWFya2VyXzBmYjY1MzhiY2YwZjQ4MDQ5Mjg3OGQ5NjU4OWUxMWQ4ID0gTC5jaXJjbGVNYXJrZXIoCiAgICAgICAgICAgICAgICBbNDAuNzE1MjI4OTIwNDYyODIsLTc0LjAwNTQxNTI5ODczMzU1XSwKICAgICAgICAgICAgICAgIHsKICAiYnViYmxpbmdNb3VzZUV2ZW50cyI6IHRydWUsCiAgImNvbG9yIjogImJsdWUiLAogICJkYXNoQXJyYXkiOiBudWxsLAogICJkYXNoT2Zmc2V0IjogbnVsbCwKICAiZmlsbCI6IHRydWUsCiAgImZpbGxDb2xvciI6ICIjMzE4NmNjIiwKICAiZmlsbE9wYWNpdHkiOiAwLjcsCiAgImZpbGxSdWxlIjogImV2ZW5vZGQiLAogICJsaW5lQ2FwIjogInJvdW5kIiwKICAibGluZUpvaW4iOiAicm91bmQiLAogICJvcGFjaXR5IjogMS4wLAogICJyYWRpdXMiOiA1LAogICJzdHJva2UiOiB0cnVlLAogICJ3ZWlnaHQiOiAzCn0KICAgICAgICAgICAgICAgICkuYWRkVG8obWFwXzBkN2ZiYjdkMmQ2MTQ5NWQ4ODNiMDE5ZWU2Y2I4YmYzKTsKICAgICAgICAgICAgCiAgICAKICAgICAgICAgICAgdmFyIHBvcHVwXzdhNTg2MTc0Mzg4OTQ4M2NiYjYyZWY2MGU0Yzg4OGU2ID0gTC5wb3B1cCh7bWF4V2lkdGg6ICczMDAnfSk7CgogICAgICAgICAgICAKICAgICAgICAgICAgICAgIHZhciBodG1sXzgxYzM1MjkzYjU2YTRjYmY4ZWMyODQzM2U1NGEyYzIwID0gJCgnPGRpdiBpZD0iaHRtbF84MWMzNTI5M2I1NmE0Y2JmOGVjMjg0MzNlNTRhMmMyMCIgc3R5bGU9IndpZHRoOiAxMDAuMCU7IGhlaWdodDogMTAwLjAlOyI+Q2l2aWMgQ2VudGVyLCBNYW5oYXR0YW48L2Rpdj4nKVswXTsKICAgICAgICAgICAgICAgIHBvcHVwXzdhNTg2MTc0Mzg4OTQ4M2NiYjYyZWY2MGU0Yzg4OGU2LnNldENvbnRlbnQoaHRtbF84MWMzNTI5M2I1NmE0Y2JmOGVjMjg0MzNlNTRhMmMyMCk7CiAgICAgICAgICAgIAoKICAgICAgICAgICAgY2lyY2xlX21hcmtlcl8wZmI2NTM4YmNmMGY0ODA0OTI4NzhkOTY1ODllMTFkOC5iaW5kUG9wdXAocG9wdXBfN2E1ODYxNzQzODg5NDgzY2JiNjJlZjYwZTRjODg4ZTYpOwoKICAgICAgICAgICAgCiAgICAgICAgCiAgICAKICAgICAgICAgICAgdmFyIGNpcmNsZV9tYXJrZXJfMDNhNjIxMzJhMjdhNGI0MzhmYWY5ZjQzOTcyMTI1YmUgPSBMLmNpcmNsZU1hcmtlcigKICAgICAgICAgICAgICAgIFs0MC43NDg1MDk2NjQzMTIyLC03My45ODg3MTMxMzI4NTI0N10sCiAgICAgICAgICAgICAgICB7CiAgImJ1YmJsaW5nTW91c2VFdmVudHMiOiB0cnVlLAogICJjb2xvciI6ICJibHVlIiwKICAiZGFzaEFycmF5IjogbnVsbCwKICAiZGFzaE9mZnNldCI6IG51bGwsCiAgImZpbGwiOiB0cnVlLAogICJmaWxsQ29sb3IiOiAiIzMxODZjYyIsCiAgImZpbGxPcGFjaXR5IjogMC43LAogICJmaWxsUnVsZSI6ICJldmVub2RkIiwKICAibGluZUNhcCI6ICJyb3VuZCIsCiAgImxpbmVKb2luIjogInJvdW5kIiwKICAib3BhY2l0eSI6IDEuMCwKICAicmFkaXVzIjogNSwKICAic3Ryb2tlIjogdHJ1ZSwKICAid2VpZ2h0IjogMwp9CiAgICAgICAgICAgICAgICApLmFkZFRvKG1hcF8wZDdmYmI3ZDJkNjE0OTVkODgzYjAxOWVlNmNiOGJmMyk7CiAgICAgICAgICAgIAogICAgCiAgICAgICAgICAgIHZhciBwb3B1cF8wM2Q4NTAxZTJlNjE0YjY5YTY2ZTE0NmNmNDgxYjIxMCA9IEwucG9wdXAoe21heFdpZHRoOiAnMzAwJ30pOwoKICAgICAgICAgICAgCiAgICAgICAgICAgICAgICB2YXIgaHRtbF8xMjlhZTAwMmI4MGM0M2EzOWM5OWNhY2NhMzZmOTdmZSA9ICQoJzxkaXYgaWQ9Imh0bWxfMTI5YWUwMDJiODBjNDNhMzljOTljYWNjYTM2Zjk3ZmUiIHN0eWxlPSJ3aWR0aDogMTAwLjAlOyBoZWlnaHQ6IDEwMC4wJTsiPk1pZHRvd24gU291dGgsIE1hbmhhdHRhbjwvZGl2PicpWzBdOwogICAgICAgICAgICAgICAgcG9wdXBfMDNkODUwMWUyZTYxNGI2OWE2NmUxNDZjZjQ4MWIyMTAuc2V0Q29udGVudChodG1sXzEyOWFlMDAyYjgwYzQzYTM5Yzk5Y2FjY2EzNmY5N2ZlKTsKICAgICAgICAgICAgCgogICAgICAgICAgICBjaXJjbGVfbWFya2VyXzAzYTYyMTMyYTI3YTRiNDM4ZmFmOWY0Mzk3MjEyNWJlLmJpbmRQb3B1cChwb3B1cF8wM2Q4NTAxZTJlNjE0YjY5YTY2ZTE0NmNmNDgxYjIxMCk7CgogICAgICAgICAgICAKICAgICAgICAKICAgIAogICAgICAgICAgICB2YXIgY2lyY2xlX21hcmtlcl8yM2IzYWUyNzRlYWE0ZTRmYjNmOGI5Y2MwNGFiMTZhMiA9IEwuY2lyY2xlTWFya2VyKAogICAgICAgICAgICAgICAgWzQwLjc2MDI4MDMzMTMxMzc0NCwtNzMuOTYzNTU2MTQwOTQzMDNdLAogICAgICAgICAgICAgICAgewogICJidWJibGluZ01vdXNlRXZlbnRzIjogdHJ1ZSwKICAiY29sb3IiOiAiYmx1ZSIsCiAgImRhc2hBcnJheSI6IG51bGwsCiAgImRhc2hPZmZzZXQiOiBudWxsLAogICJmaWxsIjogdHJ1ZSwKICAiZmlsbENvbG9yIjogIiMzMTg2Y2MiLAogICJmaWxsT3BhY2l0eSI6IDAuNywKICAiZmlsbFJ1bGUiOiAiZXZlbm9kZCIsCiAgImxpbmVDYXAiOiAicm91bmQiLAogICJsaW5lSm9pbiI6ICJyb3VuZCIsCiAgIm9wYWNpdHkiOiAxLjAsCiAgInJhZGl1cyI6IDUsCiAgInN0cm9rZSI6IHRydWUsCiAgIndlaWdodCI6IDMKfQogICAgICAgICAgICAgICAgKS5hZGRUbyhtYXBfMGQ3ZmJiN2QyZDYxNDk1ZDg4M2IwMTllZTZjYjhiZjMpOwogICAgICAgICAgICAKICAgIAogICAgICAgICAgICB2YXIgcG9wdXBfMzZmMjRmYzIwODYzNDljNmJmYzJhODBiOTZmZDg1OTUgPSBMLnBvcHVwKHttYXhXaWR0aDogJzMwMCd9KTsKCiAgICAgICAgICAgIAogICAgICAgICAgICAgICAgdmFyIGh0bWxfNmQwN2M3YjgxODgyNDNhN2FjZDg5YzE5OGQxOTIzMGUgPSAkKCc8ZGl2IGlkPSJodG1sXzZkMDdjN2I4MTg4MjQzYTdhY2Q4OWMxOThkMTkyMzBlIiBzdHlsZT0id2lkdGg6IDEwMC4wJTsgaGVpZ2h0OiAxMDAuMCU7Ij5TdXR0b24gUGxhY2UsIE1hbmhhdHRhbjwvZGl2PicpWzBdOwogICAgICAgICAgICAgICAgcG9wdXBfMzZmMjRmYzIwODYzNDljNmJmYzJhODBiOTZmZDg1OTUuc2V0Q29udGVudChodG1sXzZkMDdjN2I4MTg4MjQzYTdhY2Q4OWMxOThkMTkyMzBlKTsKICAgICAgICAgICAgCgogICAgICAgICAgICBjaXJjbGVfbWFya2VyXzIzYjNhZTI3NGVhYTRlNGZiM2Y4YjljYzA0YWIxNmEyLmJpbmRQb3B1cChwb3B1cF8zNmYyNGZjMjA4NjM0OWM2YmZjMmE4MGI5NmZkODU5NSk7CgogICAgICAgICAgICAKICAgICAgICAKICAgIAogICAgICAgICAgICB2YXIgY2lyY2xlX21hcmtlcl8xMGY2NmUxODVhMWY0ZjcwYWFkZDdlMjQyMjg5MjNkZiA9IEwuY2lyY2xlTWFya2VyKAogICAgICAgICAgICAgICAgWzQwLjc1MjA0MjM2OTUwNzIxNSwtNzMuOTY3NzA4MjQ1ODE4MzRdLAogICAgICAgICAgICAgICAgewogICJidWJibGluZ01vdXNlRXZlbnRzIjogdHJ1ZSwKICAiY29sb3IiOiAiYmx1ZSIsCiAgImRhc2hBcnJheSI6IG51bGwsCiAgImRhc2hPZmZzZXQiOiBudWxsLAogICJmaWxsIjogdHJ1ZSwKICAiZmlsbENvbG9yIjogIiMzMTg2Y2MiLAogICJmaWxsT3BhY2l0eSI6IDAuNywKICAiZmlsbFJ1bGUiOiAiZXZlbm9kZCIsCiAgImxpbmVDYXAiOiAicm91bmQiLAogICJsaW5lSm9pbiI6ICJyb3VuZCIsCiAgIm9wYWNpdHkiOiAxLjAsCiAgInJhZGl1cyI6IDUsCiAgInN0cm9rZSI6IHRydWUsCiAgIndlaWdodCI6IDMKfQogICAgICAgICAgICAgICAgKS5hZGRUbyhtYXBfMGQ3ZmJiN2QyZDYxNDk1ZDg4M2IwMTllZTZjYjhiZjMpOwogICAgICAgICAgICAKICAgIAogICAgICAgICAgICB2YXIgcG9wdXBfNDdlNDQ4MmQxZjI2NGY2YTk4YjYzM2MxOTdlNzRmNWQgPSBMLnBvcHVwKHttYXhXaWR0aDogJzMwMCd9KTsKCiAgICAgICAgICAgIAogICAgICAgICAgICAgICAgdmFyIGh0bWxfZTMwNzhiMjZjNzcyNDFlOTljMmRmMGFlZjYxY2IzNjggPSAkKCc8ZGl2IGlkPSJodG1sX2UzMDc4YjI2Yzc3MjQxZTk5YzJkZjBhZWY2MWNiMzY4IiBzdHlsZT0id2lkdGg6IDEwMC4wJTsgaGVpZ2h0OiAxMDAuMCU7Ij5UdXJ0bGUgQmF5LCBNYW5oYXR0YW48L2Rpdj4nKVswXTsKICAgICAgICAgICAgICAgIHBvcHVwXzQ3ZTQ0ODJkMWYyNjRmNmE5OGI2MzNjMTk3ZTc0ZjVkLnNldENvbnRlbnQoaHRtbF9lMzA3OGIyNmM3NzI0MWU5OWMyZGYwYWVmNjFjYjM2OCk7CiAgICAgICAgICAgIAoKICAgICAgICAgICAgY2lyY2xlX21hcmtlcl8xMGY2NmUxODVhMWY0ZjcwYWFkZDdlMjQyMjg5MjNkZi5iaW5kUG9wdXAocG9wdXBfNDdlNDQ4MmQxZjI2NGY2YTk4YjYzM2MxOTdlNzRmNWQpOwoKICAgICAgICAgICAgCiAgICAgICAgCiAgICAKICAgICAgICAgICAgdmFyIGNpcmNsZV9tYXJrZXJfNGM2OTEwMTdlMjgzNDRlOWE4YTljMzU4OTQ4NGYzZWUgPSBMLmNpcmNsZU1hcmtlcigKICAgICAgICAgICAgICAgIFs0MC43NDY5MTc0MTA3NDAyLC03My45NzEyMTkyODcyMjI2NV0sCiAgICAgICAgICAgICAgICB7CiAgImJ1YmJsaW5nTW91c2VFdmVudHMiOiB0cnVlLAogICJjb2xvciI6ICJibHVlIiwKICAiZGFzaEFycmF5IjogbnVsbCwKICAiZGFzaE9mZnNldCI6IG51bGwsCiAgImZpbGwiOiB0cnVlLAogICJmaWxsQ29sb3IiOiAiIzMxODZjYyIsCiAgImZpbGxPcGFjaXR5IjogMC43LAogICJmaWxsUnVsZSI6ICJldmVub2RkIiwKICAibGluZUNhcCI6ICJyb3VuZCIsCiAgImxpbmVKb2luIjogInJvdW5kIiwKICAib3BhY2l0eSI6IDEuMCwKICAicmFkaXVzIjogNSwKICAic3Ryb2tlIjogdHJ1ZSwKICAid2VpZ2h0IjogMwp9CiAgICAgICAgICAgICAgICApLmFkZFRvKG1hcF8wZDdmYmI3ZDJkNjE0OTVkODgzYjAxOWVlNmNiOGJmMyk7CiAgICAgICAgICAgIAogICAgCiAgICAgICAgICAgIHZhciBwb3B1cF85YTliZmIwNGE4NzA0NjM5YmRiODRkMTIyYzk0Yjc5YyA9IEwucG9wdXAoe21heFdpZHRoOiAnMzAwJ30pOwoKICAgICAgICAgICAgCiAgICAgICAgICAgICAgICB2YXIgaHRtbF9mZmQ3OTY3NzVhMjc0YmM0OGUyOGU5NzJiNDkxYjQ2NiA9ICQoJzxkaXYgaWQ9Imh0bWxfZmZkNzk2Nzc1YTI3NGJjNDhlMjhlOTcyYjQ5MWI0NjYiIHN0eWxlPSJ3aWR0aDogMTAwLjAlOyBoZWlnaHQ6IDEwMC4wJTsiPlR1ZG9yIENpdHksIE1hbmhhdHRhbjwvZGl2PicpWzBdOwogICAgICAgICAgICAgICAgcG9wdXBfOWE5YmZiMDRhODcwNDYzOWJkYjg0ZDEyMmM5NGI3OWMuc2V0Q29udGVudChodG1sX2ZmZDc5Njc3NWEyNzRiYzQ4ZTI4ZTk3MmI0OTFiNDY2KTsKICAgICAgICAgICAgCgogICAgICAgICAgICBjaXJjbGVfbWFya2VyXzRjNjkxMDE3ZTI4MzQ0ZTlhOGE5YzM1ODk0ODRmM2VlLmJpbmRQb3B1cChwb3B1cF85YTliZmIwNGE4NzA0NjM5YmRiODRkMTIyYzk0Yjc5Yyk7CgogICAgICAgICAgICAKICAgICAgICAKICAgIAogICAgICAgICAgICB2YXIgY2lyY2xlX21hcmtlcl9kMDg4ZDhmYThlMDM0MjRhYmZkNTI0NzQ4MWM0MGUyZSA9IEwuY2lyY2xlTWFya2VyKAogICAgICAgICAgICAgICAgWzQwLjczMDk5OTU1NDc3MDYwNSwtNzMuOTc0MDUxNzA0NjkyMDNdLAogICAgICAgICAgICAgICAgewogICJidWJibGluZ01vdXNlRXZlbnRzIjogdHJ1ZSwKICAiY29sb3IiOiAiYmx1ZSIsCiAgImRhc2hBcnJheSI6IG51bGwsCiAgImRhc2hPZmZzZXQiOiBudWxsLAogICJmaWxsIjogdHJ1ZSwKICAiZmlsbENvbG9yIjogIiMzMTg2Y2MiLAogICJmaWxsT3BhY2l0eSI6IDAuNywKICAiZmlsbFJ1bGUiOiAiZXZlbm9kZCIsCiAgImxpbmVDYXAiOiAicm91bmQiLAogICJsaW5lSm9pbiI6ICJyb3VuZCIsCiAgIm9wYWNpdHkiOiAxLjAsCiAgInJhZGl1cyI6IDUsCiAgInN0cm9rZSI6IHRydWUsCiAgIndlaWdodCI6IDMKfQogICAgICAgICAgICAgICAgKS5hZGRUbyhtYXBfMGQ3ZmJiN2QyZDYxNDk1ZDg4M2IwMTllZTZjYjhiZjMpOwogICAgICAgICAgICAKICAgIAogICAgICAgICAgICB2YXIgcG9wdXBfODdkZjcwMjViOGJkNDU3ZGJhNDk5ZjVjYTExNGYzNWIgPSBMLnBvcHVwKHttYXhXaWR0aDogJzMwMCd9KTsKCiAgICAgICAgICAgIAogICAgICAgICAgICAgICAgdmFyIGh0bWxfZmIxZTFlZDQ0YzVlNGQ4MWE4NTA0ZTk0NTFjM2NmNTIgPSAkKCc8ZGl2IGlkPSJodG1sX2ZiMWUxZWQ0NGM1ZTRkODFhODUwNGU5NDUxYzNjZjUyIiBzdHlsZT0id2lkdGg6IDEwMC4wJTsgaGVpZ2h0OiAxMDAuMCU7Ij5TdHV5dmVzYW50IFRvd24sIE1hbmhhdHRhbjwvZGl2PicpWzBdOwogICAgICAgICAgICAgICAgcG9wdXBfODdkZjcwMjViOGJkNDU3ZGJhNDk5ZjVjYTExNGYzNWIuc2V0Q29udGVudChodG1sX2ZiMWUxZWQ0NGM1ZTRkODFhODUwNGU5NDUxYzNjZjUyKTsKICAgICAgICAgICAgCgogICAgICAgICAgICBjaXJjbGVfbWFya2VyX2QwODhkOGZhOGUwMzQyNGFiZmQ1MjQ3NDgxYzQwZTJlLmJpbmRQb3B1cChwb3B1cF84N2RmNzAyNWI4YmQ0NTdkYmE0OTlmNWNhMTE0ZjM1Yik7CgogICAgICAgICAgICAKICAgICAgICAKICAgIAogICAgICAgICAgICB2YXIgY2lyY2xlX21hcmtlcl82MDE0ZDBhYzVkNTY0MTA4OGE2MjE2NTE3ZmNkZDViZCA9IEwuY2lyY2xlTWFya2VyKAogICAgICAgICAgICAgICAgWzQwLjczOTY3MzA0NzYzODQyLC03My45OTA5NDcxMDUyODI1OV0sCiAgICAgICAgICAgICAgICB7CiAgImJ1YmJsaW5nTW91c2VFdmVudHMiOiB0cnVlLAogICJjb2xvciI6ICJibHVlIiwKICAiZGFzaEFycmF5IjogbnVsbCwKICAiZGFzaE9mZnNldCI6IG51bGwsCiAgImZpbGwiOiB0cnVlLAogICJmaWxsQ29sb3IiOiAiIzMxODZjYyIsCiAgImZpbGxPcGFjaXR5IjogMC43LAogICJmaWxsUnVsZSI6ICJldmVub2RkIiwKICAibGluZUNhcCI6ICJyb3VuZCIsCiAgImxpbmVKb2luIjogInJvdW5kIiwKICAib3BhY2l0eSI6IDEuMCwKICAicmFkaXVzIjogNSwKICAic3Ryb2tlIjogdHJ1ZSwKICAid2VpZ2h0IjogMwp9CiAgICAgICAgICAgICAgICApLmFkZFRvKG1hcF8wZDdmYmI3ZDJkNjE0OTVkODgzYjAxOWVlNmNiOGJmMyk7CiAgICAgICAgICAgIAogICAgCiAgICAgICAgICAgIHZhciBwb3B1cF8wMjlmYmQ5OWI5NWU0YWNiOGI0OTI2YzJhYjhjMWRiMyA9IEwucG9wdXAoe21heFdpZHRoOiAnMzAwJ30pOwoKICAgICAgICAgICAgCiAgICAgICAgICAgICAgICB2YXIgaHRtbF84NzFlYTAwZmU3ZDg0ZWFkODc3MWNkMzdmZTJiOTA5MiA9ICQoJzxkaXYgaWQ9Imh0bWxfODcxZWEwMGZlN2Q4NGVhZDg3NzFjZDM3ZmUyYjkwOTIiIHN0eWxlPSJ3aWR0aDogMTAwLjAlOyBoZWlnaHQ6IDEwMC4wJTsiPkZsYXRpcm9uLCBNYW5oYXR0YW48L2Rpdj4nKVswXTsKICAgICAgICAgICAgICAgIHBvcHVwXzAyOWZiZDk5Yjk1ZTRhY2I4YjQ5MjZjMmFiOGMxZGIzLnNldENvbnRlbnQoaHRtbF84NzFlYTAwZmU3ZDg0ZWFkODc3MWNkMzdmZTJiOTA5Mik7CiAgICAgICAgICAgIAoKICAgICAgICAgICAgY2lyY2xlX21hcmtlcl82MDE0ZDBhYzVkNTY0MTA4OGE2MjE2NTE3ZmNkZDViZC5iaW5kUG9wdXAocG9wdXBfMDI5ZmJkOTliOTVlNGFjYjhiNDkyNmMyYWI4YzFkYjMpOwoKICAgICAgICAgICAgCiAgICAgICAgCiAgICAKICAgICAgICAgICAgdmFyIGNpcmNsZV9tYXJrZXJfNjJiYzE4NzZjNTNhNDU4ZWEzNTZlOThlNTgxMmRjZDAgPSBMLmNpcmNsZU1hcmtlcigKICAgICAgICAgICAgICAgIFs0MC43NTY2NTgwODIyNzUxOSwtNzQuMDAwMTExMzYyMDI2MzddLAogICAgICAgICAgICAgICAgewogICJidWJibGluZ01vdXNlRXZlbnRzIjogdHJ1ZSwKICAiY29sb3IiOiAiYmx1ZSIsCiAgImRhc2hBcnJheSI6IG51bGwsCiAgImRhc2hPZmZzZXQiOiBudWxsLAogICJmaWxsIjogdHJ1ZSwKICAiZmlsbENvbG9yIjogIiMzMTg2Y2MiLAogICJmaWxsT3BhY2l0eSI6IDAuNywKICAiZmlsbFJ1bGUiOiAiZXZlbm9kZCIsCiAgImxpbmVDYXAiOiAicm91bmQiLAogICJsaW5lSm9pbiI6ICJyb3VuZCIsCiAgIm9wYWNpdHkiOiAxLjAsCiAgInJhZGl1cyI6IDUsCiAgInN0cm9rZSI6IHRydWUsCiAgIndlaWdodCI6IDMKfQogICAgICAgICAgICAgICAgKS5hZGRUbyhtYXBfMGQ3ZmJiN2QyZDYxNDk1ZDg4M2IwMTllZTZjYjhiZjMpOwogICAgICAgICAgICAKICAgIAogICAgICAgICAgICB2YXIgcG9wdXBfZTJjMmIwYjY2MGE0NGVhNjlmZDA4ZmQ1YzY1YzYyZGEgPSBMLnBvcHVwKHttYXhXaWR0aDogJzMwMCd9KTsKCiAgICAgICAgICAgIAogICAgICAgICAgICAgICAgdmFyIGh0bWxfZDNmNzYxY2VhZjM4NDRiNzgzZDdjNTQyOWJhYjg0NzAgPSAkKCc8ZGl2IGlkPSJodG1sX2QzZjc2MWNlYWYzODQ0Yjc4M2Q3YzU0MjliYWI4NDcwIiBzdHlsZT0id2lkdGg6IDEwMC4wJTsgaGVpZ2h0OiAxMDAuMCU7Ij5IdWRzb24gWWFyZHMsIE1hbmhhdHRhbjwvZGl2PicpWzBdOwogICAgICAgICAgICAgICAgcG9wdXBfZTJjMmIwYjY2MGE0NGVhNjlmZDA4ZmQ1YzY1YzYyZGEuc2V0Q29udGVudChodG1sX2QzZjc2MWNlYWYzODQ0Yjc4M2Q3YzU0MjliYWI4NDcwKTsKICAgICAgICAgICAgCgogICAgICAgICAgICBjaXJjbGVfbWFya2VyXzYyYmMxODc2YzUzYTQ1OGVhMzU2ZTk4ZTU4MTJkY2QwLmJpbmRQb3B1cChwb3B1cF9lMmMyYjBiNjYwYTQ0ZWE2OWZkMDhmZDVjNjVjNjJkYSk7CgogICAgICAgICAgICAKICAgICAgICAKPC9zY3JpcHQ+\" style=\"position:absolute;width:100%;height:100%;left:0;top:0;border:none !important;\" allowfullscreen webkitallowfullscreen mozallowfullscreen></iframe></div></div>"
      ],
      "text/plain": [
       "<folium.folium.Map at 0x221d270dc88>"
      ]
     },
     "execution_count": 401,
     "metadata": {},
     "output_type": "execute_result"
    }
   ],
   "source": [
    "address = 'Manhattan, New York, NY'\n",
    "\n",
    "geolocator = Nominatim(user_agent=\"ny_explorer\")\n",
    "location = geolocator.geocode(address)\n",
    "\n",
    "latitude = location.latitude\n",
    "longitude = location.longitude\n",
    "\n",
    "# create map of Toronto using latitude and longitude values\n",
    "map_ny = folium.Map(location=[latitude, longitude], zoom_start=11)\n",
    "\n",
    "# add markers to map\n",
    "for lat, lng, borough, neighborhood in zip(new_york['Latitude'], new_york['Longitude'], new_york['Borough'], new_york['Neighborhood']):\n",
    "    label = '{}, {}'.format(neighborhood, borough)\n",
    "    label = folium.Popup(label, parse_html=True)\n",
    "    folium.CircleMarker(\n",
    "        [lat, lng],\n",
    "        radius=5,\n",
    "        popup=label,\n",
    "        color='blue',\n",
    "        fill=True,\n",
    "        fill_color='#3186cc',\n",
    "        fill_opacity=0.7,\n",
    "        parse_html=False).add_to(map_ny)  \n",
    "    \n",
    "map_ny"
   ]
  },
  {
   "cell_type": "markdown",
   "metadata": {},
   "source": [
    "#### Foursquare credentials:"
   ]
  },
  {
   "cell_type": "code",
   "execution_count": null,
   "metadata": {},
   "outputs": [],
   "source": [
    "CLIENT_ID = 'M4OAEWZU4YKT1G4TL2IFWLWFE5W5S45EFFE0X4FVA1YHCNEC' # your Foursquare ID\n",
    "CLIENT_SECRET = 'AGIBLIFO5BZRAHVIPNK31PJIWRBWHR5EHOLWFZAQREBUFBUQ' # your Foursquare Secret\n",
    "VERSION = '20180604'\n",
    "LIMIT = 100\n",
    "print('Your credentails:')\n",
    "print('CLIENT_ID: ' + CLIENT_ID)\n",
    "print('CLIENT_SECRET:' + CLIENT_SECRET)"
   ]
  },
  {
   "cell_type": "markdown",
   "metadata": {},
   "source": [
    "Let´s use the provided function to get nearby venues of a given coordinate!"
   ]
  },
  {
   "cell_type": "code",
   "execution_count": null,
   "metadata": {},
   "outputs": [],
   "source": [
    "def getNearbyVenues(names, latitudes, longitudes, radius=500):\n",
    "    \n",
    "    venues_list=[]\n",
    "    for name, lat, lng in zip(names, latitudes, longitudes):\n",
    "        #print(name)\n",
    "            \n",
    "        # create the API request URL\n",
    "        url = 'https://api.foursquare.com/v2/venues/explore?&client_id={}&client_secret={}&v={}&ll={},{}&radius={}&limit={}'.format(\n",
    "            CLIENT_ID, \n",
    "            CLIENT_SECRET, \n",
    "            VERSION, \n",
    "            lat, \n",
    "            lng, \n",
    "            radius, \n",
    "            LIMIT)\n",
    "            \n",
    "        # make the GET request\n",
    "        results = requests.get(url).json()[\"response\"]['groups'][0]['items']\n",
    "        \n",
    "        # return only relevant information for each nearby venue\n",
    "        venues_list.append([(\n",
    "            name, \n",
    "            lat, \n",
    "            lng, \n",
    "            v['venue']['name'], \n",
    "            v['venue']['location']['lat'], \n",
    "            v['venue']['location']['lng'],  \n",
    "            v['venue']['categories'][0]['name']) for v in results])\n",
    "\n",
    "    nearby_venues = pd.DataFrame([item for venue_list in venues_list for item in venue_list])\n",
    "    nearby_venues.columns = ['Borough', \n",
    "                  'Borough Latitude', \n",
    "                  'Borough Longitude', \n",
    "                  'Venue', \n",
    "                  'Venue Latitude', \n",
    "                  'Venue Longitude', \n",
    "                  'Venue Category']\n",
    "    \n",
    "    return(nearby_venues)"
   ]
  },
  {
   "cell_type": "code",
   "execution_count": null,
   "metadata": {},
   "outputs": [],
   "source": [
    "toronto_venues = getNearbyVenues(names=toronto['Borough'],\n",
    "                                   latitudes=toronto['Latitude'],\n",
    "                                   longitudes=toronto['Longitude']\n",
    "                                  )\n",
    "print('Finished!')"
   ]
  },
  {
   "cell_type": "markdown",
   "metadata": {},
   "source": [
    "Now that we have fetched venues data, we merge our location data into it, and take a look of how it is structured:"
   ]
  },
  {
   "cell_type": "code",
   "execution_count": null,
   "metadata": {},
   "outputs": [],
   "source": [
    "print(toronto_venues.shape)\n",
    "print('There are {} uniques categories.'.format(len(toronto_venues['Venue Category'].unique())))\n",
    "\n",
    "toronto_venues = toronto_venues.merge(toronto.drop('Borough',axis=1), left_on=['Borough Latitude','Borough Longitude'], right_on=['Latitude','Longitude'])\n",
    "toronto_venues.drop(['Borough Latitude', 'Borough Longitude'], axis=1, inplace=True)"
   ]
  },
  {
   "cell_type": "code",
   "execution_count": 48,
   "metadata": {},
   "outputs": [
    {
     "name": "stdout",
     "output_type": "stream",
     "text": [
      "(1709, 8)\n"
     ]
    },
    {
     "data": {
      "text/html": [
       "<div>\n",
       "<style scoped>\n",
       "    .dataframe tbody tr th:only-of-type {\n",
       "        vertical-align: middle;\n",
       "    }\n",
       "\n",
       "    .dataframe tbody tr th {\n",
       "        vertical-align: top;\n",
       "    }\n",
       "\n",
       "    .dataframe thead th {\n",
       "        text-align: right;\n",
       "    }\n",
       "</style>\n",
       "<table border=\"1\" class=\"dataframe\">\n",
       "  <thead>\n",
       "    <tr style=\"text-align: right;\">\n",
       "      <th></th>\n",
       "      <th>Borough</th>\n",
       "      <th>Venue</th>\n",
       "      <th>Venue Latitude</th>\n",
       "      <th>Venue Longitude</th>\n",
       "      <th>Venue Category</th>\n",
       "      <th>Neighborhood</th>\n",
       "      <th>Latitude</th>\n",
       "      <th>Longitude</th>\n",
       "    </tr>\n",
       "  </thead>\n",
       "  <tbody>\n",
       "    <tr>\n",
       "      <th>0</th>\n",
       "      <td>East Toronto</td>\n",
       "      <td>Glen Manor Ravine</td>\n",
       "      <td>43.676821</td>\n",
       "      <td>-79.293942</td>\n",
       "      <td>Trail</td>\n",
       "      <td>The Beaches</td>\n",
       "      <td>43.676357</td>\n",
       "      <td>-79.293031</td>\n",
       "    </tr>\n",
       "    <tr>\n",
       "      <th>1</th>\n",
       "      <td>East Toronto</td>\n",
       "      <td>The Big Carrot Natural Food Market</td>\n",
       "      <td>43.678879</td>\n",
       "      <td>-79.297734</td>\n",
       "      <td>Health Food Store</td>\n",
       "      <td>The Beaches</td>\n",
       "      <td>43.676357</td>\n",
       "      <td>-79.293031</td>\n",
       "    </tr>\n",
       "    <tr>\n",
       "      <th>2</th>\n",
       "      <td>East Toronto</td>\n",
       "      <td>Grover Pub and Grub</td>\n",
       "      <td>43.679181</td>\n",
       "      <td>-79.297215</td>\n",
       "      <td>Pub</td>\n",
       "      <td>The Beaches</td>\n",
       "      <td>43.676357</td>\n",
       "      <td>-79.293031</td>\n",
       "    </tr>\n",
       "    <tr>\n",
       "      <th>3</th>\n",
       "      <td>East Toronto</td>\n",
       "      <td>Glen Stewart Ravine</td>\n",
       "      <td>43.676300</td>\n",
       "      <td>-79.294784</td>\n",
       "      <td>Other Great Outdoors</td>\n",
       "      <td>The Beaches</td>\n",
       "      <td>43.676357</td>\n",
       "      <td>-79.293031</td>\n",
       "    </tr>\n",
       "    <tr>\n",
       "      <th>4</th>\n",
       "      <td>East Toronto</td>\n",
       "      <td>Upper Beaches</td>\n",
       "      <td>43.680563</td>\n",
       "      <td>-79.292869</td>\n",
       "      <td>Neighborhood</td>\n",
       "      <td>The Beaches</td>\n",
       "      <td>43.676357</td>\n",
       "      <td>-79.293031</td>\n",
       "    </tr>\n",
       "  </tbody>\n",
       "</table>\n",
       "</div>"
      ],
      "text/plain": [
       "        Borough                               Venue  Venue Latitude  \\\n",
       "0  East Toronto                   Glen Manor Ravine       43.676821   \n",
       "1  East Toronto  The Big Carrot Natural Food Market       43.678879   \n",
       "2  East Toronto                 Grover Pub and Grub       43.679181   \n",
       "3  East Toronto                 Glen Stewart Ravine       43.676300   \n",
       "4  East Toronto                       Upper Beaches       43.680563   \n",
       "\n",
       "   Venue Longitude        Venue Category Neighborhood   Latitude  Longitude  \n",
       "0       -79.293942                 Trail  The Beaches  43.676357 -79.293031  \n",
       "1       -79.297734     Health Food Store  The Beaches  43.676357 -79.293031  \n",
       "2       -79.297215                   Pub  The Beaches  43.676357 -79.293031  \n",
       "3       -79.294784  Other Great Outdoors  The Beaches  43.676357 -79.293031  \n",
       "4       -79.292869          Neighborhood  The Beaches  43.676357 -79.293031  "
      ]
     },
     "execution_count": 48,
     "metadata": {},
     "output_type": "execute_result"
    }
   ],
   "source": [
    "print(toronto_venues.shape)\n",
    "toronto_venues.head()"
   ]
  },
  {
   "cell_type": "markdown",
   "metadata": {},
   "source": [
    "As we did to toronto data, we need to do to new york as well:"
   ]
  },
  {
   "cell_type": "code",
   "execution_count": null,
   "metadata": {},
   "outputs": [],
   "source": [
    "ny_venues = getNearbyVenues(names=new_york['Neighborhood'],\n",
    "                                   latitudes=new_york['Latitude'],\n",
    "                                   longitudes=new_york['Longitude']\n",
    "                                  )\n",
    "print('Finished!')"
   ]
  },
  {
   "cell_type": "code",
   "execution_count": null,
   "metadata": {},
   "outputs": [],
   "source": [
    "print(ny_venues.shape)\n",
    "print('There are {} uniques categories.'.format(len(ny_venues['Venue Category'].unique())))\n",
    "\n",
    "ny_venues = ny_venues.merge(new_york.drop('Borough',axis=1), left_on=['Borough Latitude','Borough Longitude'], right_on=['Latitude','Longitude'])\n",
    "ny_venues.drop(['Borough Latitude', 'Borough Longitude'], axis=1, inplace=True)"
   ]
  },
  {
   "cell_type": "code",
   "execution_count": 46,
   "metadata": {},
   "outputs": [
    {
     "name": "stdout",
     "output_type": "stream",
     "text": [
      "(3297, 8)\n"
     ]
    },
    {
     "data": {
      "text/html": [
       "<div>\n",
       "<style scoped>\n",
       "    .dataframe tbody tr th:only-of-type {\n",
       "        vertical-align: middle;\n",
       "    }\n",
       "\n",
       "    .dataframe tbody tr th {\n",
       "        vertical-align: top;\n",
       "    }\n",
       "\n",
       "    .dataframe thead th {\n",
       "        text-align: right;\n",
       "    }\n",
       "</style>\n",
       "<table border=\"1\" class=\"dataframe\">\n",
       "  <thead>\n",
       "    <tr style=\"text-align: right;\">\n",
       "      <th></th>\n",
       "      <th>Borough</th>\n",
       "      <th>Venue</th>\n",
       "      <th>Venue Latitude</th>\n",
       "      <th>Venue Longitude</th>\n",
       "      <th>Venue Category</th>\n",
       "      <th>Neighborhood</th>\n",
       "      <th>Latitude</th>\n",
       "      <th>Longitude</th>\n",
       "    </tr>\n",
       "  </thead>\n",
       "  <tbody>\n",
       "    <tr>\n",
       "      <th>0</th>\n",
       "      <td>Marble Hill</td>\n",
       "      <td>Arturo's</td>\n",
       "      <td>40.874412</td>\n",
       "      <td>-73.910271</td>\n",
       "      <td>Pizza Place</td>\n",
       "      <td>Marble Hill</td>\n",
       "      <td>40.876551</td>\n",
       "      <td>-73.91066</td>\n",
       "    </tr>\n",
       "    <tr>\n",
       "      <th>1</th>\n",
       "      <td>Marble Hill</td>\n",
       "      <td>Bikram Yoga</td>\n",
       "      <td>40.876844</td>\n",
       "      <td>-73.906204</td>\n",
       "      <td>Yoga Studio</td>\n",
       "      <td>Marble Hill</td>\n",
       "      <td>40.876551</td>\n",
       "      <td>-73.91066</td>\n",
       "    </tr>\n",
       "    <tr>\n",
       "      <th>2</th>\n",
       "      <td>Marble Hill</td>\n",
       "      <td>Tibbett Diner</td>\n",
       "      <td>40.880404</td>\n",
       "      <td>-73.908937</td>\n",
       "      <td>Diner</td>\n",
       "      <td>Marble Hill</td>\n",
       "      <td>40.876551</td>\n",
       "      <td>-73.91066</td>\n",
       "    </tr>\n",
       "    <tr>\n",
       "      <th>3</th>\n",
       "      <td>Marble Hill</td>\n",
       "      <td>Starbucks</td>\n",
       "      <td>40.877531</td>\n",
       "      <td>-73.905582</td>\n",
       "      <td>Coffee Shop</td>\n",
       "      <td>Marble Hill</td>\n",
       "      <td>40.876551</td>\n",
       "      <td>-73.91066</td>\n",
       "    </tr>\n",
       "    <tr>\n",
       "      <th>4</th>\n",
       "      <td>Marble Hill</td>\n",
       "      <td>Dunkin'</td>\n",
       "      <td>40.877136</td>\n",
       "      <td>-73.906666</td>\n",
       "      <td>Donut Shop</td>\n",
       "      <td>Marble Hill</td>\n",
       "      <td>40.876551</td>\n",
       "      <td>-73.91066</td>\n",
       "    </tr>\n",
       "  </tbody>\n",
       "</table>\n",
       "</div>"
      ],
      "text/plain": [
       "       Borough          Venue  Venue Latitude  Venue Longitude Venue Category  \\\n",
       "0  Marble Hill       Arturo's       40.874412       -73.910271    Pizza Place   \n",
       "1  Marble Hill    Bikram Yoga       40.876844       -73.906204    Yoga Studio   \n",
       "2  Marble Hill  Tibbett Diner       40.880404       -73.908937          Diner   \n",
       "3  Marble Hill      Starbucks       40.877531       -73.905582    Coffee Shop   \n",
       "4  Marble Hill        Dunkin'       40.877136       -73.906666     Donut Shop   \n",
       "\n",
       "  Neighborhood   Latitude  Longitude  \n",
       "0  Marble Hill  40.876551  -73.91066  \n",
       "1  Marble Hill  40.876551  -73.91066  \n",
       "2  Marble Hill  40.876551  -73.91066  \n",
       "3  Marble Hill  40.876551  -73.91066  \n",
       "4  Marble Hill  40.876551  -73.91066  "
      ]
     },
     "execution_count": 46,
     "metadata": {},
     "output_type": "execute_result"
    }
   ],
   "source": [
    "print(ny_venues.shape)\n",
    "ny_venues.head()"
   ]
  },
  {
   "cell_type": "markdown",
   "metadata": {},
   "source": [
    "Lastly, we need to convert venues data from categorical to numerical in order to use statiscal and machine learning models! However, maybe there are particular categories of venues for each city, therefore we need to concatenate both data set prior to one hot enconding!  \n",
    "\n",
    "But first, let's create a column label and add it to each data set:\n",
    "\n",
    "0 = Toronto; 1 = New York."
   ]
  },
  {
   "cell_type": "code",
   "execution_count": 53,
   "metadata": {},
   "outputs": [
    {
     "data": {
      "text/html": [
       "<div>\n",
       "<style scoped>\n",
       "    .dataframe tbody tr th:only-of-type {\n",
       "        vertical-align: middle;\n",
       "    }\n",
       "\n",
       "    .dataframe tbody tr th {\n",
       "        vertical-align: top;\n",
       "    }\n",
       "\n",
       "    .dataframe thead th {\n",
       "        text-align: right;\n",
       "    }\n",
       "</style>\n",
       "<table border=\"1\" class=\"dataframe\">\n",
       "  <thead>\n",
       "    <tr style=\"text-align: right;\">\n",
       "      <th></th>\n",
       "      <th>Borough</th>\n",
       "      <th>Venue</th>\n",
       "      <th>Venue Latitude</th>\n",
       "      <th>Venue Longitude</th>\n",
       "      <th>Venue Category</th>\n",
       "      <th>Neighborhood</th>\n",
       "      <th>Latitude</th>\n",
       "      <th>Longitude</th>\n",
       "      <th>Target</th>\n",
       "    </tr>\n",
       "  </thead>\n",
       "  <tbody>\n",
       "    <tr>\n",
       "      <th>0</th>\n",
       "      <td>East Toronto</td>\n",
       "      <td>Glen Manor Ravine</td>\n",
       "      <td>43.676821</td>\n",
       "      <td>-79.293942</td>\n",
       "      <td>Trail</td>\n",
       "      <td>The Beaches</td>\n",
       "      <td>43.676357</td>\n",
       "      <td>-79.293031</td>\n",
       "      <td>0</td>\n",
       "    </tr>\n",
       "    <tr>\n",
       "      <th>1</th>\n",
       "      <td>East Toronto</td>\n",
       "      <td>The Big Carrot Natural Food Market</td>\n",
       "      <td>43.678879</td>\n",
       "      <td>-79.297734</td>\n",
       "      <td>Health Food Store</td>\n",
       "      <td>The Beaches</td>\n",
       "      <td>43.676357</td>\n",
       "      <td>-79.293031</td>\n",
       "      <td>0</td>\n",
       "    </tr>\n",
       "    <tr>\n",
       "      <th>2</th>\n",
       "      <td>East Toronto</td>\n",
       "      <td>Grover Pub and Grub</td>\n",
       "      <td>43.679181</td>\n",
       "      <td>-79.297215</td>\n",
       "      <td>Pub</td>\n",
       "      <td>The Beaches</td>\n",
       "      <td>43.676357</td>\n",
       "      <td>-79.293031</td>\n",
       "      <td>0</td>\n",
       "    </tr>\n",
       "    <tr>\n",
       "      <th>3</th>\n",
       "      <td>East Toronto</td>\n",
       "      <td>Glen Stewart Ravine</td>\n",
       "      <td>43.676300</td>\n",
       "      <td>-79.294784</td>\n",
       "      <td>Other Great Outdoors</td>\n",
       "      <td>The Beaches</td>\n",
       "      <td>43.676357</td>\n",
       "      <td>-79.293031</td>\n",
       "      <td>0</td>\n",
       "    </tr>\n",
       "    <tr>\n",
       "      <th>4</th>\n",
       "      <td>East Toronto</td>\n",
       "      <td>Upper Beaches</td>\n",
       "      <td>43.680563</td>\n",
       "      <td>-79.292869</td>\n",
       "      <td>Neighborhood</td>\n",
       "      <td>The Beaches</td>\n",
       "      <td>43.676357</td>\n",
       "      <td>-79.293031</td>\n",
       "      <td>0</td>\n",
       "    </tr>\n",
       "  </tbody>\n",
       "</table>\n",
       "</div>"
      ],
      "text/plain": [
       "        Borough                               Venue  Venue Latitude  \\\n",
       "0  East Toronto                   Glen Manor Ravine       43.676821   \n",
       "1  East Toronto  The Big Carrot Natural Food Market       43.678879   \n",
       "2  East Toronto                 Grover Pub and Grub       43.679181   \n",
       "3  East Toronto                 Glen Stewart Ravine       43.676300   \n",
       "4  East Toronto                       Upper Beaches       43.680563   \n",
       "\n",
       "   Venue Longitude        Venue Category Neighborhood   Latitude  Longitude  \\\n",
       "0       -79.293942                 Trail  The Beaches  43.676357 -79.293031   \n",
       "1       -79.297734     Health Food Store  The Beaches  43.676357 -79.293031   \n",
       "2       -79.297215                   Pub  The Beaches  43.676357 -79.293031   \n",
       "3       -79.294784  Other Great Outdoors  The Beaches  43.676357 -79.293031   \n",
       "4       -79.292869          Neighborhood  The Beaches  43.676357 -79.293031   \n",
       "\n",
       "   Target  \n",
       "0       0  \n",
       "1       0  \n",
       "2       0  \n",
       "3       0  \n",
       "4       0  "
      ]
     },
     "execution_count": 53,
     "metadata": {},
     "output_type": "execute_result"
    }
   ],
   "source": [
    "label = []\n",
    "for i in range(len(toronto_venues)):\n",
    "    label.append(0)\n",
    "    \n",
    "toronto_venues.insert(8, 'Target',label)\n",
    "\n",
    "toronto_venues.head()"
   ]
  },
  {
   "cell_type": "markdown",
   "metadata": {},
   "source": [
    "We can see that there is a Neighborhood category in 'Venue Category'! We need to change its name to not get mistakes after one hot enconding the dataset!"
   ]
  },
  {
   "cell_type": "code",
   "execution_count": 69,
   "metadata": {},
   "outputs": [
    {
     "data": {
      "text/html": [
       "<div>\n",
       "<style scoped>\n",
       "    .dataframe tbody tr th:only-of-type {\n",
       "        vertical-align: middle;\n",
       "    }\n",
       "\n",
       "    .dataframe tbody tr th {\n",
       "        vertical-align: top;\n",
       "    }\n",
       "\n",
       "    .dataframe thead th {\n",
       "        text-align: right;\n",
       "    }\n",
       "</style>\n",
       "<table border=\"1\" class=\"dataframe\">\n",
       "  <thead>\n",
       "    <tr style=\"text-align: right;\">\n",
       "      <th></th>\n",
       "      <th>Borough</th>\n",
       "      <th>Venue</th>\n",
       "      <th>Venue Latitude</th>\n",
       "      <th>Venue Longitude</th>\n",
       "      <th>Venue Category</th>\n",
       "      <th>Neighborhood</th>\n",
       "      <th>Latitude</th>\n",
       "      <th>Longitude</th>\n",
       "      <th>Target</th>\n",
       "    </tr>\n",
       "  </thead>\n",
       "  <tbody>\n",
       "    <tr>\n",
       "      <th>0</th>\n",
       "      <td>East Toronto</td>\n",
       "      <td>Glen Manor Ravine</td>\n",
       "      <td>43.676821</td>\n",
       "      <td>-79.293942</td>\n",
       "      <td>Trail</td>\n",
       "      <td>The Beaches</td>\n",
       "      <td>43.676357</td>\n",
       "      <td>-79.293031</td>\n",
       "      <td>0</td>\n",
       "    </tr>\n",
       "    <tr>\n",
       "      <th>1</th>\n",
       "      <td>East Toronto</td>\n",
       "      <td>The Big Carrot Natural Food Market</td>\n",
       "      <td>43.678879</td>\n",
       "      <td>-79.297734</td>\n",
       "      <td>Health Food Store</td>\n",
       "      <td>The Beaches</td>\n",
       "      <td>43.676357</td>\n",
       "      <td>-79.293031</td>\n",
       "      <td>0</td>\n",
       "    </tr>\n",
       "    <tr>\n",
       "      <th>2</th>\n",
       "      <td>East Toronto</td>\n",
       "      <td>Grover Pub and Grub</td>\n",
       "      <td>43.679181</td>\n",
       "      <td>-79.297215</td>\n",
       "      <td>Pub</td>\n",
       "      <td>The Beaches</td>\n",
       "      <td>43.676357</td>\n",
       "      <td>-79.293031</td>\n",
       "      <td>0</td>\n",
       "    </tr>\n",
       "    <tr>\n",
       "      <th>3</th>\n",
       "      <td>East Toronto</td>\n",
       "      <td>Glen Stewart Ravine</td>\n",
       "      <td>43.676300</td>\n",
       "      <td>-79.294784</td>\n",
       "      <td>Other Great Outdoors</td>\n",
       "      <td>The Beaches</td>\n",
       "      <td>43.676357</td>\n",
       "      <td>-79.293031</td>\n",
       "      <td>0</td>\n",
       "    </tr>\n",
       "    <tr>\n",
       "      <th>4</th>\n",
       "      <td>East Toronto</td>\n",
       "      <td>Upper Beaches</td>\n",
       "      <td>43.680563</td>\n",
       "      <td>-79.292869</td>\n",
       "      <td>Neighborhood_Cat</td>\n",
       "      <td>The Beaches</td>\n",
       "      <td>43.676357</td>\n",
       "      <td>-79.293031</td>\n",
       "      <td>0</td>\n",
       "    </tr>\n",
       "  </tbody>\n",
       "</table>\n",
       "</div>"
      ],
      "text/plain": [
       "        Borough                               Venue  Venue Latitude  \\\n",
       "0  East Toronto                   Glen Manor Ravine       43.676821   \n",
       "1  East Toronto  The Big Carrot Natural Food Market       43.678879   \n",
       "2  East Toronto                 Grover Pub and Grub       43.679181   \n",
       "3  East Toronto                 Glen Stewart Ravine       43.676300   \n",
       "4  East Toronto                       Upper Beaches       43.680563   \n",
       "\n",
       "   Venue Longitude        Venue Category Neighborhood   Latitude  Longitude  \\\n",
       "0       -79.293942                 Trail  The Beaches  43.676357 -79.293031   \n",
       "1       -79.297734     Health Food Store  The Beaches  43.676357 -79.293031   \n",
       "2       -79.297215                   Pub  The Beaches  43.676357 -79.293031   \n",
       "3       -79.294784  Other Great Outdoors  The Beaches  43.676357 -79.293031   \n",
       "4       -79.292869      Neighborhood_Cat  The Beaches  43.676357 -79.293031   \n",
       "\n",
       "   Target  \n",
       "0       0  \n",
       "1       0  \n",
       "2       0  \n",
       "3       0  \n",
       "4       0  "
      ]
     },
     "execution_count": 69,
     "metadata": {},
     "output_type": "execute_result"
    }
   ],
   "source": [
    "toronto_venues['Venue Category'].replace('Neighborhood','Neighborhood_Cat', inplace=True)\n",
    "\n",
    "toronto_venues.head()"
   ]
  },
  {
   "cell_type": "code",
   "execution_count": 54,
   "metadata": {},
   "outputs": [
    {
     "data": {
      "text/html": [
       "<div>\n",
       "<style scoped>\n",
       "    .dataframe tbody tr th:only-of-type {\n",
       "        vertical-align: middle;\n",
       "    }\n",
       "\n",
       "    .dataframe tbody tr th {\n",
       "        vertical-align: top;\n",
       "    }\n",
       "\n",
       "    .dataframe thead th {\n",
       "        text-align: right;\n",
       "    }\n",
       "</style>\n",
       "<table border=\"1\" class=\"dataframe\">\n",
       "  <thead>\n",
       "    <tr style=\"text-align: right;\">\n",
       "      <th></th>\n",
       "      <th>Borough</th>\n",
       "      <th>Venue</th>\n",
       "      <th>Venue Latitude</th>\n",
       "      <th>Venue Longitude</th>\n",
       "      <th>Venue Category</th>\n",
       "      <th>Neighborhood</th>\n",
       "      <th>Latitude</th>\n",
       "      <th>Longitude</th>\n",
       "      <th>Target</th>\n",
       "    </tr>\n",
       "  </thead>\n",
       "  <tbody>\n",
       "    <tr>\n",
       "      <th>0</th>\n",
       "      <td>Marble Hill</td>\n",
       "      <td>Arturo's</td>\n",
       "      <td>40.874412</td>\n",
       "      <td>-73.910271</td>\n",
       "      <td>Pizza Place</td>\n",
       "      <td>Marble Hill</td>\n",
       "      <td>40.876551</td>\n",
       "      <td>-73.91066</td>\n",
       "      <td>1</td>\n",
       "    </tr>\n",
       "    <tr>\n",
       "      <th>1</th>\n",
       "      <td>Marble Hill</td>\n",
       "      <td>Bikram Yoga</td>\n",
       "      <td>40.876844</td>\n",
       "      <td>-73.906204</td>\n",
       "      <td>Yoga Studio</td>\n",
       "      <td>Marble Hill</td>\n",
       "      <td>40.876551</td>\n",
       "      <td>-73.91066</td>\n",
       "      <td>1</td>\n",
       "    </tr>\n",
       "    <tr>\n",
       "      <th>2</th>\n",
       "      <td>Marble Hill</td>\n",
       "      <td>Tibbett Diner</td>\n",
       "      <td>40.880404</td>\n",
       "      <td>-73.908937</td>\n",
       "      <td>Diner</td>\n",
       "      <td>Marble Hill</td>\n",
       "      <td>40.876551</td>\n",
       "      <td>-73.91066</td>\n",
       "      <td>1</td>\n",
       "    </tr>\n",
       "    <tr>\n",
       "      <th>3</th>\n",
       "      <td>Marble Hill</td>\n",
       "      <td>Starbucks</td>\n",
       "      <td>40.877531</td>\n",
       "      <td>-73.905582</td>\n",
       "      <td>Coffee Shop</td>\n",
       "      <td>Marble Hill</td>\n",
       "      <td>40.876551</td>\n",
       "      <td>-73.91066</td>\n",
       "      <td>1</td>\n",
       "    </tr>\n",
       "    <tr>\n",
       "      <th>4</th>\n",
       "      <td>Marble Hill</td>\n",
       "      <td>Dunkin'</td>\n",
       "      <td>40.877136</td>\n",
       "      <td>-73.906666</td>\n",
       "      <td>Donut Shop</td>\n",
       "      <td>Marble Hill</td>\n",
       "      <td>40.876551</td>\n",
       "      <td>-73.91066</td>\n",
       "      <td>1</td>\n",
       "    </tr>\n",
       "  </tbody>\n",
       "</table>\n",
       "</div>"
      ],
      "text/plain": [
       "       Borough          Venue  Venue Latitude  Venue Longitude Venue Category  \\\n",
       "0  Marble Hill       Arturo's       40.874412       -73.910271    Pizza Place   \n",
       "1  Marble Hill    Bikram Yoga       40.876844       -73.906204    Yoga Studio   \n",
       "2  Marble Hill  Tibbett Diner       40.880404       -73.908937          Diner   \n",
       "3  Marble Hill      Starbucks       40.877531       -73.905582    Coffee Shop   \n",
       "4  Marble Hill        Dunkin'       40.877136       -73.906666     Donut Shop   \n",
       "\n",
       "  Neighborhood   Latitude  Longitude  Target  \n",
       "0  Marble Hill  40.876551  -73.91066       1  \n",
       "1  Marble Hill  40.876551  -73.91066       1  \n",
       "2  Marble Hill  40.876551  -73.91066       1  \n",
       "3  Marble Hill  40.876551  -73.91066       1  \n",
       "4  Marble Hill  40.876551  -73.91066       1  "
      ]
     },
     "execution_count": 54,
     "metadata": {},
     "output_type": "execute_result"
    }
   ],
   "source": [
    "label = []\n",
    "for i in range(len(ny_venues)):\n",
    "    label.append(1)\n",
    "    \n",
    "ny_venues.insert(8, 'Target',label)\n",
    "\n",
    "ny_venues.head()"
   ]
  },
  {
   "cell_type": "code",
   "execution_count": 70,
   "metadata": {},
   "outputs": [
    {
     "name": "stdout",
     "output_type": "stream",
     "text": [
      "(5006,)\n"
     ]
    },
    {
     "data": {
      "text/plain": [
       "0                   Trail\n",
       "1       Health Food Store\n",
       "2                     Pub\n",
       "3    Other Great Outdoors\n",
       "4        Neighborhood_Cat\n",
       "Name: Venue Category, dtype: object"
      ]
     },
     "execution_count": 70,
     "metadata": {},
     "output_type": "execute_result"
    }
   ],
   "source": [
    "venues = toronto_venues['Venue Category'].append(ny_venues['Venue Category'], ignore_index=True)\n",
    "print(venues.shape)\n",
    "venues.head()"
   ]
  },
  {
   "cell_type": "markdown",
   "metadata": {},
   "source": [
    "We are set to one hot enconde: "
   ]
  },
  {
   "cell_type": "code",
   "execution_count": 71,
   "metadata": {},
   "outputs": [
    {
     "name": "stdout",
     "output_type": "stream",
     "text": [
      "We have 377 different categories.\n"
     ]
    },
    {
     "data": {
      "text/html": [
       "<div>\n",
       "<style scoped>\n",
       "    .dataframe tbody tr th:only-of-type {\n",
       "        vertical-align: middle;\n",
       "    }\n",
       "\n",
       "    .dataframe tbody tr th {\n",
       "        vertical-align: top;\n",
       "    }\n",
       "\n",
       "    .dataframe thead th {\n",
       "        text-align: right;\n",
       "    }\n",
       "</style>\n",
       "<table border=\"1\" class=\"dataframe\">\n",
       "  <thead>\n",
       "    <tr style=\"text-align: right;\">\n",
       "      <th></th>\n",
       "      <th>Accessories Store</th>\n",
       "      <th>Adult Boutique</th>\n",
       "      <th>Afghan Restaurant</th>\n",
       "      <th>African Restaurant</th>\n",
       "      <th>Airport</th>\n",
       "      <th>Airport Food Court</th>\n",
       "      <th>Airport Gate</th>\n",
       "      <th>Airport Lounge</th>\n",
       "      <th>Airport Service</th>\n",
       "      <th>Airport Terminal</th>\n",
       "      <th>...</th>\n",
       "      <th>Video Store</th>\n",
       "      <th>Vietnamese Restaurant</th>\n",
       "      <th>Volleyball Court</th>\n",
       "      <th>Waterfront</th>\n",
       "      <th>Whisky Bar</th>\n",
       "      <th>Wine Bar</th>\n",
       "      <th>Wine Shop</th>\n",
       "      <th>Wings Joint</th>\n",
       "      <th>Women's Store</th>\n",
       "      <th>Yoga Studio</th>\n",
       "    </tr>\n",
       "  </thead>\n",
       "  <tbody>\n",
       "    <tr>\n",
       "      <th>0</th>\n",
       "      <td>0</td>\n",
       "      <td>0</td>\n",
       "      <td>0</td>\n",
       "      <td>0</td>\n",
       "      <td>0</td>\n",
       "      <td>0</td>\n",
       "      <td>0</td>\n",
       "      <td>0</td>\n",
       "      <td>0</td>\n",
       "      <td>0</td>\n",
       "      <td>...</td>\n",
       "      <td>0</td>\n",
       "      <td>0</td>\n",
       "      <td>0</td>\n",
       "      <td>0</td>\n",
       "      <td>0</td>\n",
       "      <td>0</td>\n",
       "      <td>0</td>\n",
       "      <td>0</td>\n",
       "      <td>0</td>\n",
       "      <td>0</td>\n",
       "    </tr>\n",
       "    <tr>\n",
       "      <th>1</th>\n",
       "      <td>0</td>\n",
       "      <td>0</td>\n",
       "      <td>0</td>\n",
       "      <td>0</td>\n",
       "      <td>0</td>\n",
       "      <td>0</td>\n",
       "      <td>0</td>\n",
       "      <td>0</td>\n",
       "      <td>0</td>\n",
       "      <td>0</td>\n",
       "      <td>...</td>\n",
       "      <td>0</td>\n",
       "      <td>0</td>\n",
       "      <td>0</td>\n",
       "      <td>0</td>\n",
       "      <td>0</td>\n",
       "      <td>0</td>\n",
       "      <td>0</td>\n",
       "      <td>0</td>\n",
       "      <td>0</td>\n",
       "      <td>0</td>\n",
       "    </tr>\n",
       "    <tr>\n",
       "      <th>2</th>\n",
       "      <td>0</td>\n",
       "      <td>0</td>\n",
       "      <td>0</td>\n",
       "      <td>0</td>\n",
       "      <td>0</td>\n",
       "      <td>0</td>\n",
       "      <td>0</td>\n",
       "      <td>0</td>\n",
       "      <td>0</td>\n",
       "      <td>0</td>\n",
       "      <td>...</td>\n",
       "      <td>0</td>\n",
       "      <td>0</td>\n",
       "      <td>0</td>\n",
       "      <td>0</td>\n",
       "      <td>0</td>\n",
       "      <td>0</td>\n",
       "      <td>0</td>\n",
       "      <td>0</td>\n",
       "      <td>0</td>\n",
       "      <td>0</td>\n",
       "    </tr>\n",
       "    <tr>\n",
       "      <th>3</th>\n",
       "      <td>0</td>\n",
       "      <td>0</td>\n",
       "      <td>0</td>\n",
       "      <td>0</td>\n",
       "      <td>0</td>\n",
       "      <td>0</td>\n",
       "      <td>0</td>\n",
       "      <td>0</td>\n",
       "      <td>0</td>\n",
       "      <td>0</td>\n",
       "      <td>...</td>\n",
       "      <td>0</td>\n",
       "      <td>0</td>\n",
       "      <td>0</td>\n",
       "      <td>0</td>\n",
       "      <td>0</td>\n",
       "      <td>0</td>\n",
       "      <td>0</td>\n",
       "      <td>0</td>\n",
       "      <td>0</td>\n",
       "      <td>0</td>\n",
       "    </tr>\n",
       "    <tr>\n",
       "      <th>4</th>\n",
       "      <td>0</td>\n",
       "      <td>0</td>\n",
       "      <td>0</td>\n",
       "      <td>0</td>\n",
       "      <td>0</td>\n",
       "      <td>0</td>\n",
       "      <td>0</td>\n",
       "      <td>0</td>\n",
       "      <td>0</td>\n",
       "      <td>0</td>\n",
       "      <td>...</td>\n",
       "      <td>0</td>\n",
       "      <td>0</td>\n",
       "      <td>0</td>\n",
       "      <td>0</td>\n",
       "      <td>0</td>\n",
       "      <td>0</td>\n",
       "      <td>0</td>\n",
       "      <td>0</td>\n",
       "      <td>0</td>\n",
       "      <td>0</td>\n",
       "    </tr>\n",
       "  </tbody>\n",
       "</table>\n",
       "<p>5 rows × 377 columns</p>\n",
       "</div>"
      ],
      "text/plain": [
       "   Accessories Store  Adult Boutique  Afghan Restaurant  African Restaurant  \\\n",
       "0                  0               0                  0                   0   \n",
       "1                  0               0                  0                   0   \n",
       "2                  0               0                  0                   0   \n",
       "3                  0               0                  0                   0   \n",
       "4                  0               0                  0                   0   \n",
       "\n",
       "   Airport  Airport Food Court  Airport Gate  Airport Lounge  Airport Service  \\\n",
       "0        0                   0             0               0                0   \n",
       "1        0                   0             0               0                0   \n",
       "2        0                   0             0               0                0   \n",
       "3        0                   0             0               0                0   \n",
       "4        0                   0             0               0                0   \n",
       "\n",
       "   Airport Terminal  ...  Video Store  Vietnamese Restaurant  \\\n",
       "0                 0  ...            0                      0   \n",
       "1                 0  ...            0                      0   \n",
       "2                 0  ...            0                      0   \n",
       "3                 0  ...            0                      0   \n",
       "4                 0  ...            0                      0   \n",
       "\n",
       "   Volleyball Court  Waterfront  Whisky Bar  Wine Bar  Wine Shop  Wings Joint  \\\n",
       "0                 0           0           0         0          0            0   \n",
       "1                 0           0           0         0          0            0   \n",
       "2                 0           0           0         0          0            0   \n",
       "3                 0           0           0         0          0            0   \n",
       "4                 0           0           0         0          0            0   \n",
       "\n",
       "   Women's Store  Yoga Studio  \n",
       "0              0            0  \n",
       "1              0            0  \n",
       "2              0            0  \n",
       "3              0            0  \n",
       "4              0            0  \n",
       "\n",
       "[5 rows x 377 columns]"
      ]
     },
     "execution_count": 71,
     "metadata": {},
     "output_type": "execute_result"
    }
   ],
   "source": [
    "venues_onehot = pd.get_dummies(venues, prefix=\"\", prefix_sep=\"\")\n",
    "print('We have', venues_onehot.shape[1], 'different categories.')\n",
    "venues_onehot.head()"
   ]
  },
  {
   "cell_type": "markdown",
   "metadata": {},
   "source": [
    "Lastly, we need to have back the neighborhood and the corresponding target to our dataframe to later group by neighborhood name!"
   ]
  },
  {
   "cell_type": "code",
   "execution_count": 72,
   "metadata": {},
   "outputs": [
    {
     "data": {
      "text/plain": [
       "(5006,)"
      ]
     },
     "execution_count": 72,
     "metadata": {},
     "output_type": "execute_result"
    }
   ],
   "source": [
    "neighborhoods =  toronto_venues['Neighborhood'].append(ny_venues['Neighborhood'], ignore_index=True)\n",
    "neighborhoods.shape"
   ]
  },
  {
   "cell_type": "code",
   "execution_count": 73,
   "metadata": {},
   "outputs": [
    {
     "data": {
      "text/plain": [
       "(5006,)"
      ]
     },
     "execution_count": 73,
     "metadata": {},
     "output_type": "execute_result"
    }
   ],
   "source": [
    "targets =  toronto_venues['Target'].append(ny_venues['Target'], ignore_index=True)\n",
    "targets.shape"
   ]
  },
  {
   "cell_type": "code",
   "execution_count": 74,
   "metadata": {},
   "outputs": [
    {
     "data": {
      "text/html": [
       "<div>\n",
       "<style scoped>\n",
       "    .dataframe tbody tr th:only-of-type {\n",
       "        vertical-align: middle;\n",
       "    }\n",
       "\n",
       "    .dataframe tbody tr th {\n",
       "        vertical-align: top;\n",
       "    }\n",
       "\n",
       "    .dataframe thead th {\n",
       "        text-align: right;\n",
       "    }\n",
       "</style>\n",
       "<table border=\"1\" class=\"dataframe\">\n",
       "  <thead>\n",
       "    <tr style=\"text-align: right;\">\n",
       "      <th></th>\n",
       "      <th>Neighborhood</th>\n",
       "      <th>Target</th>\n",
       "      <th>Accessories Store</th>\n",
       "      <th>Adult Boutique</th>\n",
       "      <th>Afghan Restaurant</th>\n",
       "      <th>African Restaurant</th>\n",
       "      <th>Airport</th>\n",
       "      <th>Airport Food Court</th>\n",
       "      <th>Airport Gate</th>\n",
       "      <th>Airport Lounge</th>\n",
       "      <th>...</th>\n",
       "      <th>Video Store</th>\n",
       "      <th>Vietnamese Restaurant</th>\n",
       "      <th>Volleyball Court</th>\n",
       "      <th>Waterfront</th>\n",
       "      <th>Whisky Bar</th>\n",
       "      <th>Wine Bar</th>\n",
       "      <th>Wine Shop</th>\n",
       "      <th>Wings Joint</th>\n",
       "      <th>Women's Store</th>\n",
       "      <th>Yoga Studio</th>\n",
       "    </tr>\n",
       "  </thead>\n",
       "  <tbody>\n",
       "    <tr>\n",
       "      <th>0</th>\n",
       "      <td>The Beaches</td>\n",
       "      <td>0</td>\n",
       "      <td>0</td>\n",
       "      <td>0</td>\n",
       "      <td>0</td>\n",
       "      <td>0</td>\n",
       "      <td>0</td>\n",
       "      <td>0</td>\n",
       "      <td>0</td>\n",
       "      <td>0</td>\n",
       "      <td>...</td>\n",
       "      <td>0</td>\n",
       "      <td>0</td>\n",
       "      <td>0</td>\n",
       "      <td>0</td>\n",
       "      <td>0</td>\n",
       "      <td>0</td>\n",
       "      <td>0</td>\n",
       "      <td>0</td>\n",
       "      <td>0</td>\n",
       "      <td>0</td>\n",
       "    </tr>\n",
       "    <tr>\n",
       "      <th>1</th>\n",
       "      <td>The Beaches</td>\n",
       "      <td>0</td>\n",
       "      <td>0</td>\n",
       "      <td>0</td>\n",
       "      <td>0</td>\n",
       "      <td>0</td>\n",
       "      <td>0</td>\n",
       "      <td>0</td>\n",
       "      <td>0</td>\n",
       "      <td>0</td>\n",
       "      <td>...</td>\n",
       "      <td>0</td>\n",
       "      <td>0</td>\n",
       "      <td>0</td>\n",
       "      <td>0</td>\n",
       "      <td>0</td>\n",
       "      <td>0</td>\n",
       "      <td>0</td>\n",
       "      <td>0</td>\n",
       "      <td>0</td>\n",
       "      <td>0</td>\n",
       "    </tr>\n",
       "    <tr>\n",
       "      <th>2</th>\n",
       "      <td>The Beaches</td>\n",
       "      <td>0</td>\n",
       "      <td>0</td>\n",
       "      <td>0</td>\n",
       "      <td>0</td>\n",
       "      <td>0</td>\n",
       "      <td>0</td>\n",
       "      <td>0</td>\n",
       "      <td>0</td>\n",
       "      <td>0</td>\n",
       "      <td>...</td>\n",
       "      <td>0</td>\n",
       "      <td>0</td>\n",
       "      <td>0</td>\n",
       "      <td>0</td>\n",
       "      <td>0</td>\n",
       "      <td>0</td>\n",
       "      <td>0</td>\n",
       "      <td>0</td>\n",
       "      <td>0</td>\n",
       "      <td>0</td>\n",
       "    </tr>\n",
       "    <tr>\n",
       "      <th>3</th>\n",
       "      <td>The Beaches</td>\n",
       "      <td>0</td>\n",
       "      <td>0</td>\n",
       "      <td>0</td>\n",
       "      <td>0</td>\n",
       "      <td>0</td>\n",
       "      <td>0</td>\n",
       "      <td>0</td>\n",
       "      <td>0</td>\n",
       "      <td>0</td>\n",
       "      <td>...</td>\n",
       "      <td>0</td>\n",
       "      <td>0</td>\n",
       "      <td>0</td>\n",
       "      <td>0</td>\n",
       "      <td>0</td>\n",
       "      <td>0</td>\n",
       "      <td>0</td>\n",
       "      <td>0</td>\n",
       "      <td>0</td>\n",
       "      <td>0</td>\n",
       "    </tr>\n",
       "    <tr>\n",
       "      <th>4</th>\n",
       "      <td>The Beaches</td>\n",
       "      <td>0</td>\n",
       "      <td>0</td>\n",
       "      <td>0</td>\n",
       "      <td>0</td>\n",
       "      <td>0</td>\n",
       "      <td>0</td>\n",
       "      <td>0</td>\n",
       "      <td>0</td>\n",
       "      <td>0</td>\n",
       "      <td>...</td>\n",
       "      <td>0</td>\n",
       "      <td>0</td>\n",
       "      <td>0</td>\n",
       "      <td>0</td>\n",
       "      <td>0</td>\n",
       "      <td>0</td>\n",
       "      <td>0</td>\n",
       "      <td>0</td>\n",
       "      <td>0</td>\n",
       "      <td>0</td>\n",
       "    </tr>\n",
       "  </tbody>\n",
       "</table>\n",
       "<p>5 rows × 379 columns</p>\n",
       "</div>"
      ],
      "text/plain": [
       "  Neighborhood  Target  Accessories Store  Adult Boutique  Afghan Restaurant  \\\n",
       "0  The Beaches       0                  0               0                  0   \n",
       "1  The Beaches       0                  0               0                  0   \n",
       "2  The Beaches       0                  0               0                  0   \n",
       "3  The Beaches       0                  0               0                  0   \n",
       "4  The Beaches       0                  0               0                  0   \n",
       "\n",
       "   African Restaurant  Airport  Airport Food Court  Airport Gate  \\\n",
       "0                   0        0                   0             0   \n",
       "1                   0        0                   0             0   \n",
       "2                   0        0                   0             0   \n",
       "3                   0        0                   0             0   \n",
       "4                   0        0                   0             0   \n",
       "\n",
       "   Airport Lounge  ...  Video Store  Vietnamese Restaurant  Volleyball Court  \\\n",
       "0               0  ...            0                      0                 0   \n",
       "1               0  ...            0                      0                 0   \n",
       "2               0  ...            0                      0                 0   \n",
       "3               0  ...            0                      0                 0   \n",
       "4               0  ...            0                      0                 0   \n",
       "\n",
       "   Waterfront  Whisky Bar  Wine Bar  Wine Shop  Wings Joint  Women's Store  \\\n",
       "0           0           0         0          0            0              0   \n",
       "1           0           0         0          0            0              0   \n",
       "2           0           0         0          0            0              0   \n",
       "3           0           0         0          0            0              0   \n",
       "4           0           0         0          0            0              0   \n",
       "\n",
       "   Yoga Studio  \n",
       "0            0  \n",
       "1            0  \n",
       "2            0  \n",
       "3            0  \n",
       "4            0  \n",
       "\n",
       "[5 rows x 379 columns]"
      ]
     },
     "execution_count": 74,
     "metadata": {},
     "output_type": "execute_result"
    }
   ],
   "source": [
    "venues_onehot.insert(0, 'Neighborhood', neighborhoods)\n",
    "venues_onehot.insert(1, 'Target', targets)\n",
    "\n",
    "venues_onehot.head()"
   ]
  },
  {
   "cell_type": "code",
   "execution_count": 236,
   "metadata": {},
   "outputs": [
    {
     "name": "stdout",
     "output_type": "stream",
     "text": [
      "(79, 379)\n"
     ]
    },
    {
     "data": {
      "text/html": [
       "<div>\n",
       "<style scoped>\n",
       "    .dataframe tbody tr th:only-of-type {\n",
       "        vertical-align: middle;\n",
       "    }\n",
       "\n",
       "    .dataframe tbody tr th {\n",
       "        vertical-align: top;\n",
       "    }\n",
       "\n",
       "    .dataframe thead th {\n",
       "        text-align: right;\n",
       "    }\n",
       "</style>\n",
       "<table border=\"1\" class=\"dataframe\">\n",
       "  <thead>\n",
       "    <tr style=\"text-align: right;\">\n",
       "      <th></th>\n",
       "      <th>Neighborhood</th>\n",
       "      <th>Target</th>\n",
       "      <th>Accessories Store</th>\n",
       "      <th>Adult Boutique</th>\n",
       "      <th>Afghan Restaurant</th>\n",
       "      <th>African Restaurant</th>\n",
       "      <th>Airport</th>\n",
       "      <th>Airport Food Court</th>\n",
       "      <th>Airport Gate</th>\n",
       "      <th>Airport Lounge</th>\n",
       "      <th>...</th>\n",
       "      <th>Video Store</th>\n",
       "      <th>Vietnamese Restaurant</th>\n",
       "      <th>Volleyball Court</th>\n",
       "      <th>Waterfront</th>\n",
       "      <th>Whisky Bar</th>\n",
       "      <th>Wine Bar</th>\n",
       "      <th>Wine Shop</th>\n",
       "      <th>Wings Joint</th>\n",
       "      <th>Women's Store</th>\n",
       "      <th>Yoga Studio</th>\n",
       "    </tr>\n",
       "  </thead>\n",
       "  <tbody>\n",
       "    <tr>\n",
       "      <th>0</th>\n",
       "      <td>Adelaide, Richmond, King</td>\n",
       "      <td>0</td>\n",
       "      <td>0.0</td>\n",
       "      <td>0.0</td>\n",
       "      <td>0.0</td>\n",
       "      <td>0.0</td>\n",
       "      <td>0.0</td>\n",
       "      <td>0.0</td>\n",
       "      <td>0.0</td>\n",
       "      <td>0.0</td>\n",
       "      <td>...</td>\n",
       "      <td>0.0</td>\n",
       "      <td>0.00</td>\n",
       "      <td>0.0</td>\n",
       "      <td>0.0</td>\n",
       "      <td>0.0</td>\n",
       "      <td>0.01</td>\n",
       "      <td>0.000000</td>\n",
       "      <td>0.0</td>\n",
       "      <td>0.010000</td>\n",
       "      <td>0.00</td>\n",
       "    </tr>\n",
       "    <tr>\n",
       "      <th>1</th>\n",
       "      <td>Battery Park City</td>\n",
       "      <td>1</td>\n",
       "      <td>0.0</td>\n",
       "      <td>0.0</td>\n",
       "      <td>0.0</td>\n",
       "      <td>0.0</td>\n",
       "      <td>0.0</td>\n",
       "      <td>0.0</td>\n",
       "      <td>0.0</td>\n",
       "      <td>0.0</td>\n",
       "      <td>...</td>\n",
       "      <td>0.0</td>\n",
       "      <td>0.00</td>\n",
       "      <td>0.0</td>\n",
       "      <td>0.0</td>\n",
       "      <td>0.0</td>\n",
       "      <td>0.00</td>\n",
       "      <td>0.030928</td>\n",
       "      <td>0.0</td>\n",
       "      <td>0.030928</td>\n",
       "      <td>0.00</td>\n",
       "    </tr>\n",
       "    <tr>\n",
       "      <th>2</th>\n",
       "      <td>Berczy Park</td>\n",
       "      <td>0</td>\n",
       "      <td>0.0</td>\n",
       "      <td>0.0</td>\n",
       "      <td>0.0</td>\n",
       "      <td>0.0</td>\n",
       "      <td>0.0</td>\n",
       "      <td>0.0</td>\n",
       "      <td>0.0</td>\n",
       "      <td>0.0</td>\n",
       "      <td>...</td>\n",
       "      <td>0.0</td>\n",
       "      <td>0.00</td>\n",
       "      <td>0.0</td>\n",
       "      <td>0.0</td>\n",
       "      <td>0.0</td>\n",
       "      <td>0.00</td>\n",
       "      <td>0.000000</td>\n",
       "      <td>0.0</td>\n",
       "      <td>0.000000</td>\n",
       "      <td>0.00</td>\n",
       "    </tr>\n",
       "    <tr>\n",
       "      <th>3</th>\n",
       "      <td>Business Reply Mail Processing Centre 969 Eastern</td>\n",
       "      <td>0</td>\n",
       "      <td>0.0</td>\n",
       "      <td>0.0</td>\n",
       "      <td>0.0</td>\n",
       "      <td>0.0</td>\n",
       "      <td>0.0</td>\n",
       "      <td>0.0</td>\n",
       "      <td>0.0</td>\n",
       "      <td>0.0</td>\n",
       "      <td>...</td>\n",
       "      <td>0.0</td>\n",
       "      <td>0.00</td>\n",
       "      <td>0.0</td>\n",
       "      <td>0.0</td>\n",
       "      <td>0.0</td>\n",
       "      <td>0.00</td>\n",
       "      <td>0.000000</td>\n",
       "      <td>0.0</td>\n",
       "      <td>0.000000</td>\n",
       "      <td>0.00</td>\n",
       "    </tr>\n",
       "    <tr>\n",
       "      <th>4</th>\n",
       "      <td>Carnegie Hill</td>\n",
       "      <td>1</td>\n",
       "      <td>0.0</td>\n",
       "      <td>0.0</td>\n",
       "      <td>0.0</td>\n",
       "      <td>0.0</td>\n",
       "      <td>0.0</td>\n",
       "      <td>0.0</td>\n",
       "      <td>0.0</td>\n",
       "      <td>0.0</td>\n",
       "      <td>...</td>\n",
       "      <td>0.0</td>\n",
       "      <td>0.02</td>\n",
       "      <td>0.0</td>\n",
       "      <td>0.0</td>\n",
       "      <td>0.0</td>\n",
       "      <td>0.01</td>\n",
       "      <td>0.030000</td>\n",
       "      <td>0.0</td>\n",
       "      <td>0.010000</td>\n",
       "      <td>0.03</td>\n",
       "    </tr>\n",
       "  </tbody>\n",
       "</table>\n",
       "<p>5 rows × 379 columns</p>\n",
       "</div>"
      ],
      "text/plain": [
       "                                        Neighborhood  Target  \\\n",
       "0                           Adelaide, Richmond, King       0   \n",
       "1                                  Battery Park City       1   \n",
       "2                                        Berczy Park       0   \n",
       "3  Business Reply Mail Processing Centre 969 Eastern       0   \n",
       "4                                      Carnegie Hill       1   \n",
       "\n",
       "   Accessories Store  Adult Boutique  Afghan Restaurant  African Restaurant  \\\n",
       "0                0.0             0.0                0.0                 0.0   \n",
       "1                0.0             0.0                0.0                 0.0   \n",
       "2                0.0             0.0                0.0                 0.0   \n",
       "3                0.0             0.0                0.0                 0.0   \n",
       "4                0.0             0.0                0.0                 0.0   \n",
       "\n",
       "   Airport  Airport Food Court  Airport Gate  Airport Lounge  ...  \\\n",
       "0      0.0                 0.0           0.0             0.0  ...   \n",
       "1      0.0                 0.0           0.0             0.0  ...   \n",
       "2      0.0                 0.0           0.0             0.0  ...   \n",
       "3      0.0                 0.0           0.0             0.0  ...   \n",
       "4      0.0                 0.0           0.0             0.0  ...   \n",
       "\n",
       "   Video Store  Vietnamese Restaurant  Volleyball Court  Waterfront  \\\n",
       "0          0.0                   0.00               0.0         0.0   \n",
       "1          0.0                   0.00               0.0         0.0   \n",
       "2          0.0                   0.00               0.0         0.0   \n",
       "3          0.0                   0.00               0.0         0.0   \n",
       "4          0.0                   0.02               0.0         0.0   \n",
       "\n",
       "   Whisky Bar  Wine Bar  Wine Shop  Wings Joint  Women's Store  Yoga Studio  \n",
       "0         0.0      0.01   0.000000          0.0       0.010000         0.00  \n",
       "1         0.0      0.00   0.030928          0.0       0.030928         0.00  \n",
       "2         0.0      0.00   0.000000          0.0       0.000000         0.00  \n",
       "3         0.0      0.00   0.000000          0.0       0.000000         0.00  \n",
       "4         0.0      0.01   0.030000          0.0       0.010000         0.03  \n",
       "\n",
       "[5 rows x 379 columns]"
      ]
     },
     "execution_count": 236,
     "metadata": {},
     "output_type": "execute_result"
    }
   ],
   "source": [
    "neighborhoods = venues_onehot.groupby('Neighborhood').mean().reset_index()\n",
    "\n",
    "print(neighborhoods.shape)\n",
    "neighborhoods.head()"
   ]
  },
  {
   "cell_type": "markdown",
   "metadata": {},
   "source": [
    "Since we have the labels of each city, we can fetch data using it:"
   ]
  },
  {
   "cell_type": "code",
   "execution_count": 140,
   "metadata": {},
   "outputs": [
    {
     "data": {
      "text/html": [
       "<div>\n",
       "<style scoped>\n",
       "    .dataframe tbody tr th:only-of-type {\n",
       "        vertical-align: middle;\n",
       "    }\n",
       "\n",
       "    .dataframe tbody tr th {\n",
       "        vertical-align: top;\n",
       "    }\n",
       "\n",
       "    .dataframe thead th {\n",
       "        text-align: right;\n",
       "    }\n",
       "</style>\n",
       "<table border=\"1\" class=\"dataframe\">\n",
       "  <thead>\n",
       "    <tr style=\"text-align: right;\">\n",
       "      <th></th>\n",
       "      <th>Neighborhood</th>\n",
       "      <th>Target</th>\n",
       "      <th>Accessories Store</th>\n",
       "      <th>Adult Boutique</th>\n",
       "      <th>Afghan Restaurant</th>\n",
       "      <th>African Restaurant</th>\n",
       "      <th>Airport</th>\n",
       "      <th>Airport Food Court</th>\n",
       "      <th>Airport Gate</th>\n",
       "      <th>Airport Lounge</th>\n",
       "      <th>...</th>\n",
       "      <th>Video Store</th>\n",
       "      <th>Vietnamese Restaurant</th>\n",
       "      <th>Volleyball Court</th>\n",
       "      <th>Waterfront</th>\n",
       "      <th>Whisky Bar</th>\n",
       "      <th>Wine Bar</th>\n",
       "      <th>Wine Shop</th>\n",
       "      <th>Wings Joint</th>\n",
       "      <th>Women's Store</th>\n",
       "      <th>Yoga Studio</th>\n",
       "    </tr>\n",
       "  </thead>\n",
       "  <tbody>\n",
       "    <tr>\n",
       "      <th>0</th>\n",
       "      <td>Adelaide, Richmond, King</td>\n",
       "      <td>0</td>\n",
       "      <td>0.0</td>\n",
       "      <td>0.0</td>\n",
       "      <td>0.0</td>\n",
       "      <td>0.0</td>\n",
       "      <td>0.0</td>\n",
       "      <td>0.0</td>\n",
       "      <td>0.0</td>\n",
       "      <td>0.0</td>\n",
       "      <td>...</td>\n",
       "      <td>0.0</td>\n",
       "      <td>0.0</td>\n",
       "      <td>0.0</td>\n",
       "      <td>0.0</td>\n",
       "      <td>0.0</td>\n",
       "      <td>0.010000</td>\n",
       "      <td>0.0</td>\n",
       "      <td>0.0</td>\n",
       "      <td>0.01</td>\n",
       "      <td>0.000000</td>\n",
       "    </tr>\n",
       "    <tr>\n",
       "      <th>1</th>\n",
       "      <td>Berczy Park</td>\n",
       "      <td>0</td>\n",
       "      <td>0.0</td>\n",
       "      <td>0.0</td>\n",
       "      <td>0.0</td>\n",
       "      <td>0.0</td>\n",
       "      <td>0.0</td>\n",
       "      <td>0.0</td>\n",
       "      <td>0.0</td>\n",
       "      <td>0.0</td>\n",
       "      <td>...</td>\n",
       "      <td>0.0</td>\n",
       "      <td>0.0</td>\n",
       "      <td>0.0</td>\n",
       "      <td>0.0</td>\n",
       "      <td>0.0</td>\n",
       "      <td>0.000000</td>\n",
       "      <td>0.0</td>\n",
       "      <td>0.0</td>\n",
       "      <td>0.00</td>\n",
       "      <td>0.000000</td>\n",
       "    </tr>\n",
       "    <tr>\n",
       "      <th>2</th>\n",
       "      <td>Business Reply Mail Processing Centre 969 Eastern</td>\n",
       "      <td>0</td>\n",
       "      <td>0.0</td>\n",
       "      <td>0.0</td>\n",
       "      <td>0.0</td>\n",
       "      <td>0.0</td>\n",
       "      <td>0.0</td>\n",
       "      <td>0.0</td>\n",
       "      <td>0.0</td>\n",
       "      <td>0.0</td>\n",
       "      <td>...</td>\n",
       "      <td>0.0</td>\n",
       "      <td>0.0</td>\n",
       "      <td>0.0</td>\n",
       "      <td>0.0</td>\n",
       "      <td>0.0</td>\n",
       "      <td>0.000000</td>\n",
       "      <td>0.0</td>\n",
       "      <td>0.0</td>\n",
       "      <td>0.00</td>\n",
       "      <td>0.000000</td>\n",
       "    </tr>\n",
       "    <tr>\n",
       "      <th>3</th>\n",
       "      <td>Central Bay Street</td>\n",
       "      <td>0</td>\n",
       "      <td>0.0</td>\n",
       "      <td>0.0</td>\n",
       "      <td>0.0</td>\n",
       "      <td>0.0</td>\n",
       "      <td>0.0</td>\n",
       "      <td>0.0</td>\n",
       "      <td>0.0</td>\n",
       "      <td>0.0</td>\n",
       "      <td>...</td>\n",
       "      <td>0.0</td>\n",
       "      <td>0.0</td>\n",
       "      <td>0.0</td>\n",
       "      <td>0.0</td>\n",
       "      <td>0.0</td>\n",
       "      <td>0.011905</td>\n",
       "      <td>0.0</td>\n",
       "      <td>0.0</td>\n",
       "      <td>0.00</td>\n",
       "      <td>0.011905</td>\n",
       "    </tr>\n",
       "    <tr>\n",
       "      <th>4</th>\n",
       "      <td>Christie</td>\n",
       "      <td>0</td>\n",
       "      <td>0.0</td>\n",
       "      <td>0.0</td>\n",
       "      <td>0.0</td>\n",
       "      <td>0.0</td>\n",
       "      <td>0.0</td>\n",
       "      <td>0.0</td>\n",
       "      <td>0.0</td>\n",
       "      <td>0.0</td>\n",
       "      <td>...</td>\n",
       "      <td>0.0</td>\n",
       "      <td>0.0</td>\n",
       "      <td>0.0</td>\n",
       "      <td>0.0</td>\n",
       "      <td>0.0</td>\n",
       "      <td>0.000000</td>\n",
       "      <td>0.0</td>\n",
       "      <td>0.0</td>\n",
       "      <td>0.00</td>\n",
       "      <td>0.000000</td>\n",
       "    </tr>\n",
       "  </tbody>\n",
       "</table>\n",
       "<p>5 rows × 379 columns</p>\n",
       "</div>"
      ],
      "text/plain": [
       "                                        Neighborhood  Target  \\\n",
       "0                           Adelaide, Richmond, King       0   \n",
       "1                                        Berczy Park       0   \n",
       "2  Business Reply Mail Processing Centre 969 Eastern       0   \n",
       "3                                 Central Bay Street       0   \n",
       "4                                           Christie       0   \n",
       "\n",
       "   Accessories Store  Adult Boutique  Afghan Restaurant  African Restaurant  \\\n",
       "0                0.0             0.0                0.0                 0.0   \n",
       "1                0.0             0.0                0.0                 0.0   \n",
       "2                0.0             0.0                0.0                 0.0   \n",
       "3                0.0             0.0                0.0                 0.0   \n",
       "4                0.0             0.0                0.0                 0.0   \n",
       "\n",
       "   Airport  Airport Food Court  Airport Gate  Airport Lounge  ...  \\\n",
       "0      0.0                 0.0           0.0             0.0  ...   \n",
       "1      0.0                 0.0           0.0             0.0  ...   \n",
       "2      0.0                 0.0           0.0             0.0  ...   \n",
       "3      0.0                 0.0           0.0             0.0  ...   \n",
       "4      0.0                 0.0           0.0             0.0  ...   \n",
       "\n",
       "   Video Store  Vietnamese Restaurant  Volleyball Court  Waterfront  \\\n",
       "0          0.0                    0.0               0.0         0.0   \n",
       "1          0.0                    0.0               0.0         0.0   \n",
       "2          0.0                    0.0               0.0         0.0   \n",
       "3          0.0                    0.0               0.0         0.0   \n",
       "4          0.0                    0.0               0.0         0.0   \n",
       "\n",
       "   Whisky Bar  Wine Bar  Wine Shop  Wings Joint  Women's Store  Yoga Studio  \n",
       "0         0.0  0.010000        0.0          0.0           0.01     0.000000  \n",
       "1         0.0  0.000000        0.0          0.0           0.00     0.000000  \n",
       "2         0.0  0.000000        0.0          0.0           0.00     0.000000  \n",
       "3         0.0  0.011905        0.0          0.0           0.00     0.011905  \n",
       "4         0.0  0.000000        0.0          0.0           0.00     0.000000  \n",
       "\n",
       "[5 rows x 379 columns]"
      ]
     },
     "execution_count": 140,
     "metadata": {},
     "output_type": "execute_result"
    }
   ],
   "source": [
    "toronto_onehot = neighborhoods[neighborhoods['Target'] == 0].reset_index(drop=True)\n",
    "\n",
    "toronto_onehot.head()"
   ]
  },
  {
   "cell_type": "code",
   "execution_count": 141,
   "metadata": {},
   "outputs": [
    {
     "data": {
      "text/html": [
       "<div>\n",
       "<style scoped>\n",
       "    .dataframe tbody tr th:only-of-type {\n",
       "        vertical-align: middle;\n",
       "    }\n",
       "\n",
       "    .dataframe tbody tr th {\n",
       "        vertical-align: top;\n",
       "    }\n",
       "\n",
       "    .dataframe thead th {\n",
       "        text-align: right;\n",
       "    }\n",
       "</style>\n",
       "<table border=\"1\" class=\"dataframe\">\n",
       "  <thead>\n",
       "    <tr style=\"text-align: right;\">\n",
       "      <th></th>\n",
       "      <th>Neighborhood</th>\n",
       "      <th>Target</th>\n",
       "      <th>Accessories Store</th>\n",
       "      <th>Adult Boutique</th>\n",
       "      <th>Afghan Restaurant</th>\n",
       "      <th>African Restaurant</th>\n",
       "      <th>Airport</th>\n",
       "      <th>Airport Food Court</th>\n",
       "      <th>Airport Gate</th>\n",
       "      <th>Airport Lounge</th>\n",
       "      <th>...</th>\n",
       "      <th>Video Store</th>\n",
       "      <th>Vietnamese Restaurant</th>\n",
       "      <th>Volleyball Court</th>\n",
       "      <th>Waterfront</th>\n",
       "      <th>Whisky Bar</th>\n",
       "      <th>Wine Bar</th>\n",
       "      <th>Wine Shop</th>\n",
       "      <th>Wings Joint</th>\n",
       "      <th>Women's Store</th>\n",
       "      <th>Yoga Studio</th>\n",
       "    </tr>\n",
       "  </thead>\n",
       "  <tbody>\n",
       "    <tr>\n",
       "      <th>0</th>\n",
       "      <td>Battery Park City</td>\n",
       "      <td>1</td>\n",
       "      <td>0.0</td>\n",
       "      <td>0.0</td>\n",
       "      <td>0.0</td>\n",
       "      <td>0.000000</td>\n",
       "      <td>0.0</td>\n",
       "      <td>0.0</td>\n",
       "      <td>0.0</td>\n",
       "      <td>0.0</td>\n",
       "      <td>...</td>\n",
       "      <td>0.0</td>\n",
       "      <td>0.00</td>\n",
       "      <td>0.0</td>\n",
       "      <td>0.0</td>\n",
       "      <td>0.0</td>\n",
       "      <td>0.00</td>\n",
       "      <td>0.030928</td>\n",
       "      <td>0.0</td>\n",
       "      <td>0.030928</td>\n",
       "      <td>0.00</td>\n",
       "    </tr>\n",
       "    <tr>\n",
       "      <th>1</th>\n",
       "      <td>Carnegie Hill</td>\n",
       "      <td>1</td>\n",
       "      <td>0.0</td>\n",
       "      <td>0.0</td>\n",
       "      <td>0.0</td>\n",
       "      <td>0.000000</td>\n",
       "      <td>0.0</td>\n",
       "      <td>0.0</td>\n",
       "      <td>0.0</td>\n",
       "      <td>0.0</td>\n",
       "      <td>...</td>\n",
       "      <td>0.0</td>\n",
       "      <td>0.02</td>\n",
       "      <td>0.0</td>\n",
       "      <td>0.0</td>\n",
       "      <td>0.0</td>\n",
       "      <td>0.01</td>\n",
       "      <td>0.030000</td>\n",
       "      <td>0.0</td>\n",
       "      <td>0.010000</td>\n",
       "      <td>0.03</td>\n",
       "    </tr>\n",
       "    <tr>\n",
       "      <th>2</th>\n",
       "      <td>Central Harlem</td>\n",
       "      <td>1</td>\n",
       "      <td>0.0</td>\n",
       "      <td>0.0</td>\n",
       "      <td>0.0</td>\n",
       "      <td>0.066667</td>\n",
       "      <td>0.0</td>\n",
       "      <td>0.0</td>\n",
       "      <td>0.0</td>\n",
       "      <td>0.0</td>\n",
       "      <td>...</td>\n",
       "      <td>0.0</td>\n",
       "      <td>0.00</td>\n",
       "      <td>0.0</td>\n",
       "      <td>0.0</td>\n",
       "      <td>0.0</td>\n",
       "      <td>0.00</td>\n",
       "      <td>0.000000</td>\n",
       "      <td>0.0</td>\n",
       "      <td>0.000000</td>\n",
       "      <td>0.00</td>\n",
       "    </tr>\n",
       "    <tr>\n",
       "      <th>3</th>\n",
       "      <td>Chelsea</td>\n",
       "      <td>1</td>\n",
       "      <td>0.0</td>\n",
       "      <td>0.0</td>\n",
       "      <td>0.0</td>\n",
       "      <td>0.000000</td>\n",
       "      <td>0.0</td>\n",
       "      <td>0.0</td>\n",
       "      <td>0.0</td>\n",
       "      <td>0.0</td>\n",
       "      <td>...</td>\n",
       "      <td>0.0</td>\n",
       "      <td>0.00</td>\n",
       "      <td>0.0</td>\n",
       "      <td>0.0</td>\n",
       "      <td>0.0</td>\n",
       "      <td>0.00</td>\n",
       "      <td>0.020000</td>\n",
       "      <td>0.0</td>\n",
       "      <td>0.010000</td>\n",
       "      <td>0.00</td>\n",
       "    </tr>\n",
       "    <tr>\n",
       "      <th>4</th>\n",
       "      <td>Chinatown</td>\n",
       "      <td>1</td>\n",
       "      <td>0.0</td>\n",
       "      <td>0.0</td>\n",
       "      <td>0.0</td>\n",
       "      <td>0.000000</td>\n",
       "      <td>0.0</td>\n",
       "      <td>0.0</td>\n",
       "      <td>0.0</td>\n",
       "      <td>0.0</td>\n",
       "      <td>...</td>\n",
       "      <td>0.0</td>\n",
       "      <td>0.02</td>\n",
       "      <td>0.0</td>\n",
       "      <td>0.0</td>\n",
       "      <td>0.0</td>\n",
       "      <td>0.00</td>\n",
       "      <td>0.000000</td>\n",
       "      <td>0.0</td>\n",
       "      <td>0.000000</td>\n",
       "      <td>0.00</td>\n",
       "    </tr>\n",
       "  </tbody>\n",
       "</table>\n",
       "<p>5 rows × 379 columns</p>\n",
       "</div>"
      ],
      "text/plain": [
       "        Neighborhood  Target  Accessories Store  Adult Boutique  \\\n",
       "0  Battery Park City       1                0.0             0.0   \n",
       "1      Carnegie Hill       1                0.0             0.0   \n",
       "2     Central Harlem       1                0.0             0.0   \n",
       "3            Chelsea       1                0.0             0.0   \n",
       "4          Chinatown       1                0.0             0.0   \n",
       "\n",
       "   Afghan Restaurant  African Restaurant  Airport  Airport Food Court  \\\n",
       "0                0.0            0.000000      0.0                 0.0   \n",
       "1                0.0            0.000000      0.0                 0.0   \n",
       "2                0.0            0.066667      0.0                 0.0   \n",
       "3                0.0            0.000000      0.0                 0.0   \n",
       "4                0.0            0.000000      0.0                 0.0   \n",
       "\n",
       "   Airport Gate  Airport Lounge  ...  Video Store  Vietnamese Restaurant  \\\n",
       "0           0.0             0.0  ...          0.0                   0.00   \n",
       "1           0.0             0.0  ...          0.0                   0.02   \n",
       "2           0.0             0.0  ...          0.0                   0.00   \n",
       "3           0.0             0.0  ...          0.0                   0.00   \n",
       "4           0.0             0.0  ...          0.0                   0.02   \n",
       "\n",
       "   Volleyball Court  Waterfront  Whisky Bar  Wine Bar  Wine Shop  Wings Joint  \\\n",
       "0               0.0         0.0         0.0      0.00   0.030928          0.0   \n",
       "1               0.0         0.0         0.0      0.01   0.030000          0.0   \n",
       "2               0.0         0.0         0.0      0.00   0.000000          0.0   \n",
       "3               0.0         0.0         0.0      0.00   0.020000          0.0   \n",
       "4               0.0         0.0         0.0      0.00   0.000000          0.0   \n",
       "\n",
       "   Women's Store  Yoga Studio  \n",
       "0       0.030928         0.00  \n",
       "1       0.010000         0.03  \n",
       "2       0.000000         0.00  \n",
       "3       0.010000         0.00  \n",
       "4       0.000000         0.00  \n",
       "\n",
       "[5 rows x 379 columns]"
      ]
     },
     "execution_count": 141,
     "metadata": {},
     "output_type": "execute_result"
    }
   ],
   "source": [
    "ny_onehot = neighborhoods[neighborhoods['Target'] == 1].reset_index(drop=True)\n",
    "\n",
    "ny_onehot.head()"
   ]
  },
  {
   "cell_type": "markdown",
   "metadata": {},
   "source": [
    "### 3. Methodology\n",
    "\n",
    "#### The methodology section is divided into two sections: (1) high dimensional data visualization and (2) machine learning modeling.\n",
    "\n",
    "#### In the first section, we will use k-Means to clustering the neighborhoods of each city separately. Then, we will use a couple of unsupervised statistical approaches, PCA and t-SNE, to visualise these high dimensional data in a two dimensional plot in order to see how the clusters and data are related in the original high dimensional space. \n",
    "\n",
    "#### Meanwhile, in the second section, we will use Decision Tree to classify each neighborhood as belonging to New York or Toronto. Then, we will use Jaccard Score and F1 Score to evaluate our model. Finally, we will see the final tree to identify the characteristics of each city. But, prior to Decision Tree modeling, we will perform the PCA+LDA method to see wether the samples are linear separable or not!"
   ]
  },
  {
   "cell_type": "markdown",
   "metadata": {},
   "source": [
    "### 3.1 High Dimensional Data Visualization\n",
    "\n",
    "#### The Principal Component Analysis is a procedure for reducing the dimensionality of the variable space by representing it with a few orthogonal (uncorrelated) variables that capture most of its variability. In other words, it seeks to find relationship of the features. If the relationship between the feature of our data is linear, thus having a linear structure, then the principal components may explain the original variance of the data.\n",
    "\n",
    "#### However, in some cases, the structure of the dataset is non-linear, leading to the use o manifold learning algorithms. We are going to use the state-of-the-art t-distributed Stochastic Neighbor Embedding algorithm. The t-SNE models each high-dimensional object by a two- or three-dimensional point in such a way that similar objects are modeled by nearby points and dissimilar objects are modeled by distant points with high probability."
   ]
  },
  {
   "cell_type": "code",
   "execution_count": 97,
   "metadata": {},
   "outputs": [],
   "source": [
    "import matplotlib.pyplot as plt\n",
    "import numpy as np\n",
    "\n",
    "from sklearn.cluster import KMeans\n",
    "from sklearn.decomposition import PCA\n",
    "from sklearn.manifold import TSNE\n",
    "\n",
    "import matplotlib.cm as cm\n",
    "import matplotlib.colors as colors"
   ]
  },
  {
   "cell_type": "markdown",
   "metadata": {},
   "source": [
    "First we are going to analyse toronto data by clustering it: "
   ]
  },
  {
   "cell_type": "code",
   "execution_count": 143,
   "metadata": {},
   "outputs": [],
   "source": [
    "toronto_onehot.drop(['Neighborhood','Target'], axis=1, inplace=True)"
   ]
  },
  {
   "cell_type": "code",
   "execution_count": 144,
   "metadata": {},
   "outputs": [],
   "source": [
    "distortions = []\n",
    "\n",
    "K = range(1,20)\n",
    "for k in K:\n",
    "    kmean = KMeans(n_clusters=k, random_state=0, n_init = 50, max_iter = 500)\n",
    "    kmean.fit(toronto_onehot)\n",
    "    distortions.append(kmean.inertia_)"
   ]
  },
  {
   "cell_type": "code",
   "execution_count": 92,
   "metadata": {},
   "outputs": [
    {
     "data": {
      "image/png": "[encoded data removed]",
      "text/plain": [
       "<Figure size 720x360 with 1 Axes>"
      ]
     },
     "metadata": {
      "needs_background": "light"
     },
     "output_type": "display_data"
    }
   ],
   "source": [
    "plt.figure(figsize=(10,5))\n",
    "plt.plot(K, distortions, 'bx-')\n",
    "plt.xlabel('k')\n",
    "plt.ylabel('Distortion')\n",
    "plt.title('The Elbow Method')\n",
    "plt.show()"
   ]
  },
  {
   "cell_type": "markdown",
   "metadata": {},
   "source": [
    "By the elbow method we determine K as equal to 3!"
   ]
  },
  {
   "cell_type": "code",
   "execution_count": 133,
   "metadata": {},
   "outputs": [
    {
     "data": {
      "text/plain": [
       "array([0, 0, 0, 0, 0, 0, 0, 0, 0, 0])"
      ]
     },
     "execution_count": 133,
     "metadata": {},
     "output_type": "execute_result"
    }
   ],
   "source": [
    "# set number of clusters\n",
    "kclusters = 3\n",
    "\n",
    "# run k-means clustering\n",
    "kmeans = KMeans(n_clusters=kclusters, random_state=0).fit(toronto_onehot)\n",
    "\n",
    "# check cluster labels generated for each row in the dataframe\n",
    "kmeans.labels_[0:10] "
   ]
  },
  {
   "cell_type": "code",
   "execution_count": 117,
   "metadata": {},
   "outputs": [],
   "source": [
    "toronto_merged = pd.read_csv('toronto_merged.csv')"
   ]
  },
  {
   "cell_type": "markdown",
   "metadata": {},
   "source": [
    "Visualizing clusters in the Toronto city:"
   ]
  },
  {
   "cell_type": "code",
   "execution_count": 132,
   "metadata": {},
   "outputs": [],
   "source": [
    "address = 'Toronto, ON'\n",
    "\n",
    "geolocator = Nominatim(user_agent=\"ny_explorer\")\n",
    "location = geolocator.geocode(address)\n",
    "\n",
    "latitude = location.latitude\n",
    "longitude = location.longitude"
   ]
  },
  {
   "cell_type": "code",
   "execution_count": 400,
   "metadata": {},
   "outputs": [
    {
     "data": {
      "text/html": [
       "<div style=\"width:100%;\"><div style=\"position:relative;width:100%;height:0;padding-bottom:60%;\"><iframe src=\"data:text/html;charset=utf-8;base64,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\" style=\"position:absolute;width:100%;height:100%;left:0;top:0;border:none !important;\" allowfullscreen webkitallowfullscreen mozallowfullscreen></iframe></div></div>"
      ],
      "text/plain": [
       "<folium.folium.Map at 0x221d44082b0>"
      ]
     },
     "execution_count": 400,
     "metadata": {},
     "output_type": "execute_result"
    }
   ],
   "source": [
    "# create map\n",
    "map_clusters = folium.Map(location=[latitude, longitude], zoom_start=11)\n",
    "\n",
    "# set color scheme for the clusters\n",
    "x = np.arange(kclusters)\n",
    "ys = [i + x + (i*x)**2 for i in range(kclusters)]\n",
    "colors_array = cm.rainbow(np.linspace(0, 1, len(ys)))\n",
    "rainbow = [colors.rgb2hex(i) for i in colors_array]\n",
    "\n",
    "# add markers to the map\n",
    "markers_colors = []\n",
    "for lat, lon, poi, cluster in zip(toronto_merged['Latitude'], toronto_merged['Longitude'], toronto_merged['Neighborhood'], toronto_merged['Cluster Labels']):\n",
    "    label = folium.Popup(str(poi) + ' Cluster ' + str(cluster), parse_html=True)\n",
    "    folium.CircleMarker(\n",
    "        [lat, lon],\n",
    "        radius=5,\n",
    "        popup=label,\n",
    "        color=rainbow[cluster-1],\n",
    "        fill=True,\n",
    "        fill_color=rainbow[cluster-1],\n",
    "        fill_opacity=0.9).add_to(map_clusters)\n",
    "       \n",
    "map_clusters"
   ]
  },
  {
   "cell_type": "markdown",
   "metadata": {},
   "source": [
    "Now, we are going to use PCA and t-SNE to visualize the data in a two dimensional plot:"
   ]
  },
  {
   "cell_type": "code",
   "execution_count": 298,
   "metadata": {},
   "outputs": [
    {
     "name": "stdout",
     "output_type": "stream",
     "text": [
      "Variance explained by each component (%): \n",
      "\n",
      " 1 º: 27.834915705017437\n",
      "\n",
      " 2 º: 19.152641642563527\n",
      "\n",
      " 3 º: 7.022372237397157\n",
      "Total sum (%):  54.009929584978124\n"
     ]
    }
   ],
   "source": [
    "pca = PCA(n_components = 3).fit(toronto_onehot)\n",
    "pca_toronto = pca.transform(toronto_onehot)\n",
    "print(\"Variance explained by each component (%): \")\n",
    "for i in range(len(pca.explained_variance_ratio_)):\n",
    "      print(\"\\n\",i+1,\"º:\", pca.explained_variance_ratio_[i]*100)\n",
    "print(\"Total sum (%): \",sum(pca.explained_variance_ratio_)*100)"
   ]
  },
  {
   "cell_type": "markdown",
   "metadata": {},
   "source": [
    "This suggests that our data are not linear related. However, let's plot it:\n",
    "\n",
    "We will divide the data based on the corresponding cluster!"
   ]
  },
  {
   "cell_type": "code",
   "execution_count": 168,
   "metadata": {},
   "outputs": [],
   "source": [
    "c0 = []\n",
    "c1 = []\n",
    "c2 = []\n",
    "\n",
    "for i in range(len(pca_toronto)):\n",
    "    if kmeans.labels_[i] == 0:\n",
    "        c0.append(pca_toronto[i])\n",
    "    if kmeans.labels_[i] == 1:\n",
    "        c1.append(pca_toronto[i])\n",
    "    if kmeans.labels_[i] == 2:\n",
    "        c2.append(pca_toronto[i])\n",
    "        \n",
    "c0 = np.array(c0)\n",
    "c1 = np.array(c1)\n",
    "c2 = np.array(c2)"
   ]
  },
  {
   "cell_type": "code",
   "execution_count": 169,
   "metadata": {},
   "outputs": [
    {
     "data": {
      "image/png": "[encoded data removed]",
      "text/plain": [
       "<Figure size 504x504 with 1 Axes>"
      ]
     },
     "metadata": {
      "needs_background": "light"
     },
     "output_type": "display_data"
    }
   ],
   "source": [
    "plt.figure(figsize=(7,7))\n",
    "plt.scatter(c0[:,0], c0[:,1], c='red', label='Cluster 0')\n",
    "plt.scatter(c1[:,0], c1[:,1], c='blue', label='Cluster 1')\n",
    "plt.scatter(c2[:,0], c2[:,1], c='green', label='Cluster 2')\n",
    "plt.legend()\n",
    "plt.xlabel('PC1')\n",
    "plt.ylabel('PC2')\n",
    "plt.title('Low dimensional visualization (PCA) - Toronto');"
   ]
  },
  {
   "cell_type": "markdown",
   "metadata": {},
   "source": [
    "Although the principal components does not explain a lot of the data variance, it was able to 'capture' each cluster in the original space (379 dimensions) to illustrate it in a 2D plot.\n",
    "\n",
    "Let's do it again, but using t-SNE:"
   ]
  },
  {
   "cell_type": "code",
   "execution_count": 163,
   "metadata": {},
   "outputs": [],
   "source": [
    "tsne = TSNE(n_components=2, init='pca', perplexity = 10)\n",
    "tsne_toronto = tsne.fit_transform(toronto_onehot)"
   ]
  },
  {
   "cell_type": "markdown",
   "metadata": {},
   "source": [
    "Separating the data again..."
   ]
  },
  {
   "cell_type": "code",
   "execution_count": 170,
   "metadata": {},
   "outputs": [],
   "source": [
    "c0 = []\n",
    "c1 = []\n",
    "c2 = []\n",
    "\n",
    "for i in range(len(pca_toronto)):\n",
    "    if kmeans.labels_[i] == 0:\n",
    "        c0.append(tsne_toronto[i])\n",
    "    if kmeans.labels_[i] == 1:\n",
    "        c1.append(tsne_toronto[i])\n",
    "    if kmeans.labels_[i] == 2:\n",
    "        c2.append(tsne_toronto[i])\n",
    "        \n",
    "c0 = np.array(c0)\n",
    "c1 = np.array(c1)\n",
    "c2 = np.array(c2)"
   ]
  },
  {
   "cell_type": "code",
   "execution_count": 171,
   "metadata": {},
   "outputs": [
    {
     "data": {
      "image/png": "[encoded data removed]",
      "text/plain": [
       "<Figure size 504x504 with 1 Axes>"
      ]
     },
     "metadata": {
      "needs_background": "light"
     },
     "output_type": "display_data"
    }
   ],
   "source": [
    "plt.figure(figsize=(7,7))\n",
    "plt.scatter(c0[:,0], c0[:,1], c='red', label='Cluster 0')\n",
    "plt.scatter(c1[:,0], c1[:,1], c='blue', label='Cluster 1')\n",
    "plt.scatter(c2[:,0], c2[:,1], c='green', label='Cluster 2')\n",
    "plt.legend()\n",
    "plt.title('Low dimensional visualization (t-SNE) - Toronto');"
   ]
  },
  {
   "cell_type": "markdown",
   "metadata": {},
   "source": [
    "Using t-SNE, we were able to visualise each cluster as well. However, the cluster 0 was poorly illustrated.\n",
    "\n",
    "Therefore, the visualization provided by PCA was much better!! We can see in the PCA plot that there is a sample from cluster 0 that might me considerated an outlier, since it is far away from the corresponding cluster!\n",
    "\n",
    "Now we do this all again, but using New York data!"
   ]
  },
  {
   "cell_type": "code",
   "execution_count": 173,
   "metadata": {},
   "outputs": [],
   "source": [
    "ny_onehot.drop(['Neighborhood','Target'], axis=1, inplace=True)"
   ]
  },
  {
   "cell_type": "code",
   "execution_count": 174,
   "metadata": {},
   "outputs": [],
   "source": [
    "distortions = []\n",
    "\n",
    "K = range(1,20)\n",
    "for k in K:\n",
    "    kmean = KMeans(n_clusters=k, random_state=0, n_init = 50, max_iter = 500)\n",
    "    kmean.fit(ny_onehot)\n",
    "    distortions.append(kmean.inertia_)"
   ]
  },
  {
   "cell_type": "code",
   "execution_count": 175,
   "metadata": {},
   "outputs": [
    {
     "data": {
      "image/png": "[encoded data removed]",
      "text/plain": [
       "<Figure size 720x360 with 1 Axes>"
      ]
     },
     "metadata": {
      "needs_background": "light"
     },
     "output_type": "display_data"
    }
   ],
   "source": [
    "plt.figure(figsize=(10,5))\n",
    "plt.plot(K, distortions, 'bx-')\n",
    "plt.xlabel('k')\n",
    "plt.ylabel('Distortion')\n",
    "plt.title('The Elbow Method')\n",
    "plt.show()"
   ]
  },
  {
   "cell_type": "markdown",
   "metadata": {},
   "source": [
    "Not much helpful, let's use k = 5."
   ]
  },
  {
   "cell_type": "code",
   "execution_count": 190,
   "metadata": {},
   "outputs": [
    {
     "data": {
      "text/plain": [
       "array([1, 1, 1, 1, 1, 1, 1, 0, 1, 1])"
      ]
     },
     "execution_count": 190,
     "metadata": {},
     "output_type": "execute_result"
    }
   ],
   "source": [
    "# set number of clusters\n",
    "kclusters = 5\n",
    "\n",
    "# run k-means clustering\n",
    "kmeans = KMeans(n_clusters=kclusters, random_state=0).fit(ny_onehot)\n",
    "\n",
    "# check cluster labels generated for each row in the dataframe\n",
    "kmeans.labels_[0:10] "
   ]
  },
  {
   "cell_type": "code",
   "execution_count": 177,
   "metadata": {},
   "outputs": [],
   "source": [
    "manhattan_merged = pd.read_csv('manhattan_merged.csv')"
   ]
  },
  {
   "cell_type": "code",
   "execution_count": 182,
   "metadata": {},
   "outputs": [],
   "source": [
    "address = 'Manhattan, New York, NY'\n",
    "\n",
    "geolocator = Nominatim(user_agent=\"ny_explorer\")\n",
    "location = geolocator.geocode(address)\n",
    "\n",
    "latitude = location.latitude\n",
    "longitude = location.longitude"
   ]
  },
  {
   "cell_type": "code",
   "execution_count": 191,
   "metadata": {},
   "outputs": [
    {
     "data": {
      "text/html": [
       "<div style=\"width:100%;\"><div style=\"position:relative;width:100%;height:0;padding-bottom:60%;\"><iframe src=\"data:text/html;charset=utf-8;base64,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\" style=\"position:absolute;width:100%;height:100%;left:0;top:0;border:none !important;\" allowfullscreen webkitallowfullscreen mozallowfullscreen></iframe></div></div>"
      ],
      "text/plain": [
       "<folium.folium.Map at 0x221d3c782b0>"
      ]
     },
     "execution_count": 191,
     "metadata": {},
     "output_type": "execute_result"
    }
   ],
   "source": [
    "# create map\n",
    "map_clusters = folium.Map(location=[latitude, longitude], zoom_start=12)\n",
    "\n",
    "# set color scheme for the clusters\n",
    "x = np.arange(kclusters)\n",
    "ys = [i + x + (i*x)**2 for i in range(kclusters)]\n",
    "colors_array = cm.rainbow(np.linspace(0, 1, len(ys)))\n",
    "rainbow = [colors.rgb2hex(i) for i in colors_array]\n",
    "\n",
    "# add markers to the map\n",
    "markers_colors = []\n",
    "for lat, lon, poi, cluster in zip(manhattan_merged['Latitude'], manhattan_merged['Longitude'], manhattan_merged['Neighborhood'], manhattan_merged['Cluster Labels']):\n",
    "    label = folium.Popup(str(poi) + ' Cluster ' + str(cluster), parse_html=True)\n",
    "    folium.CircleMarker(\n",
    "        [lat, lon],\n",
    "        radius=5,\n",
    "        popup=label,\n",
    "        color=rainbow[cluster-1],\n",
    "        fill=True,\n",
    "        fill_color=rainbow[cluster-1],\n",
    "        fill_opacity=0.9).add_to(map_clusters)\n",
    "       \n",
    "map_clusters"
   ]
  },
  {
   "cell_type": "code",
   "execution_count": 297,
   "metadata": {},
   "outputs": [
    {
     "name": "stdout",
     "output_type": "stream",
     "text": [
      "Variance explained by each component (%): \n",
      "\n",
      " 1 º: 11.199882080501379\n",
      "\n",
      " 2 º: 9.866347766942791\n",
      "\n",
      " 3 º: 8.06214502441477\n",
      "Total sum (%):  29.12837487185894\n"
     ]
    }
   ],
   "source": [
    "pca = PCA(n_components = 3).fit(ny_onehot)\n",
    "pca_ny = pca.transform(ny_onehot)\n",
    "print(\"Variance explained by each component (%): \")\n",
    "for i in range(len(pca.explained_variance_ratio_)):\n",
    "      print(\"\\n\",i+1,\"º:\", pca.explained_variance_ratio_[i]*100)\n",
    "print(\"Total sum (%): \",sum(pca.explained_variance_ratio_)*100)"
   ]
  },
  {
   "cell_type": "markdown",
   "metadata": {},
   "source": [
    "The PCA performed poorly in New York! Worse than in Toronto! Let's see how it illustrate our data:"
   ]
  },
  {
   "cell_type": "code",
   "execution_count": 195,
   "metadata": {},
   "outputs": [],
   "source": [
    "c0 = []\n",
    "c1 = []\n",
    "c2 = []\n",
    "c3 = []\n",
    "c4 = []\n",
    "\n",
    "for i in range(len(pca_ny)):\n",
    "    if kmeans.labels_[i] == 0:\n",
    "        c0.append(pca_ny[i])\n",
    "    if kmeans.labels_[i] == 1:\n",
    "        c1.append(pca_ny[i])\n",
    "    if kmeans.labels_[i] == 2:\n",
    "        c2.append(pca_ny[i])\n",
    "    if kmeans.labels_[i] == 3:\n",
    "        c3.append(pca_ny[i])\n",
    "    if kmeans.labels_[i] == 4:\n",
    "        c4.append(pca_ny[i])\n",
    "        \n",
    "c0 = np.array(c0)\n",
    "c1 = np.array(c1)\n",
    "c2 = np.array(c2)\n",
    "c3 = np.array(c3)\n",
    "c4 = np.array(c4)"
   ]
  },
  {
   "cell_type": "code",
   "execution_count": 196,
   "metadata": {},
   "outputs": [
    {
     "data": {
      "image/png": "[encoded data removed]",
      "text/plain": [
       "<Figure size 504x504 with 1 Axes>"
      ]
     },
     "metadata": {
      "needs_background": "light"
     },
     "output_type": "display_data"
    }
   ],
   "source": [
    "plt.figure(figsize=(7,7))\n",
    "plt.scatter(c0[:,0], c0[:,1], c='red', label='Cluster 0')\n",
    "plt.scatter(c1[:,0], c1[:,1], c='blue', label='Cluster 1')\n",
    "plt.scatter(c2[:,0], c2[:,1], c='green', label='Cluster 2')\n",
    "plt.scatter(c3[:,0], c3[:,1], c='yellow', label='Cluster 3')\n",
    "plt.scatter(c4[:,0], c4[:,1], c='black', label='Cluster 4')\n",
    "plt.legend()\n",
    "plt.xlabel('PC1')\n",
    "plt.ylabel('PC2')\n",
    "plt.title('Low dimensional visualization (PCA) - New York');"
   ]
  },
  {
   "cell_type": "markdown",
   "metadata": {},
   "source": [
    "Not good! We can see that clusters 1 and 2 are overlapped. Moreover, cluster 1 seems to have two outliers!\n",
    "\n",
    "We shall try the low dimensional representation with t-SNE now:"
   ]
  },
  {
   "cell_type": "code",
   "execution_count": 222,
   "metadata": {},
   "outputs": [],
   "source": [
    "tsne = TSNE(n_components=2, init='pca', perplexity = 19)\n",
    "tsne_ny = tsne.fit_transform(ny_onehot)"
   ]
  },
  {
   "cell_type": "code",
   "execution_count": 223,
   "metadata": {},
   "outputs": [],
   "source": [
    "c0 = []\n",
    "c1 = []\n",
    "c2 = []\n",
    "c3 = []\n",
    "c4 = []\n",
    "\n",
    "for i in range(len(tsne_ny)):\n",
    "    if kmeans.labels_[i] == 0:\n",
    "        c0.append(tsne_ny[i])\n",
    "    if kmeans.labels_[i] == 1:\n",
    "        c1.append(tsne_ny[i])\n",
    "    if kmeans.labels_[i] == 2:\n",
    "        c2.append(tsne_ny[i])\n",
    "    if kmeans.labels_[i] == 3:\n",
    "        c3.append(tsne_ny[i])\n",
    "    if kmeans.labels_[i] == 4:\n",
    "        c4.append(tsne_ny[i])\n",
    "        \n",
    "c0 = np.array(c0)\n",
    "c1 = np.array(c1)\n",
    "c2 = np.array(c2)\n",
    "c3 = np.array(c3)\n",
    "c4 = np.array(c4)"
   ]
  },
  {
   "cell_type": "code",
   "execution_count": 224,
   "metadata": {},
   "outputs": [
    {
     "data": {
      "image/png": "[encoded data removed]",
      "text/plain": [
       "<Figure size 504x504 with 1 Axes>"
      ]
     },
     "metadata": {
      "needs_background": "light"
     },
     "output_type": "display_data"
    }
   ],
   "source": [
    "plt.figure(figsize=(7,7))\n",
    "plt.scatter(c0[:,0], c0[:,1], c='red', label='Cluster 0')\n",
    "plt.scatter(c1[:,0], c1[:,1], c='blue', label='Cluster 1')\n",
    "plt.scatter(c2[:,0], c2[:,1], c='green', label='Cluster 2')\n",
    "plt.scatter(c3[:,0], c3[:,1], c='yellow', label='Cluster 3')\n",
    "plt.scatter(c4[:,0], c4[:,1], c='black', label='Cluster 4')\n",
    "plt.legend()\n",
    "plt.title('Low dimensional visualization (t-SNE) - New York');"
   ]
  },
  {
   "cell_type": "markdown",
   "metadata": {},
   "source": [
    "We can see that cluster 1 and 2 are overlapped again! This suggests that k-Means are not performing well in the New York dataset! Maybe DBSCAN solves that problem, or a lesser number of clusters in k-Means.. but we are not investigating it further...\n",
    "\n",
    "Moreover, both algorithms, PCA and t-SNE, are heavily impacted by the number of samples and number of features. When the former is much smaller than the latter, we have the so-called Curse of Dimensionality! Since we have 379 features for 40 samples, we are suffering from this problem!"
   ]
  },
  {
   "cell_type": "markdown",
   "metadata": {},
   "source": [
    "### 3.2 Machine Learning Modeling\n",
    "\n",
    "#### First we will apply the Linear Discrimant Analysis, LDA for short, in order to visualise the discrimance among sample groups in a low dimensional space. This method is very similiar to PCA, however, LDA seeks to identify to each direction sample groups are better separated!\n",
    "\n",
    "#### In order to avoid collinearity among features when applying LDA, we will first computate the Principal Components, since PCA give us orthogonal features of our samples, and then, apply LDA on it!\n",
    "\n",
    "#### Then, we will use Decision Trees to classify our dataset!"
   ]
  },
  {
   "cell_type": "code",
   "execution_count": 234,
   "metadata": {},
   "outputs": [],
   "source": [
    "from sklearn.discriminant_analysis import LinearDiscriminantAnalysis as LDA\n",
    "from sklearn.tree import DecisionTreeClassifier\n",
    "from sklearn.model_selection import train_test_split\n",
    "\n",
    "import graphviz\n",
    "from scipy.stats import norm"
   ]
  },
  {
   "cell_type": "markdown",
   "metadata": {},
   "source": [
    "Our modelling will use all of our data, both New York and Toronto!\n",
    "\n",
    "Remembering that... 0 = Toronto and 1 = New York."
   ]
  },
  {
   "cell_type": "code",
   "execution_count": 227,
   "metadata": {},
   "outputs": [
    {
     "data": {
      "text/html": [
       "<div>\n",
       "<style scoped>\n",
       "    .dataframe tbody tr th:only-of-type {\n",
       "        vertical-align: middle;\n",
       "    }\n",
       "\n",
       "    .dataframe tbody tr th {\n",
       "        vertical-align: top;\n",
       "    }\n",
       "\n",
       "    .dataframe thead th {\n",
       "        text-align: right;\n",
       "    }\n",
       "</style>\n",
       "<table border=\"1\" class=\"dataframe\">\n",
       "  <thead>\n",
       "    <tr style=\"text-align: right;\">\n",
       "      <th></th>\n",
       "      <th>Neighborhood</th>\n",
       "      <th>Target</th>\n",
       "      <th>Accessories Store</th>\n",
       "      <th>Adult Boutique</th>\n",
       "      <th>Afghan Restaurant</th>\n",
       "      <th>African Restaurant</th>\n",
       "      <th>Airport</th>\n",
       "      <th>Airport Food Court</th>\n",
       "      <th>Airport Gate</th>\n",
       "      <th>Airport Lounge</th>\n",
       "      <th>...</th>\n",
       "      <th>Video Store</th>\n",
       "      <th>Vietnamese Restaurant</th>\n",
       "      <th>Volleyball Court</th>\n",
       "      <th>Waterfront</th>\n",
       "      <th>Whisky Bar</th>\n",
       "      <th>Wine Bar</th>\n",
       "      <th>Wine Shop</th>\n",
       "      <th>Wings Joint</th>\n",
       "      <th>Women's Store</th>\n",
       "      <th>Yoga Studio</th>\n",
       "    </tr>\n",
       "  </thead>\n",
       "  <tbody>\n",
       "    <tr>\n",
       "      <th>0</th>\n",
       "      <td>Adelaide, Richmond, King</td>\n",
       "      <td>0</td>\n",
       "      <td>0.0</td>\n",
       "      <td>0.0</td>\n",
       "      <td>0.0</td>\n",
       "      <td>0.0</td>\n",
       "      <td>0.0</td>\n",
       "      <td>0.0</td>\n",
       "      <td>0.0</td>\n",
       "      <td>0.0</td>\n",
       "      <td>...</td>\n",
       "      <td>0.0</td>\n",
       "      <td>0.00</td>\n",
       "      <td>0.0</td>\n",
       "      <td>0.0</td>\n",
       "      <td>0.0</td>\n",
       "      <td>0.01</td>\n",
       "      <td>0.000000</td>\n",
       "      <td>0.0</td>\n",
       "      <td>0.010000</td>\n",
       "      <td>0.00</td>\n",
       "    </tr>\n",
       "    <tr>\n",
       "      <th>1</th>\n",
       "      <td>Battery Park City</td>\n",
       "      <td>1</td>\n",
       "      <td>0.0</td>\n",
       "      <td>0.0</td>\n",
       "      <td>0.0</td>\n",
       "      <td>0.0</td>\n",
       "      <td>0.0</td>\n",
       "      <td>0.0</td>\n",
       "      <td>0.0</td>\n",
       "      <td>0.0</td>\n",
       "      <td>...</td>\n",
       "      <td>0.0</td>\n",
       "      <td>0.00</td>\n",
       "      <td>0.0</td>\n",
       "      <td>0.0</td>\n",
       "      <td>0.0</td>\n",
       "      <td>0.00</td>\n",
       "      <td>0.030928</td>\n",
       "      <td>0.0</td>\n",
       "      <td>0.030928</td>\n",
       "      <td>0.00</td>\n",
       "    </tr>\n",
       "    <tr>\n",
       "      <th>2</th>\n",
       "      <td>Berczy Park</td>\n",
       "      <td>0</td>\n",
       "      <td>0.0</td>\n",
       "      <td>0.0</td>\n",
       "      <td>0.0</td>\n",
       "      <td>0.0</td>\n",
       "      <td>0.0</td>\n",
       "      <td>0.0</td>\n",
       "      <td>0.0</td>\n",
       "      <td>0.0</td>\n",
       "      <td>...</td>\n",
       "      <td>0.0</td>\n",
       "      <td>0.00</td>\n",
       "      <td>0.0</td>\n",
       "      <td>0.0</td>\n",
       "      <td>0.0</td>\n",
       "      <td>0.00</td>\n",
       "      <td>0.000000</td>\n",
       "      <td>0.0</td>\n",
       "      <td>0.000000</td>\n",
       "      <td>0.00</td>\n",
       "    </tr>\n",
       "    <tr>\n",
       "      <th>3</th>\n",
       "      <td>Business Reply Mail Processing Centre 969 Eastern</td>\n",
       "      <td>0</td>\n",
       "      <td>0.0</td>\n",
       "      <td>0.0</td>\n",
       "      <td>0.0</td>\n",
       "      <td>0.0</td>\n",
       "      <td>0.0</td>\n",
       "      <td>0.0</td>\n",
       "      <td>0.0</td>\n",
       "      <td>0.0</td>\n",
       "      <td>...</td>\n",
       "      <td>0.0</td>\n",
       "      <td>0.00</td>\n",
       "      <td>0.0</td>\n",
       "      <td>0.0</td>\n",
       "      <td>0.0</td>\n",
       "      <td>0.00</td>\n",
       "      <td>0.000000</td>\n",
       "      <td>0.0</td>\n",
       "      <td>0.000000</td>\n",
       "      <td>0.00</td>\n",
       "    </tr>\n",
       "    <tr>\n",
       "      <th>4</th>\n",
       "      <td>Carnegie Hill</td>\n",
       "      <td>1</td>\n",
       "      <td>0.0</td>\n",
       "      <td>0.0</td>\n",
       "      <td>0.0</td>\n",
       "      <td>0.0</td>\n",
       "      <td>0.0</td>\n",
       "      <td>0.0</td>\n",
       "      <td>0.0</td>\n",
       "      <td>0.0</td>\n",
       "      <td>...</td>\n",
       "      <td>0.0</td>\n",
       "      <td>0.02</td>\n",
       "      <td>0.0</td>\n",
       "      <td>0.0</td>\n",
       "      <td>0.0</td>\n",
       "      <td>0.01</td>\n",
       "      <td>0.030000</td>\n",
       "      <td>0.0</td>\n",
       "      <td>0.010000</td>\n",
       "      <td>0.03</td>\n",
       "    </tr>\n",
       "  </tbody>\n",
       "</table>\n",
       "<p>5 rows × 379 columns</p>\n",
       "</div>"
      ],
      "text/plain": [
       "                                        Neighborhood  Target  \\\n",
       "0                           Adelaide, Richmond, King       0   \n",
       "1                                  Battery Park City       1   \n",
       "2                                        Berczy Park       0   \n",
       "3  Business Reply Mail Processing Centre 969 Eastern       0   \n",
       "4                                      Carnegie Hill       1   \n",
       "\n",
       "   Accessories Store  Adult Boutique  Afghan Restaurant  African Restaurant  \\\n",
       "0                0.0             0.0                0.0                 0.0   \n",
       "1                0.0             0.0                0.0                 0.0   \n",
       "2                0.0             0.0                0.0                 0.0   \n",
       "3                0.0             0.0                0.0                 0.0   \n",
       "4                0.0             0.0                0.0                 0.0   \n",
       "\n",
       "   Airport  Airport Food Court  Airport Gate  Airport Lounge  ...  \\\n",
       "0      0.0                 0.0           0.0             0.0  ...   \n",
       "1      0.0                 0.0           0.0             0.0  ...   \n",
       "2      0.0                 0.0           0.0             0.0  ...   \n",
       "3      0.0                 0.0           0.0             0.0  ...   \n",
       "4      0.0                 0.0           0.0             0.0  ...   \n",
       "\n",
       "   Video Store  Vietnamese Restaurant  Volleyball Court  Waterfront  \\\n",
       "0          0.0                   0.00               0.0         0.0   \n",
       "1          0.0                   0.00               0.0         0.0   \n",
       "2          0.0                   0.00               0.0         0.0   \n",
       "3          0.0                   0.00               0.0         0.0   \n",
       "4          0.0                   0.02               0.0         0.0   \n",
       "\n",
       "   Whisky Bar  Wine Bar  Wine Shop  Wings Joint  Women's Store  Yoga Studio  \n",
       "0         0.0      0.01   0.000000          0.0       0.010000         0.00  \n",
       "1         0.0      0.00   0.030928          0.0       0.030928         0.00  \n",
       "2         0.0      0.00   0.000000          0.0       0.000000         0.00  \n",
       "3         0.0      0.00   0.000000          0.0       0.000000         0.00  \n",
       "4         0.0      0.01   0.030000          0.0       0.010000         0.03  \n",
       "\n",
       "[5 rows x 379 columns]"
      ]
     },
     "execution_count": 227,
     "metadata": {},
     "output_type": "execute_result"
    }
   ],
   "source": [
    "neighborhoods.head()"
   ]
  },
  {
   "cell_type": "code",
   "execution_count": 230,
   "metadata": {},
   "outputs": [
    {
     "data": {
      "text/html": [
       "<div>\n",
       "<style scoped>\n",
       "    .dataframe tbody tr th:only-of-type {\n",
       "        vertical-align: middle;\n",
       "    }\n",
       "\n",
       "    .dataframe tbody tr th {\n",
       "        vertical-align: top;\n",
       "    }\n",
       "\n",
       "    .dataframe thead th {\n",
       "        text-align: right;\n",
       "    }\n",
       "</style>\n",
       "<table border=\"1\" class=\"dataframe\">\n",
       "  <thead>\n",
       "    <tr style=\"text-align: right;\">\n",
       "      <th></th>\n",
       "      <th>Target</th>\n",
       "    </tr>\n",
       "  </thead>\n",
       "  <tbody>\n",
       "    <tr>\n",
       "      <th>0</th>\n",
       "      <td>0</td>\n",
       "    </tr>\n",
       "    <tr>\n",
       "      <th>1</th>\n",
       "      <td>1</td>\n",
       "    </tr>\n",
       "    <tr>\n",
       "      <th>2</th>\n",
       "      <td>0</td>\n",
       "    </tr>\n",
       "    <tr>\n",
       "      <th>3</th>\n",
       "      <td>0</td>\n",
       "    </tr>\n",
       "    <tr>\n",
       "      <th>4</th>\n",
       "      <td>1</td>\n",
       "    </tr>\n",
       "  </tbody>\n",
       "</table>\n",
       "</div>"
      ],
      "text/plain": [
       "   Target\n",
       "0       0\n",
       "1       1\n",
       "2       0\n",
       "3       0\n",
       "4       1"
      ]
     },
     "execution_count": 230,
     "metadata": {},
     "output_type": "execute_result"
    }
   ],
   "source": [
    "targets = neighborhoods[['Target']]\n",
    "\n",
    "targets.head()"
   ]
  },
  {
   "cell_type": "code",
   "execution_count": 237,
   "metadata": {},
   "outputs": [],
   "source": [
    "neighborhoods.drop(['Neighborhood','Target'], axis=1, inplace=True)"
   ]
  },
  {
   "cell_type": "markdown",
   "metadata": {},
   "source": [
    "We are set to go!\n",
    "\n",
    "Let's reduce the dimensionality of our data to 10 features!"
   ]
  },
  {
   "cell_type": "code",
   "execution_count": 291,
   "metadata": {},
   "outputs": [
    {
     "name": "stdout",
     "output_type": "stream",
     "text": [
      "Variance explained by each component (%): \n",
      "\n",
      " 1 º: 22.495966320665406\n",
      "\n",
      " 2 º: 16.415046376534825\n",
      "\n",
      " 3 º: 5.711285295516128\n",
      "\n",
      " 4 º: 4.719016514439259\n",
      "\n",
      " 5 º: 4.440156321846627\n",
      "\n",
      " 6 º: 3.688202257277889\n",
      "\n",
      " 7 º: 3.610929008472902\n",
      "\n",
      " 8 º: 2.9960932928462536\n",
      "\n",
      " 9 º: 2.4049634795411245\n",
      "\n",
      " 10 º: 2.2916153846164544\n",
      "\n",
      " 11 º: 2.045971870101403\n",
      "\n",
      " 12 º: 1.8278387152923774\n",
      "\n",
      " 13 º: 1.674363848026038\n",
      "\n",
      " 14 º: 1.559569953203408\n",
      "\n",
      " 15 º: 1.4704045452692907\n",
      "\n",
      " 16 º: 1.2857963901547103\n",
      "\n",
      " 17 º: 1.2599783182482747\n",
      "\n",
      " 18 º: 1.1451082662072791\n",
      "\n",
      " 19 º: 1.1319093667636082\n",
      "\n",
      " 20 º: 1.07225606222915\n",
      "Total sum (%):  83.24647158725242\n"
     ]
    }
   ],
   "source": [
    "pca = PCA(n_components = 20).fit(neighborhoods)\n",
    "pca_neighborhoods = pca.transform(neighborhoods)\n",
    "print(\"Variance explained by each component (%): \")\n",
    "for i in range(len(pca.explained_variance_ratio_)):\n",
    "      print(\"\\n\",i+1,\"º:\", pca.explained_variance_ratio_[i]*100)\n",
    "        \n",
    "print(\"Total sum (%): \",sum(pca.explained_variance_ratio_)*100)"
   ]
  },
  {
   "cell_type": "markdown",
   "metadata": {},
   "source": [
    "With just 20 components we are able to represent 83,25% of information of our original data! That is quite good! In the beginning our data had 377 features, and now we have 20!\n",
    "\n",
    "Since we have two classes to discriminate, the number of discriminant components is 1!"
   ]
  },
  {
   "cell_type": "code",
   "execution_count": 292,
   "metadata": {},
   "outputs": [],
   "source": [
    "lda = LDA(n_components = 1)\n",
    "lda_neighborhoods = lda.fit_transform(pca_neighborhoods, np.ravel(targets))"
   ]
  },
  {
   "cell_type": "code",
   "execution_count": 293,
   "metadata": {},
   "outputs": [],
   "source": [
    "c0 = []\n",
    "c1 = []\n",
    "\n",
    "for i in range(len(targets)):\n",
    "    if targets['Target'][i] == 0:\n",
    "        c0.append(lda_neighborhoods[i])\n",
    "    if targets['Target'][i] == 1:\n",
    "        c1.append(lda_neighborhoods[i])\n",
    "        \n",
    "c0 = np.array(c0)\n",
    "c1 = np.array(c1)"
   ]
  },
  {
   "cell_type": "markdown",
   "metadata": {},
   "source": [
    "Let's normalize our results in order to plot the probability density function, PDF for short!"
   ]
  },
  {
   "cell_type": "code",
   "execution_count": 294,
   "metadata": {},
   "outputs": [],
   "source": [
    "Tmean, Tstd = norm.fit(c0)\n",
    "NYmean, NYstd = norm.fit(c1)\n",
    "Amean, Astd = norm.fit(lda_neighborhoods)\n",
    "\n",
    "x = np.linspace(-7, 7, 10000)\n",
    "T = norm.pdf(x, Tmean, Tstd)\n",
    "NY = norm.pdf(x, NYmean, NYstd)\n",
    "A = norm.pdf(x, Amean, Astd)\n",
    "\n",
    "color = ['red' if l==0  else 'blue' for l in targets['Target']]"
   ]
  },
  {
   "cell_type": "code",
   "execution_count": 394,
   "metadata": {},
   "outputs": [
    {
     "data": {
      "image/png": "[encoded data removed]",
      "text/plain": [
       "<Figure size 576x288 with 1 Axes>"
      ]
     },
     "metadata": {
      "needs_background": "light"
     },
     "output_type": "display_data"
    }
   ],
   "source": [
    "plt.figure(figsize=(8,4))\n",
    "plt.scatter(lda_neighborhoods[:,0], np.zeros((len(lda_neighborhoods),1)), c=color)\n",
    "plt.ylim([-0.5,0.7])\n",
    "plt.xlim([-7,7])\n",
    "plt.plot(x, T, 'r', linewidth=1.2, label='Toronto')\n",
    "plt.plot(x, NY, 'b', linewidth=1.2, label='New York')\n",
    "plt.plot(x, A, 'k', linewidth=1.2, label='All neighborhoods')\n",
    "plt.xlabel('Most discriminant hyperplane')\n",
    "plt.ylabel('PDF')\n",
    "plt.legend()\n",
    "plt.title('Neighborhoods - PCA + LDA');"
   ]
  },
  {
   "cell_type": "markdown",
   "metadata": {},
   "source": [
    "In the figure, we can see that our sample groups are far apart! That means that our samples are linearly discriminant, and, therefore, can be classified by commonly used algorithms such as the k-NN!\n",
    "\n",
    "However, we want to identify the features that are used to classify each sample as belonging to the city of New York or Toronto! The best method to do so is Decision Trees!"
   ]
  },
  {
   "cell_type": "code",
   "execution_count": 372,
   "metadata": {},
   "outputs": [],
   "source": [
    "from sklearn.tree import DecisionTreeClassifier, export_graphviz\n",
    "from sklearn.model_selection import train_test_split"
   ]
  },
  {
   "cell_type": "markdown",
   "metadata": {},
   "source": [
    "We first need to split our data into test and train sets!"
   ]
  },
  {
   "cell_type": "code",
   "execution_count": 374,
   "metadata": {},
   "outputs": [
    {
     "name": "stdout",
     "output_type": "stream",
     "text": [
      "Train set: (63, 377) (63,)\n",
      "Test set: (16, 377) (16,)\n"
     ]
    }
   ],
   "source": [
    "X_train, X_test, y_train, y_test = train_test_split(neighborhoods, np.ravel(targets), test_size=0.2, random_state=4)\n",
    "print ('Train set:', X_train.shape,  y_train.shape)\n",
    "print ('Test set:', X_test.shape,  y_test.shape)"
   ]
  },
  {
   "cell_type": "markdown",
   "metadata": {},
   "source": [
    "Decision Trees are dependent of two main parameters: criterion and max depth of the tree! Therefore, we need to evaluate which combination of parameter performs better!"
   ]
  },
  {
   "cell_type": "code",
   "execution_count": 379,
   "metadata": {},
   "outputs": [],
   "source": [
    "accuracy_entropy = []\n",
    "for k in range(1,10):\n",
    "    DecTree = DecisionTreeClassifier(criterion=\"entropy\", max_depth = k, random_state = 2).fit(X_train,y_train)\n",
    "    accuracy_entropy.append(DecTree.score(X_test,y_test))\n",
    "    \n",
    "accuracy_gini = []\n",
    "for k in range(1,10):\n",
    "    DecTree = DecisionTreeClassifier(criterion=\"gini\", max_depth = k, random_state = 2).fit(X_train,y_train)\n",
    "    accuracy_gini.append(DecTree.score(X_test,y_test))"
   ]
  },
  {
   "cell_type": "code",
   "execution_count": 380,
   "metadata": {},
   "outputs": [
    {
     "data": {
      "image/png": "[encoded data removed]",
      "text/plain": [
       "<Figure size 432x288 with 1 Axes>"
      ]
     },
     "metadata": {
      "needs_background": "light"
     },
     "output_type": "display_data"
    },
    {
     "name": "stdout",
     "output_type": "stream",
     "text": [
      "The best entropy accuracy was 87.5 % with max_depth = 4\n",
      "The best gini accuracy was 93.75 % with max_depth = 3\n"
     ]
    }
   ],
   "source": [
    "plt.plot(range(1,10),accuracy_entropy, 'r')\n",
    "plt.plot(range(1,10),accuracy_gini, 'b')\n",
    "plt.ylabel('Accuracy ')\n",
    "plt.xlabel('Max depth (K)')\n",
    "plt.tight_layout()\n",
    "plt.legend(('Entropy','Gini'))\n",
    "plt.show()\n",
    "\n",
    "print( \"The best entropy accuracy was\", np.array(accuracy_entropy).max()*100, \"% with max_depth =\",  np.array(accuracy_entropy).argmax()+1) \n",
    "print( \"The best gini accuracy was\", np.array(accuracy_gini).max()*100, \"% with max_depth =\",  np.array(accuracy_gini).argmax()+1) "
   ]
  },
  {
   "cell_type": "markdown",
   "metadata": {},
   "source": [
    "To simplify things, we are using gini criterion with max_depth = 3!"
   ]
  },
  {
   "cell_type": "code",
   "execution_count": 390,
   "metadata": {},
   "outputs": [
    {
     "data": {
      "text/plain": [
       "DecisionTreeClassifier(class_weight=None, criterion='gini', max_depth=3,\n",
       "                       max_features=None, max_leaf_nodes=None,\n",
       "                       min_impurity_decrease=0.0, min_impurity_split=None,\n",
       "                       min_samples_leaf=1, min_samples_split=2,\n",
       "                       min_weight_fraction_leaf=0.0, presort=False,\n",
       "                       random_state=2, splitter='best')"
      ]
     },
     "execution_count": 390,
     "metadata": {},
     "output_type": "execute_result"
    }
   ],
   "source": [
    "DecTree = DecisionTreeClassifier(criterion=\"gini\", max_depth = 3, random_state=2)\n",
    "DecTree.fit(X_train,y_train)"
   ]
  },
  {
   "cell_type": "markdown",
   "metadata": {},
   "source": [
    "Now we need to evaluate our model! As said before, we are using jaccard similarity score and f1 score!"
   ]
  },
  {
   "cell_type": "code",
   "execution_count": 382,
   "metadata": {},
   "outputs": [],
   "source": [
    "from sklearn.metrics import jaccard_similarity_score\n",
    "from sklearn.metrics import f1_score"
   ]
  },
  {
   "cell_type": "code",
   "execution_count": 391,
   "metadata": {},
   "outputs": [
    {
     "name": "stdout",
     "output_type": "stream",
     "text": [
      "jaccard score = 0.9375\n",
      "f1 score = 0.9377450980392157\n"
     ]
    },
    {
     "name": "stderr",
     "output_type": "stream",
     "text": [
      "C:\\Users\\lucas.carlini\\AppData\\Local\\Continuum\\anaconda3\\lib\\site-packages\\sklearn\\metrics\\classification.py:635: DeprecationWarning: jaccard_similarity_score has been deprecated and replaced with jaccard_score. It will be removed in version 0.23. This implementation has surprising behavior for binary and multiclass classification tasks.\n",
      "  'and multiclass classification tasks.', DeprecationWarning)\n"
     ]
    }
   ],
   "source": [
    "pred_tree = DecTree.predict(X_test)\n",
    "print('jaccard score =',jaccard_similarity_score(y_test, pred_tree))\n",
    "print('f1 score =',f1_score(y_test, pred_tree, average='weighted'))"
   ]
  },
  {
   "cell_type": "markdown",
   "metadata": {},
   "source": [
    "Good results in both evaluation scores!\n",
    "\n",
    "Let's see the final result with all data by plotting the tree!"
   ]
  },
  {
   "cell_type": "code",
   "execution_count": 392,
   "metadata": {},
   "outputs": [
    {
     "data": {
      "text/plain": [
       "DecisionTreeClassifier(class_weight=None, criterion='gini', max_depth=3,\n",
       "                       max_features=None, max_leaf_nodes=None,\n",
       "                       min_impurity_decrease=0.0, min_impurity_split=None,\n",
       "                       min_samples_leaf=1, min_samples_split=2,\n",
       "                       min_weight_fraction_leaf=0.0, presort=False,\n",
       "                       random_state=2, splitter='best')"
      ]
     },
     "execution_count": 392,
     "metadata": {},
     "output_type": "execute_result"
    }
   ],
   "source": [
    "DecTree = DecisionTreeClassifier(criterion=\"gini\", max_depth = 3, random_state=2)\n",
    "DecTree.fit(neighborhoods,np.ravel(targets))"
   ]
  },
  {
   "cell_type": "code",
   "execution_count": 393,
   "metadata": {},
   "outputs": [
    {
     "data": {
      "image/svg+xml": [
       "<?xml version=\"1.0\" encoding=\"UTF-8\" standalone=\"no\"?>\r\n",
       "<!DOCTYPE svg PUBLIC \"-//W3C//DTD SVG 1.1//EN\"\r\n",
       " \"http://www.w3.org/Graphics/SVG/1.1/DTD/svg11.dtd\">\r\n",
       "<!-- Generated by graphviz version 2.38.0 (20140413.2041)\r\n",
       " -->\r\n",
       "<!-- Title: Tree Pages: 1 -->\r\n",
       "<svg width=\"670pt\" height=\"433pt\"\r\n",
       " viewBox=\"0.00 0.00 670.00 433.00\" xmlns=\"http://www.w3.org/2000/svg\" xmlns:xlink=\"http://www.w3.org/1999/xlink\">\r\n",
       "<g id=\"graph0\" class=\"graph\" transform=\"scale(1 1) rotate(0) translate(4 429)\">\r\n",
       "<title>Tree</title>\r\n",
       "<polygon fill=\"white\" stroke=\"none\" points=\"-4,4 -4,-429 666,-429 666,4 -4,4\"/>\r\n",
       "<!-- 0 -->\r\n",
       "<g id=\"node1\" class=\"node\"><title>0</title>\r\n",
       "<path fill=\"#fafdfe\" stroke=\"black\" d=\"M439.5,-425C439.5,-425 315.5,-425 315.5,-425 309.5,-425 303.5,-419 303.5,-413 303.5,-413 303.5,-354 303.5,-354 303.5,-348 309.5,-342 315.5,-342 315.5,-342 439.5,-342 439.5,-342 445.5,-342 451.5,-348 451.5,-354 451.5,-354 451.5,-413 451.5,-413 451.5,-419 445.5,-425 439.5,-425\"/>\r\n",
       "<text text-anchor=\"middle\" x=\"377.5\" y=\"-409.8\" font-family=\"Helvetica,sans-Serif\" font-size=\"14.00\">Wine Shop &lt;= 0.005</text>\r\n",
       "<text text-anchor=\"middle\" x=\"377.5\" y=\"-394.8\" font-family=\"Helvetica,sans-Serif\" font-size=\"14.00\">gini = 0.5</text>\r\n",
       "<text text-anchor=\"middle\" x=\"377.5\" y=\"-379.8\" font-family=\"Helvetica,sans-Serif\" font-size=\"14.00\">samples = 79</text>\r\n",
       "<text text-anchor=\"middle\" x=\"377.5\" y=\"-364.8\" font-family=\"Helvetica,sans-Serif\" font-size=\"14.00\">value = [39, 40]</text>\r\n",
       "<text text-anchor=\"middle\" x=\"377.5\" y=\"-349.8\" font-family=\"Helvetica,sans-Serif\" font-size=\"14.00\">class = New York</text>\r\n",
       "</g>\r\n",
       "<!-- 1 -->\r\n",
       "<g id=\"node2\" class=\"node\"><title>1</title>\r\n",
       "<path fill=\"#f0b68c\" stroke=\"black\" d=\"M360.5,-306C360.5,-306 184.5,-306 184.5,-306 178.5,-306 172.5,-300 172.5,-294 172.5,-294 172.5,-235 172.5,-235 172.5,-229 178.5,-223 184.5,-223 184.5,-223 360.5,-223 360.5,-223 366.5,-223 372.5,-229 372.5,-235 372.5,-235 372.5,-294 372.5,-294 372.5,-300 366.5,-306 360.5,-306\"/>\r\n",
       "<text text-anchor=\"middle\" x=\"272.5\" y=\"-290.8\" font-family=\"Helvetica,sans-Serif\" font-size=\"14.00\">Spanish Restaurant &lt;= 0.005</text>\r\n",
       "<text text-anchor=\"middle\" x=\"272.5\" y=\"-275.8\" font-family=\"Helvetica,sans-Serif\" font-size=\"14.00\">gini = 0.417</text>\r\n",
       "<text text-anchor=\"middle\" x=\"272.5\" y=\"-260.8\" font-family=\"Helvetica,sans-Serif\" font-size=\"14.00\">samples = 54</text>\r\n",
       "<text text-anchor=\"middle\" x=\"272.5\" y=\"-245.8\" font-family=\"Helvetica,sans-Serif\" font-size=\"14.00\">value = [38, 16]</text>\r\n",
       "<text text-anchor=\"middle\" x=\"272.5\" y=\"-230.8\" font-family=\"Helvetica,sans-Serif\" font-size=\"14.00\">class = Toronto</text>\r\n",
       "</g>\r\n",
       "<!-- 0&#45;&gt;1 -->\r\n",
       "<g id=\"edge1\" class=\"edge\"><title>0&#45;&gt;1</title>\r\n",
       "<path fill=\"none\" stroke=\"black\" d=\"M341.071,-341.907C332.845,-332.742 324.037,-322.927 315.567,-313.489\"/>\r\n",
       "<polygon fill=\"black\" stroke=\"black\" points=\"318.149,-311.126 308.865,-306.021 312.939,-315.801 318.149,-311.126\"/>\r\n",
       "<text text-anchor=\"middle\" x=\"307.515\" y=\"-327.284\" font-family=\"Helvetica,sans-Serif\" font-size=\"14.00\">True</text>\r\n",
       "</g>\r\n",
       "<!-- 6 -->\r\n",
       "<g id=\"node7\" class=\"node\"><title>6</title>\r\n",
       "<path fill=\"#41a1e6\" stroke=\"black\" d=\"M564,-306C564,-306 403,-306 403,-306 397,-306 391,-300 391,-294 391,-294 391,-235 391,-235 391,-229 397,-223 403,-223 403,-223 564,-223 564,-223 570,-223 576,-229 576,-235 576,-235 576,-294 576,-294 576,-300 570,-306 564,-306\"/>\r\n",
       "<text text-anchor=\"middle\" x=\"483.5\" y=\"-290.8\" font-family=\"Helvetica,sans-Serif\" font-size=\"14.00\">Sushi Restaurant &lt;= 0.044</text>\r\n",
       "<text text-anchor=\"middle\" x=\"483.5\" y=\"-275.8\" font-family=\"Helvetica,sans-Serif\" font-size=\"14.00\">gini = 0.077</text>\r\n",
       "<text text-anchor=\"middle\" x=\"483.5\" y=\"-260.8\" font-family=\"Helvetica,sans-Serif\" font-size=\"14.00\">samples = 25</text>\r\n",
       "<text text-anchor=\"middle\" x=\"483.5\" y=\"-245.8\" font-family=\"Helvetica,sans-Serif\" font-size=\"14.00\">value = [1, 24]</text>\r\n",
       "<text text-anchor=\"middle\" x=\"483.5\" y=\"-230.8\" font-family=\"Helvetica,sans-Serif\" font-size=\"14.00\">class = New York</text>\r\n",
       "</g>\r\n",
       "<!-- 0&#45;&gt;6 -->\r\n",
       "<g id=\"edge6\" class=\"edge\"><title>0&#45;&gt;6</title>\r\n",
       "<path fill=\"none\" stroke=\"black\" d=\"M414.276,-341.907C422.58,-332.742 431.472,-322.927 440.023,-313.489\"/>\r\n",
       "<polygon fill=\"black\" stroke=\"black\" points=\"442.669,-315.782 446.789,-306.021 437.481,-311.082 442.669,-315.782\"/>\r\n",
       "<text text-anchor=\"middle\" x=\"448.021\" y=\"-327.29\" font-family=\"Helvetica,sans-Serif\" font-size=\"14.00\">False</text>\r\n",
       "</g>\r\n",
       "<!-- 2 -->\r\n",
       "<g id=\"node3\" class=\"node\"><title>2</title>\r\n",
       "<path fill=\"#eca26d\" stroke=\"black\" d=\"M196.5,-187C196.5,-187 56.5,-187 56.5,-187 50.5,-187 44.5,-181 44.5,-175 44.5,-175 44.5,-116 44.5,-116 44.5,-110 50.5,-104 56.5,-104 56.5,-104 196.5,-104 196.5,-104 202.5,-104 208.5,-110 208.5,-116 208.5,-116 208.5,-175 208.5,-175 208.5,-181 202.5,-187 196.5,-187\"/>\r\n",
       "<text text-anchor=\"middle\" x=\"126.5\" y=\"-171.8\" font-family=\"Helvetica,sans-Serif\" font-size=\"14.00\">Deli / Bodega &lt;= 0.035</text>\r\n",
       "<text text-anchor=\"middle\" x=\"126.5\" y=\"-156.8\" font-family=\"Helvetica,sans-Serif\" font-size=\"14.00\">gini = 0.33</text>\r\n",
       "<text text-anchor=\"middle\" x=\"126.5\" y=\"-141.8\" font-family=\"Helvetica,sans-Serif\" font-size=\"14.00\">samples = 48</text>\r\n",
       "<text text-anchor=\"middle\" x=\"126.5\" y=\"-126.8\" font-family=\"Helvetica,sans-Serif\" font-size=\"14.00\">value = [38, 10]</text>\r\n",
       "<text text-anchor=\"middle\" x=\"126.5\" y=\"-111.8\" font-family=\"Helvetica,sans-Serif\" font-size=\"14.00\">class = Toronto</text>\r\n",
       "</g>\r\n",
       "<!-- 1&#45;&gt;2 -->\r\n",
       "<g id=\"edge2\" class=\"edge\"><title>1&#45;&gt;2</title>\r\n",
       "<path fill=\"none\" stroke=\"black\" d=\"M221.846,-222.907C209.955,-213.379 197.189,-203.148 184.987,-193.37\"/>\r\n",
       "<polygon fill=\"black\" stroke=\"black\" points=\"187.057,-190.543 177.064,-187.021 182.679,-196.006 187.057,-190.543\"/>\r\n",
       "</g>\r\n",
       "<!-- 5 -->\r\n",
       "<g id=\"node6\" class=\"node\"><title>5</title>\r\n",
       "<path fill=\"#399de5\" stroke=\"black\" d=\"M340,-179.5C340,-179.5 239,-179.5 239,-179.5 233,-179.5 227,-173.5 227,-167.5 227,-167.5 227,-123.5 227,-123.5 227,-117.5 233,-111.5 239,-111.5 239,-111.5 340,-111.5 340,-111.5 346,-111.5 352,-117.5 352,-123.5 352,-123.5 352,-167.5 352,-167.5 352,-173.5 346,-179.5 340,-179.5\"/>\r\n",
       "<text text-anchor=\"middle\" x=\"289.5\" y=\"-164.3\" font-family=\"Helvetica,sans-Serif\" font-size=\"14.00\">gini = 0.0</text>\r\n",
       "<text text-anchor=\"middle\" x=\"289.5\" y=\"-149.3\" font-family=\"Helvetica,sans-Serif\" font-size=\"14.00\">samples = 6</text>\r\n",
       "<text text-anchor=\"middle\" x=\"289.5\" y=\"-134.3\" font-family=\"Helvetica,sans-Serif\" font-size=\"14.00\">value = [0, 6]</text>\r\n",
       "<text text-anchor=\"middle\" x=\"289.5\" y=\"-119.3\" font-family=\"Helvetica,sans-Serif\" font-size=\"14.00\">class = New York</text>\r\n",
       "</g>\r\n",
       "<!-- 1&#45;&gt;5 -->\r\n",
       "<g id=\"edge5\" class=\"edge\"><title>1&#45;&gt;5</title>\r\n",
       "<path fill=\"none\" stroke=\"black\" d=\"M278.398,-222.907C279.953,-212.204 281.637,-200.615 283.212,-189.776\"/>\r\n",
       "<polygon fill=\"black\" stroke=\"black\" points=\"286.707,-190.066 284.681,-179.667 279.779,-189.06 286.707,-190.066\"/>\r\n",
       "</g>\r\n",
       "<!-- 3 -->\r\n",
       "<g id=\"node4\" class=\"node\"><title>3</title>\r\n",
       "<path fill=\"#e99558\" stroke=\"black\" d=\"M103,-68C103,-68 12,-68 12,-68 6,-68 0,-62 0,-56 0,-56 0,-12 0,-12 0,-6 6,-0 12,-0 12,-0 103,-0 103,-0 109,-0 115,-6 115,-12 115,-12 115,-56 115,-56 115,-62 109,-68 103,-68\"/>\r\n",
       "<text text-anchor=\"middle\" x=\"57.5\" y=\"-52.8\" font-family=\"Helvetica,sans-Serif\" font-size=\"14.00\">gini = 0.236</text>\r\n",
       "<text text-anchor=\"middle\" x=\"57.5\" y=\"-37.8\" font-family=\"Helvetica,sans-Serif\" font-size=\"14.00\">samples = 44</text>\r\n",
       "<text text-anchor=\"middle\" x=\"57.5\" y=\"-22.8\" font-family=\"Helvetica,sans-Serif\" font-size=\"14.00\">value = [38, 6]</text>\r\n",
       "<text text-anchor=\"middle\" x=\"57.5\" y=\"-7.8\" font-family=\"Helvetica,sans-Serif\" font-size=\"14.00\">class = Toronto</text>\r\n",
       "</g>\r\n",
       "<!-- 2&#45;&gt;3 -->\r\n",
       "<g id=\"edge3\" class=\"edge\"><title>2&#45;&gt;3</title>\r\n",
       "<path fill=\"none\" stroke=\"black\" d=\"M100.807,-103.726C95.2895,-94.9703 89.4499,-85.7032 83.9059,-76.9051\"/>\r\n",
       "<polygon fill=\"black\" stroke=\"black\" points=\"86.7757,-74.8941 78.4833,-68.2996 80.8534,-78.6259 86.7757,-74.8941\"/>\r\n",
       "</g>\r\n",
       "<!-- 4 -->\r\n",
       "<g id=\"node5\" class=\"node\"><title>4</title>\r\n",
       "<path fill=\"#399de5\" stroke=\"black\" d=\"M246,-68C246,-68 145,-68 145,-68 139,-68 133,-62 133,-56 133,-56 133,-12 133,-12 133,-6 139,-0 145,-0 145,-0 246,-0 246,-0 252,-0 258,-6 258,-12 258,-12 258,-56 258,-56 258,-62 252,-68 246,-68\"/>\r\n",
       "<text text-anchor=\"middle\" x=\"195.5\" y=\"-52.8\" font-family=\"Helvetica,sans-Serif\" font-size=\"14.00\">gini = 0.0</text>\r\n",
       "<text text-anchor=\"middle\" x=\"195.5\" y=\"-37.8\" font-family=\"Helvetica,sans-Serif\" font-size=\"14.00\">samples = 4</text>\r\n",
       "<text text-anchor=\"middle\" x=\"195.5\" y=\"-22.8\" font-family=\"Helvetica,sans-Serif\" font-size=\"14.00\">value = [0, 4]</text>\r\n",
       "<text text-anchor=\"middle\" x=\"195.5\" y=\"-7.8\" font-family=\"Helvetica,sans-Serif\" font-size=\"14.00\">class = New York</text>\r\n",
       "</g>\r\n",
       "<!-- 2&#45;&gt;4 -->\r\n",
       "<g id=\"edge4\" class=\"edge\"><title>2&#45;&gt;4</title>\r\n",
       "<path fill=\"none\" stroke=\"black\" d=\"M152.193,-103.726C157.711,-94.9703 163.55,-85.7032 169.094,-76.9051\"/>\r\n",
       "<polygon fill=\"black\" stroke=\"black\" points=\"172.147,-78.6259 174.517,-68.2996 166.224,-74.8941 172.147,-78.6259\"/>\r\n",
       "</g>\r\n",
       "<!-- 7 -->\r\n",
       "<g id=\"node8\" class=\"node\"><title>7</title>\r\n",
       "<path fill=\"#399de5\" stroke=\"black\" d=\"M517,-179.5C517,-179.5 416,-179.5 416,-179.5 410,-179.5 404,-173.5 404,-167.5 404,-167.5 404,-123.5 404,-123.5 404,-117.5 410,-111.5 416,-111.5 416,-111.5 517,-111.5 517,-111.5 523,-111.5 529,-117.5 529,-123.5 529,-123.5 529,-167.5 529,-167.5 529,-173.5 523,-179.5 517,-179.5\"/>\r\n",
       "<text text-anchor=\"middle\" x=\"466.5\" y=\"-164.3\" font-family=\"Helvetica,sans-Serif\" font-size=\"14.00\">gini = 0.0</text>\r\n",
       "<text text-anchor=\"middle\" x=\"466.5\" y=\"-149.3\" font-family=\"Helvetica,sans-Serif\" font-size=\"14.00\">samples = 24</text>\r\n",
       "<text text-anchor=\"middle\" x=\"466.5\" y=\"-134.3\" font-family=\"Helvetica,sans-Serif\" font-size=\"14.00\">value = [0, 24]</text>\r\n",
       "<text text-anchor=\"middle\" x=\"466.5\" y=\"-119.3\" font-family=\"Helvetica,sans-Serif\" font-size=\"14.00\">class = New York</text>\r\n",
       "</g>\r\n",
       "<!-- 6&#45;&gt;7 -->\r\n",
       "<g id=\"edge7\" class=\"edge\"><title>6&#45;&gt;7</title>\r\n",
       "<path fill=\"none\" stroke=\"black\" d=\"M477.602,-222.907C476.047,-212.204 474.363,-200.615 472.788,-189.776\"/>\r\n",
       "<polygon fill=\"black\" stroke=\"black\" points=\"476.221,-189.06 471.319,-179.667 469.293,-190.066 476.221,-189.06\"/>\r\n",
       "</g>\r\n",
       "<!-- 8 -->\r\n",
       "<g id=\"node9\" class=\"node\"><title>8</title>\r\n",
       "<path fill=\"#e58139\" stroke=\"black\" d=\"M650,-179.5C650,-179.5 559,-179.5 559,-179.5 553,-179.5 547,-173.5 547,-167.5 547,-167.5 547,-123.5 547,-123.5 547,-117.5 553,-111.5 559,-111.5 559,-111.5 650,-111.5 650,-111.5 656,-111.5 662,-117.5 662,-123.5 662,-123.5 662,-167.5 662,-167.5 662,-173.5 656,-179.5 650,-179.5\"/>\r\n",
       "<text text-anchor=\"middle\" x=\"604.5\" y=\"-164.3\" font-family=\"Helvetica,sans-Serif\" font-size=\"14.00\">gini = 0.0</text>\r\n",
       "<text text-anchor=\"middle\" x=\"604.5\" y=\"-149.3\" font-family=\"Helvetica,sans-Serif\" font-size=\"14.00\">samples = 1</text>\r\n",
       "<text text-anchor=\"middle\" x=\"604.5\" y=\"-134.3\" font-family=\"Helvetica,sans-Serif\" font-size=\"14.00\">value = [1, 0]</text>\r\n",
       "<text text-anchor=\"middle\" x=\"604.5\" y=\"-119.3\" font-family=\"Helvetica,sans-Serif\" font-size=\"14.00\">class = Toronto</text>\r\n",
       "</g>\r\n",
       "<!-- 6&#45;&gt;8 -->\r\n",
       "<g id=\"edge8\" class=\"edge\"><title>6&#45;&gt;8</title>\r\n",
       "<path fill=\"none\" stroke=\"black\" d=\"M525.48,-222.907C537.577,-211.211 550.766,-198.457 562.843,-186.78\"/>\r\n",
       "<polygon fill=\"black\" stroke=\"black\" points=\"565.443,-189.134 570.199,-179.667 560.577,-184.102 565.443,-189.134\"/>\r\n",
       "</g>\r\n",
       "</g>\r\n",
       "</svg>\r\n"
      ],
      "text/plain": [
       "<graphviz.files.Source at 0x221d3e47748>"
      ]
     },
     "metadata": {},
     "output_type": "display_data"
    }
   ],
   "source": [
    "from IPython.display import display\n",
    "display(graphviz.Source(export_graphviz(DecTree,out_file=None,feature_names=neighborhoods.columns,\n",
    "                                filled=True, rounded=True,class_names=['Toronto','New York'])))"
   ]
  },
  {
   "cell_type": "markdown",
   "metadata": {},
   "source": [
    "### 4. Results and Discussion\n",
    "\n",
    "#### In the first section of our Methodology, we clustered the neighborhood of each city and plotted it! We were able to visualise similar neighborhoods in the map of each city! Then, we applied some methods of dimensionality reduction in order to evaluate our clustering algorithm! We were able to see that k-Means performed well when clustering Toronto neighborhoods, in the other hand, it performed poorly when applied in New York data. That may had happened for some reasons: firstly, the elbow method was not helpful to identify the optimal number of clusters in the data set, leading to the use of a \"random\" number of cluster, the use of PCA prior the computation of the cluster may help to solve this problem; secondly, k-Means are not able to identify overlapped cluster, the use of DBSCAN may solve this since it are able to identify these kind of clusters and outliers as well! Lastly, we are suffering of the curse of dimensionality, the number of features are much larger than the number of samples, this difference have a great impact in t-SNE and, maybe, k-Means.\n",
    "\n",
    "#### In the second section, we modelled our data in order to classify it! Firstly, we performed the PCA+LDA method to computate the discriminant hyperplane in order to verify if our classification problem are linearly solved! By plotting the results with the corresponding probability density functions we were able to clearly visualise the separation among sample groups! And finally, we used Decision Trees to classify  each neighborhood as a neighborhood of New York or a neighborhood of Toronto. The evaluation scores showed the great performance of our model when classifing not-seen-before samples!\n",
    "\n",
    "\n",
    "### 5. Conclusions\n",
    "\n",
    "#### After this massive analysis of Toronto and New York neighborhood data, are we able to say \"This is so New York\"? Yes, we can say that! Analysing our results, New York seems to have a higher frequency of wine shops in its neighborhoods than Toronto! Moreover, Sushi Restaurants are not so popular in New York neighborhoods, while Deli / Bodegas shops are more frequent on it than it is in Toronto!\n",
    "\n",
    "#### This capstone project showed both data mining and machine learning uses in real data. We were able to implement, evaluate and apply a great number of algorithms and methods such as k-Means, Principal Component Analysis, Linear Discriminant Analysis, t-distributed Stochastic Neighbor Embedding and Decisions Trees!\n",
    "\n",
    "#### As future work, we propose the use of data of more cities around the world in order to investigate the differences and similarities among each one. Moreover, we suggest the use of DBSCAN (or other clustering algorithm) instead of k-Means, since the latter presented some instabilities when evaluating New York neighborhood clusters! Lastly, we propose the use of different features to classify each city, such as number of non-natives, imigrations per year and economic indicators."
   ]
  }
 ],
 "metadata": {
  "kernelspec": {
   "display_name": "Python 3",
   "language": "python",
   "name": "python3"
  },
  "language_info": {
   "codemirror_mode": {
    "name": "ipython",
    "version": 3
   },
   "file_extension": ".py",
   "mimetype": "text/x-python",
   "name": "python",
   "nbconvert_exporter": "python",
   "pygments_lexer": "ipython3",
   "version": "3.7.3"
  }
 },
 "nbformat": 4,
 "nbformat_minor": 2
}
